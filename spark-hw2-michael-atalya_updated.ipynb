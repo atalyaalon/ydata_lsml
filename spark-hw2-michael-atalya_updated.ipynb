{
 "cells": [
  {
   "cell_type": "markdown",
   "metadata": {
    "toc": true
   },
   "source": [
    "<h1>Table of Contents<span class=\"tocSkip\"></span></h1>\n",
    "<div class=\"toc\"><ul class=\"toc-item\"><li><span><a href=\"#SparkSession\" data-toc-modified-id=\"SparkSession-1\"><span class=\"toc-item-num\">1&nbsp;&nbsp;</span>SparkSession</a></span></li><li><span><a href=\"#Register-all-tables-for-sql-queries\" data-toc-modified-id=\"Register-all-tables-for-sql-queries-2\"><span class=\"toc-item-num\">2&nbsp;&nbsp;</span>Register all tables for sql queries</a></span></li><li><span><a href=\"#Prepare-dataset-for-VW\" data-toc-modified-id=\"Prepare-dataset-for-VW-3\"><span class=\"toc-item-num\">3&nbsp;&nbsp;</span>Prepare dataset for VW</a></span></li><li><span><a href=\"#Train-VW\" data-toc-modified-id=\"Train-VW-4\"><span class=\"toc-item-num\">4&nbsp;&nbsp;</span>Train VW</a></span></li><li><span><a href=\"#Homework-2:-Baseline-VW-model\" data-toc-modified-id=\"Homework-2:-Baseline-VW-model-5\"><span class=\"toc-item-num\">5&nbsp;&nbsp;</span>Homework 2: Baseline VW model</a></span><ul class=\"toc-item\"><li><span><a href=\"#Our-Code\" data-toc-modified-id=\"Our-Code-5.1\"><span class=\"toc-item-num\">5.1&nbsp;&nbsp;</span>Our Code</a></span><ul class=\"toc-item\"><li><span><a href=\"#Create-clicks-table\" data-toc-modified-id=\"Create-clicks-table-5.1.1\"><span class=\"toc-item-num\">5.1.1&nbsp;&nbsp;</span>Create clicks table</a></span></li><li><span><a href=\"#Create-Additional-Features\" data-toc-modified-id=\"Create-Additional-Features-5.1.2\"><span class=\"toc-item-num\">5.1.2&nbsp;&nbsp;</span>Create Additional Features</a></span><ul class=\"toc-item\"><li><span><a href=\"#per-document-id---get-topics\" data-toc-modified-id=\"per-document-id---get-topics-5.1.2.1\"><span class=\"toc-item-num\">5.1.2.1&nbsp;&nbsp;</span>per document id - get topics</a></span></li></ul></li><li><span><a href=\"#Join-All-Features\" data-toc-modified-id=\"Join-All-Features-5.1.3\"><span class=\"toc-item-num\">5.1.3&nbsp;&nbsp;</span>Join All Features</a></span></li><li><span><a href=\"#split-features-to-train-test\" data-toc-modified-id=\"split-features-to-train-test-5.1.4\"><span class=\"toc-item-num\">5.1.4&nbsp;&nbsp;</span>split features to train test</a></span></li><li><span><a href=\"#Train-VW\" data-toc-modified-id=\"Train-VW-5.1.5\"><span class=\"toc-item-num\">5.1.5&nbsp;&nbsp;</span>Train VW</a></span></li><li><span><a href=\"#Predict\" data-toc-modified-id=\"Predict-5.1.6\"><span class=\"toc-item-num\">5.1.6&nbsp;&nbsp;</span>Predict</a></span></li><li><span><a href=\"#format-file-for-Kaggle-submission\" data-toc-modified-id=\"format-file-for-Kaggle-submission-5.1.7\"><span class=\"toc-item-num\">5.1.7&nbsp;&nbsp;</span>format file for Kaggle submission</a></span></li><li><span><a href=\"#Create-submission-file\" data-toc-modified-id=\"Create-submission-file-5.1.8\"><span class=\"toc-item-num\">5.1.8&nbsp;&nbsp;</span>Create submission file</a></span></li><li><span><a href=\"#Add-kaggle's-credentials---Make-sure-to-perform-following-commands-on-master-node\" data-toc-modified-id=\"Add-kaggle's-credentials---Make-sure-to-perform-following-commands-on-master-node-5.1.9\"><span class=\"toc-item-num\">5.1.9&nbsp;&nbsp;</span>Add kaggle's credentials - Make sure to perform following commands on master node</a></span></li><li><span><a href=\"#submit-our-HW-to-Kaggle\" data-toc-modified-id=\"submit-our-HW-to-Kaggle-5.1.10\"><span class=\"toc-item-num\">5.1.10&nbsp;&nbsp;</span>submit our HW to Kaggle</a></span></li></ul></li></ul></li></ul></div>"
   ]
  },
  {
   "cell_type": "code",
   "execution_count": 1,
   "metadata": {},
   "outputs": [],
   "source": [
    "# Checklist:\n",
    "# AWS emr-5.29.0\n",
    "# MASTER r5d.8xlarge 1x, no EBS\n",
    "# CORE r5d.8xlarge 4x, no EBS\n",
    "# Custom bootstrap action: s3://ydatazian/bootstrap.sh\n",
    "# Allow ssh in master node security group"
   ]
  },
  {
   "cell_type": "code",
   "execution_count": 1,
   "metadata": {},
   "outputs": [],
   "source": [
    "import tqdm.notebook as tqdm\n",
    "import numpy as np\n",
    "import scipy\n",
    "import sklearn\n",
    "import matplotlib.pyplot as plt"
   ]
  },
  {
   "cell_type": "markdown",
   "metadata": {},
   "source": [
    "# SparkSession\n",
    "\n",
    "https://spark.apache.org/docs/2.4.4/api/python/pyspark.html\n",
    "\n",
    "https://spark.apache.org/docs/2.4.4/api/python/pyspark.sql.html"
   ]
  },
  {
   "cell_type": "code",
   "execution_count": 2,
   "metadata": {
    "scrolled": true
   },
   "outputs": [
    {
     "name": "stdout",
     "output_type": "stream",
     "text": [
      "NameNode: http://ec2-3-83-136-182.compute-1.amazonaws.com:50070\n",
      "YARN: http://ec2-3-83-136-182.compute-1.amazonaws.com:8088\n",
      "Spark UI: http://ec2-3-83-136-182.compute-1.amazonaws.com:20888/proxy/application_1590860721272_0002\n"
     ]
    }
   ],
   "source": [
    "import findspark\n",
    "findspark.init()\n",
    "\n",
    "import spark_utils\n",
    "from pyspark import SparkContext, SparkConf\n",
    "from pyspark.sql import SparkSession\n",
    "sc = SparkContext(\"yarn\", \"My App\", conf=spark_utils.get_spark_conf())\n",
    "se = SparkSession(sc)\n",
    "spark_utils.print_ui_links()"
   ]
  },
  {
   "cell_type": "markdown",
   "metadata": {},
   "source": [
    "# Register all tables for sql queries"
   ]
  },
  {
   "cell_type": "code",
   "execution_count": 3,
   "metadata": {},
   "outputs": [
    {
     "data": {
      "application/vnd.jupyter.widget-view+json": {
       "model_id": "7e11caf8329748ada8c15041f6a8ab1a",
       "version_major": 2,
       "version_minor": 0
      },
      "text/plain": [
       "HBox(children=(FloatProgress(value=0.0, max=10.0), HTML(value='')))"
      ]
     },
     "metadata": {},
     "output_type": "display_data"
    },
    {
     "name": "stdout",
     "output_type": "stream",
     "text": [
      "clicks_test\n"
     ]
    },
    {
     "data": {
      "text/html": [
       "<div>\n",
       "<style scoped>\n",
       "    .dataframe tbody tr th:only-of-type {\n",
       "        vertical-align: middle;\n",
       "    }\n",
       "\n",
       "    .dataframe tbody tr th {\n",
       "        vertical-align: top;\n",
       "    }\n",
       "\n",
       "    .dataframe thead th {\n",
       "        text-align: right;\n",
       "    }\n",
       "</style>\n",
       "<table border=\"1\" class=\"dataframe\">\n",
       "  <thead>\n",
       "    <tr style=\"text-align: right;\">\n",
       "      <th></th>\n",
       "      <th>display_id</th>\n",
       "      <th>ad_id</th>\n",
       "    </tr>\n",
       "  </thead>\n",
       "  <tbody>\n",
       "    <tr>\n",
       "      <th>0</th>\n",
       "      <td>16874594</td>\n",
       "      <td>66758</td>\n",
       "    </tr>\n",
       "    <tr>\n",
       "      <th>1</th>\n",
       "      <td>16874594</td>\n",
       "      <td>150083</td>\n",
       "    </tr>\n",
       "    <tr>\n",
       "      <th>2</th>\n",
       "      <td>16874594</td>\n",
       "      <td>162754</td>\n",
       "    </tr>\n",
       "  </tbody>\n",
       "</table>\n",
       "</div>"
      ],
      "text/plain": [
       "  display_id   ad_id\n",
       "0   16874594   66758\n",
       "1   16874594  150083\n",
       "2   16874594  162754"
      ]
     },
     "metadata": {},
     "output_type": "display_data"
    },
    {
     "name": "stdout",
     "output_type": "stream",
     "text": [
      "clicks_train\n"
     ]
    },
    {
     "data": {
      "text/html": [
       "<div>\n",
       "<style scoped>\n",
       "    .dataframe tbody tr th:only-of-type {\n",
       "        vertical-align: middle;\n",
       "    }\n",
       "\n",
       "    .dataframe tbody tr th {\n",
       "        vertical-align: top;\n",
       "    }\n",
       "\n",
       "    .dataframe thead th {\n",
       "        text-align: right;\n",
       "    }\n",
       "</style>\n",
       "<table border=\"1\" class=\"dataframe\">\n",
       "  <thead>\n",
       "    <tr style=\"text-align: right;\">\n",
       "      <th></th>\n",
       "      <th>display_id</th>\n",
       "      <th>ad_id</th>\n",
       "      <th>clicked</th>\n",
       "    </tr>\n",
       "  </thead>\n",
       "  <tbody>\n",
       "    <tr>\n",
       "      <th>0</th>\n",
       "      <td>1</td>\n",
       "      <td>42337</td>\n",
       "      <td>0</td>\n",
       "    </tr>\n",
       "    <tr>\n",
       "      <th>1</th>\n",
       "      <td>1</td>\n",
       "      <td>139684</td>\n",
       "      <td>0</td>\n",
       "    </tr>\n",
       "    <tr>\n",
       "      <th>2</th>\n",
       "      <td>1</td>\n",
       "      <td>144739</td>\n",
       "      <td>1</td>\n",
       "    </tr>\n",
       "  </tbody>\n",
       "</table>\n",
       "</div>"
      ],
      "text/plain": [
       "  display_id   ad_id clicked\n",
       "0          1   42337       0\n",
       "1          1  139684       0\n",
       "2          1  144739       1"
      ]
     },
     "metadata": {},
     "output_type": "display_data"
    },
    {
     "name": "stdout",
     "output_type": "stream",
     "text": [
      "documents_categories\n"
     ]
    },
    {
     "data": {
      "text/html": [
       "<div>\n",
       "<style scoped>\n",
       "    .dataframe tbody tr th:only-of-type {\n",
       "        vertical-align: middle;\n",
       "    }\n",
       "\n",
       "    .dataframe tbody tr th {\n",
       "        vertical-align: top;\n",
       "    }\n",
       "\n",
       "    .dataframe thead th {\n",
       "        text-align: right;\n",
       "    }\n",
       "</style>\n",
       "<table border=\"1\" class=\"dataframe\">\n",
       "  <thead>\n",
       "    <tr style=\"text-align: right;\">\n",
       "      <th></th>\n",
       "      <th>document_id</th>\n",
       "      <th>category_id</th>\n",
       "      <th>confidence_level</th>\n",
       "    </tr>\n",
       "  </thead>\n",
       "  <tbody>\n",
       "    <tr>\n",
       "      <th>0</th>\n",
       "      <td>1595802</td>\n",
       "      <td>1611</td>\n",
       "      <td>0.92</td>\n",
       "    </tr>\n",
       "    <tr>\n",
       "      <th>1</th>\n",
       "      <td>1595802</td>\n",
       "      <td>1610</td>\n",
       "      <td>0.07</td>\n",
       "    </tr>\n",
       "    <tr>\n",
       "      <th>2</th>\n",
       "      <td>1524246</td>\n",
       "      <td>1807</td>\n",
       "      <td>0.92</td>\n",
       "    </tr>\n",
       "  </tbody>\n",
       "</table>\n",
       "</div>"
      ],
      "text/plain": [
       "  document_id category_id confidence_level\n",
       "0     1595802        1611             0.92\n",
       "1     1595802        1610             0.07\n",
       "2     1524246        1807             0.92"
      ]
     },
     "metadata": {},
     "output_type": "display_data"
    },
    {
     "name": "stdout",
     "output_type": "stream",
     "text": [
      "documents_entities\n"
     ]
    },
    {
     "data": {
      "text/html": [
       "<div>\n",
       "<style scoped>\n",
       "    .dataframe tbody tr th:only-of-type {\n",
       "        vertical-align: middle;\n",
       "    }\n",
       "\n",
       "    .dataframe tbody tr th {\n",
       "        vertical-align: top;\n",
       "    }\n",
       "\n",
       "    .dataframe thead th {\n",
       "        text-align: right;\n",
       "    }\n",
       "</style>\n",
       "<table border=\"1\" class=\"dataframe\">\n",
       "  <thead>\n",
       "    <tr style=\"text-align: right;\">\n",
       "      <th></th>\n",
       "      <th>document_id</th>\n",
       "      <th>entity_id</th>\n",
       "      <th>confidence_level</th>\n",
       "    </tr>\n",
       "  </thead>\n",
       "  <tbody>\n",
       "    <tr>\n",
       "      <th>0</th>\n",
       "      <td>1524246</td>\n",
       "      <td>f9eec25663db4cd83183f5c805186f16</td>\n",
       "      <td>0.672865314504701</td>\n",
       "    </tr>\n",
       "    <tr>\n",
       "      <th>1</th>\n",
       "      <td>1524246</td>\n",
       "      <td>55ebcfbdaff1d6f60b3907151f38527a</td>\n",
       "      <td>0.399113728441297</td>\n",
       "    </tr>\n",
       "    <tr>\n",
       "      <th>2</th>\n",
       "      <td>1524246</td>\n",
       "      <td>839907a972930b17b125eb0247898412</td>\n",
       "      <td>0.392095749652966</td>\n",
       "    </tr>\n",
       "  </tbody>\n",
       "</table>\n",
       "</div>"
      ],
      "text/plain": [
       "  document_id                         entity_id   confidence_level\n",
       "0     1524246  f9eec25663db4cd83183f5c805186f16  0.672865314504701\n",
       "1     1524246  55ebcfbdaff1d6f60b3907151f38527a  0.399113728441297\n",
       "2     1524246  839907a972930b17b125eb0247898412  0.392095749652966"
      ]
     },
     "metadata": {},
     "output_type": "display_data"
    },
    {
     "name": "stdout",
     "output_type": "stream",
     "text": [
      "documents_meta\n"
     ]
    },
    {
     "data": {
      "text/html": [
       "<div>\n",
       "<style scoped>\n",
       "    .dataframe tbody tr th:only-of-type {\n",
       "        vertical-align: middle;\n",
       "    }\n",
       "\n",
       "    .dataframe tbody tr th {\n",
       "        vertical-align: top;\n",
       "    }\n",
       "\n",
       "    .dataframe thead th {\n",
       "        text-align: right;\n",
       "    }\n",
       "</style>\n",
       "<table border=\"1\" class=\"dataframe\">\n",
       "  <thead>\n",
       "    <tr style=\"text-align: right;\">\n",
       "      <th></th>\n",
       "      <th>document_id</th>\n",
       "      <th>source_id</th>\n",
       "      <th>publisher_id</th>\n",
       "      <th>publish_time</th>\n",
       "    </tr>\n",
       "  </thead>\n",
       "  <tbody>\n",
       "    <tr>\n",
       "      <th>0</th>\n",
       "      <td>1595802</td>\n",
       "      <td>1</td>\n",
       "      <td>603</td>\n",
       "      <td>2016-06-05 00:00:00</td>\n",
       "    </tr>\n",
       "    <tr>\n",
       "      <th>1</th>\n",
       "      <td>1524246</td>\n",
       "      <td>1</td>\n",
       "      <td>603</td>\n",
       "      <td>2016-05-26 11:00:00</td>\n",
       "    </tr>\n",
       "    <tr>\n",
       "      <th>2</th>\n",
       "      <td>1617787</td>\n",
       "      <td>1</td>\n",
       "      <td>603</td>\n",
       "      <td>2016-05-27 00:00:00</td>\n",
       "    </tr>\n",
       "  </tbody>\n",
       "</table>\n",
       "</div>"
      ],
      "text/plain": [
       "  document_id source_id publisher_id         publish_time\n",
       "0     1595802         1          603  2016-06-05 00:00:00\n",
       "1     1524246         1          603  2016-05-26 11:00:00\n",
       "2     1617787         1          603  2016-05-27 00:00:00"
      ]
     },
     "metadata": {},
     "output_type": "display_data"
    },
    {
     "name": "stdout",
     "output_type": "stream",
     "text": [
      "documents_topics\n"
     ]
    },
    {
     "data": {
      "text/html": [
       "<div>\n",
       "<style scoped>\n",
       "    .dataframe tbody tr th:only-of-type {\n",
       "        vertical-align: middle;\n",
       "    }\n",
       "\n",
       "    .dataframe tbody tr th {\n",
       "        vertical-align: top;\n",
       "    }\n",
       "\n",
       "    .dataframe thead th {\n",
       "        text-align: right;\n",
       "    }\n",
       "</style>\n",
       "<table border=\"1\" class=\"dataframe\">\n",
       "  <thead>\n",
       "    <tr style=\"text-align: right;\">\n",
       "      <th></th>\n",
       "      <th>document_id</th>\n",
       "      <th>topic_id</th>\n",
       "      <th>confidence_level</th>\n",
       "    </tr>\n",
       "  </thead>\n",
       "  <tbody>\n",
       "    <tr>\n",
       "      <th>0</th>\n",
       "      <td>1595802</td>\n",
       "      <td>140</td>\n",
       "      <td>0.0731131601068925</td>\n",
       "    </tr>\n",
       "    <tr>\n",
       "      <th>1</th>\n",
       "      <td>1595802</td>\n",
       "      <td>16</td>\n",
       "      <td>0.0594164867373976</td>\n",
       "    </tr>\n",
       "    <tr>\n",
       "      <th>2</th>\n",
       "      <td>1595802</td>\n",
       "      <td>143</td>\n",
       "      <td>0.0454207537554526</td>\n",
       "    </tr>\n",
       "  </tbody>\n",
       "</table>\n",
       "</div>"
      ],
      "text/plain": [
       "  document_id topic_id    confidence_level\n",
       "0     1595802      140  0.0731131601068925\n",
       "1     1595802       16  0.0594164867373976\n",
       "2     1595802      143  0.0454207537554526"
      ]
     },
     "metadata": {},
     "output_type": "display_data"
    },
    {
     "name": "stdout",
     "output_type": "stream",
     "text": [
      "events\n"
     ]
    },
    {
     "data": {
      "text/html": [
       "<div>\n",
       "<style scoped>\n",
       "    .dataframe tbody tr th:only-of-type {\n",
       "        vertical-align: middle;\n",
       "    }\n",
       "\n",
       "    .dataframe tbody tr th {\n",
       "        vertical-align: top;\n",
       "    }\n",
       "\n",
       "    .dataframe thead th {\n",
       "        text-align: right;\n",
       "    }\n",
       "</style>\n",
       "<table border=\"1\" class=\"dataframe\">\n",
       "  <thead>\n",
       "    <tr style=\"text-align: right;\">\n",
       "      <th></th>\n",
       "      <th>display_id</th>\n",
       "      <th>uuid</th>\n",
       "      <th>document_id</th>\n",
       "      <th>timestamp</th>\n",
       "      <th>platform</th>\n",
       "      <th>geo_location</th>\n",
       "    </tr>\n",
       "  </thead>\n",
       "  <tbody>\n",
       "    <tr>\n",
       "      <th>0</th>\n",
       "      <td>1</td>\n",
       "      <td>cb8c55702adb93</td>\n",
       "      <td>379743</td>\n",
       "      <td>61</td>\n",
       "      <td>3</td>\n",
       "      <td>US&gt;SC&gt;519</td>\n",
       "    </tr>\n",
       "    <tr>\n",
       "      <th>1</th>\n",
       "      <td>2</td>\n",
       "      <td>79a85fa78311b9</td>\n",
       "      <td>1794259</td>\n",
       "      <td>81</td>\n",
       "      <td>2</td>\n",
       "      <td>US&gt;CA&gt;807</td>\n",
       "    </tr>\n",
       "    <tr>\n",
       "      <th>2</th>\n",
       "      <td>3</td>\n",
       "      <td>822932ce3d8757</td>\n",
       "      <td>1179111</td>\n",
       "      <td>182</td>\n",
       "      <td>2</td>\n",
       "      <td>US&gt;MI&gt;505</td>\n",
       "    </tr>\n",
       "  </tbody>\n",
       "</table>\n",
       "</div>"
      ],
      "text/plain": [
       "  display_id            uuid document_id timestamp platform geo_location\n",
       "0          1  cb8c55702adb93      379743        61        3    US>SC>519\n",
       "1          2  79a85fa78311b9     1794259        81        2    US>CA>807\n",
       "2          3  822932ce3d8757     1179111       182        2    US>MI>505"
      ]
     },
     "metadata": {},
     "output_type": "display_data"
    },
    {
     "name": "stdout",
     "output_type": "stream",
     "text": [
      "page_views\n"
     ]
    },
    {
     "data": {
      "text/html": [
       "<div>\n",
       "<style scoped>\n",
       "    .dataframe tbody tr th:only-of-type {\n",
       "        vertical-align: middle;\n",
       "    }\n",
       "\n",
       "    .dataframe tbody tr th {\n",
       "        vertical-align: top;\n",
       "    }\n",
       "\n",
       "    .dataframe thead th {\n",
       "        text-align: right;\n",
       "    }\n",
       "</style>\n",
       "<table border=\"1\" class=\"dataframe\">\n",
       "  <thead>\n",
       "    <tr style=\"text-align: right;\">\n",
       "      <th></th>\n",
       "      <th>uuid</th>\n",
       "      <th>document_id</th>\n",
       "      <th>timestamp</th>\n",
       "      <th>platform</th>\n",
       "      <th>geo_location</th>\n",
       "      <th>traffic_source</th>\n",
       "    </tr>\n",
       "  </thead>\n",
       "  <tbody>\n",
       "    <tr>\n",
       "      <th>0</th>\n",
       "      <td>1fd5f051fba643</td>\n",
       "      <td>120</td>\n",
       "      <td>31905835</td>\n",
       "      <td>1</td>\n",
       "      <td>RS</td>\n",
       "      <td>2</td>\n",
       "    </tr>\n",
       "    <tr>\n",
       "      <th>1</th>\n",
       "      <td>8557aa9004be3b</td>\n",
       "      <td>120</td>\n",
       "      <td>32053104</td>\n",
       "      <td>1</td>\n",
       "      <td>VN&gt;44</td>\n",
       "      <td>2</td>\n",
       "    </tr>\n",
       "    <tr>\n",
       "      <th>2</th>\n",
       "      <td>c351b277a358f0</td>\n",
       "      <td>120</td>\n",
       "      <td>54013023</td>\n",
       "      <td>1</td>\n",
       "      <td>KR&gt;12</td>\n",
       "      <td>1</td>\n",
       "    </tr>\n",
       "  </tbody>\n",
       "</table>\n",
       "</div>"
      ],
      "text/plain": [
       "             uuid document_id timestamp platform geo_location traffic_source\n",
       "0  1fd5f051fba643         120  31905835        1           RS              2\n",
       "1  8557aa9004be3b         120  32053104        1        VN>44              2\n",
       "2  c351b277a358f0         120  54013023        1        KR>12              1"
      ]
     },
     "metadata": {},
     "output_type": "display_data"
    },
    {
     "name": "stdout",
     "output_type": "stream",
     "text": [
      "page_views_sample\n"
     ]
    },
    {
     "data": {
      "text/html": [
       "<div>\n",
       "<style scoped>\n",
       "    .dataframe tbody tr th:only-of-type {\n",
       "        vertical-align: middle;\n",
       "    }\n",
       "\n",
       "    .dataframe tbody tr th {\n",
       "        vertical-align: top;\n",
       "    }\n",
       "\n",
       "    .dataframe thead th {\n",
       "        text-align: right;\n",
       "    }\n",
       "</style>\n",
       "<table border=\"1\" class=\"dataframe\">\n",
       "  <thead>\n",
       "    <tr style=\"text-align: right;\">\n",
       "      <th></th>\n",
       "      <th>uuid</th>\n",
       "      <th>document_id</th>\n",
       "      <th>timestamp</th>\n",
       "      <th>platform</th>\n",
       "      <th>geo_location</th>\n",
       "      <th>traffic_source</th>\n",
       "    </tr>\n",
       "  </thead>\n",
       "  <tbody>\n",
       "    <tr>\n",
       "      <th>0</th>\n",
       "      <td>1fd5f051fba643</td>\n",
       "      <td>120</td>\n",
       "      <td>31905835</td>\n",
       "      <td>1</td>\n",
       "      <td>RS</td>\n",
       "      <td>2</td>\n",
       "    </tr>\n",
       "    <tr>\n",
       "      <th>1</th>\n",
       "      <td>8557aa9004be3b</td>\n",
       "      <td>120</td>\n",
       "      <td>32053104</td>\n",
       "      <td>1</td>\n",
       "      <td>VN&gt;44</td>\n",
       "      <td>2</td>\n",
       "    </tr>\n",
       "    <tr>\n",
       "      <th>2</th>\n",
       "      <td>c351b277a358f0</td>\n",
       "      <td>120</td>\n",
       "      <td>54013023</td>\n",
       "      <td>1</td>\n",
       "      <td>KR&gt;12</td>\n",
       "      <td>1</td>\n",
       "    </tr>\n",
       "  </tbody>\n",
       "</table>\n",
       "</div>"
      ],
      "text/plain": [
       "             uuid document_id timestamp platform geo_location traffic_source\n",
       "0  1fd5f051fba643         120  31905835        1           RS              2\n",
       "1  8557aa9004be3b         120  32053104        1        VN>44              2\n",
       "2  c351b277a358f0         120  54013023        1        KR>12              1"
      ]
     },
     "metadata": {},
     "output_type": "display_data"
    },
    {
     "name": "stdout",
     "output_type": "stream",
     "text": [
      "promoted_content\n"
     ]
    },
    {
     "data": {
      "text/html": [
       "<div>\n",
       "<style scoped>\n",
       "    .dataframe tbody tr th:only-of-type {\n",
       "        vertical-align: middle;\n",
       "    }\n",
       "\n",
       "    .dataframe tbody tr th {\n",
       "        vertical-align: top;\n",
       "    }\n",
       "\n",
       "    .dataframe thead th {\n",
       "        text-align: right;\n",
       "    }\n",
       "</style>\n",
       "<table border=\"1\" class=\"dataframe\">\n",
       "  <thead>\n",
       "    <tr style=\"text-align: right;\">\n",
       "      <th></th>\n",
       "      <th>ad_id</th>\n",
       "      <th>document_id</th>\n",
       "      <th>campaign_id</th>\n",
       "      <th>advertiser_id</th>\n",
       "    </tr>\n",
       "  </thead>\n",
       "  <tbody>\n",
       "    <tr>\n",
       "      <th>0</th>\n",
       "      <td>1</td>\n",
       "      <td>6614</td>\n",
       "      <td>1</td>\n",
       "      <td>7</td>\n",
       "    </tr>\n",
       "    <tr>\n",
       "      <th>1</th>\n",
       "      <td>2</td>\n",
       "      <td>471467</td>\n",
       "      <td>2</td>\n",
       "      <td>7</td>\n",
       "    </tr>\n",
       "    <tr>\n",
       "      <th>2</th>\n",
       "      <td>3</td>\n",
       "      <td>7692</td>\n",
       "      <td>3</td>\n",
       "      <td>7</td>\n",
       "    </tr>\n",
       "  </tbody>\n",
       "</table>\n",
       "</div>"
      ],
      "text/plain": [
       "  ad_id document_id campaign_id advertiser_id\n",
       "0     1        6614           1             7\n",
       "1     2      471467           2             7\n",
       "2     3        7692           3             7"
      ]
     },
     "metadata": {},
     "output_type": "display_data"
    },
    {
     "name": "stdout",
     "output_type": "stream",
     "text": [
      "\n"
     ]
    }
   ],
   "source": [
    "from IPython.display import display\n",
    "tables = [\"clicks_test\", \"clicks_train\", \n",
    "          \"documents_categories\", \"documents_entities\", \"documents_meta\", \"documents_topics\", \n",
    "          \"events\", \"page_views\", \"page_views_sample\", \"promoted_content\"]\n",
    "for name in tqdm.tqdm(tables):\n",
    "    df = se.read.parquet(\"s3://ydatazian/{}.parquet\".format(name))\n",
    "    df.registerTempTable(name)\n",
    "    print(name)\n",
    "    display(df.limit(3).toPandas())"
   ]
  },
  {
   "cell_type": "markdown",
   "metadata": {},
   "source": [
    "# Prepare dataset for VW\n",
    "\n",
    "We will predict a *click* based on:\n",
    "- ad_id\n",
    "- document_id\n",
    "- campaign_id\n",
    "- advertiser_id"
   ]
  },
  {
   "cell_type": "code",
   "execution_count": 5,
   "metadata": {},
   "outputs": [
    {
     "name": "stdout",
     "output_type": "stream",
     "text": [
      "CPU times: user 2.05 ms, sys: 2.43 ms, total: 4.48 ms\n",
      "Wall time: 43.3 s\n"
     ]
    }
   ],
   "source": [
    "%%time\n",
    "se.sql(\"\"\"\n",
    "select \n",
    "    clicks_train.clicked,\n",
    "    clicks_train.display_id,\n",
    "    clicks_train.ad_id,\n",
    "    promoted_content.document_id,\n",
    "    promoted_content.campaign_id,\n",
    "    promoted_content.advertiser_id\n",
    "from clicks_train join promoted_content on clicks_train.ad_id = promoted_content.ad_id\n",
    "\"\"\").write.parquet(\"/train_features.parquet\", mode='overwrite')"
   ]
  },
  {
   "cell_type": "code",
   "execution_count": 6,
   "metadata": {},
   "outputs": [
    {
     "name": "stdout",
     "output_type": "stream",
     "text": [
      "+-------+----------+------+-----------+-----------+-------------+\n",
      "|clicked|display_id| ad_id|document_id|campaign_id|advertiser_id|\n",
      "+-------+----------+------+-----------+-----------+-------------+\n",
      "|      0|         1| 42337|     938164|       5969|         1499|\n",
      "|      0|         1|139684|    1085937|      17527|         2563|\n",
      "|      1|         1|144739|    1337362|      18488|         2909|\n",
      "|      0|         1|156824|     992370|       7283|         1919|\n",
      "|      0|         1|279295|    1670176|      27524|         1820|\n",
      "+-------+----------+------+-----------+-----------+-------------+\n",
      "only showing top 5 rows\n",
      "\n"
     ]
    }
   ],
   "source": [
    "se.read.parquet(\"/train_features.parquet\").show(5)"
   ]
  },
  {
   "cell_type": "code",
   "execution_count": 7,
   "metadata": {},
   "outputs": [
    {
     "name": "stdout",
     "output_type": "stream",
     "text": [
      "Row(clicked='0', display_id='1', ad_id='42337', document_id='938164', campaign_id='5969', advertiser_id='1499')\n",
      "-1 1_42337| display_id_1 ad_id_42337 document_id_938164 campaign_id_5969 advertiser_id_1499\n"
     ]
    }
   ],
   "source": [
    "# Format: [Label] [Importance] [Base] [Tag]|Namespace Features |Namespace Features ... |Namespace Features\n",
    "# https://github.com/VowpalWabbit/vowpal_wabbit/wiki/Input-format\n",
    "def vw_row_mapper(row):\n",
    "    clicked = None\n",
    "    features = []\n",
    "    for k, v in row.asDict().items():\n",
    "        if k == 'clicked':\n",
    "            clicked = '1' if v == '1' else '-1'\n",
    "        else:\n",
    "            features.append(k + \"_\" + v)\n",
    "    tag = row.display_id + \"_\" + row.ad_id\n",
    "    return \"{} {}| {}\".format(clicked, tag, \" \".join(features))\n",
    "\n",
    "r = se.read.parquet(\"/train_features.parquet\").take(1)[0]\n",
    "print(r)\n",
    "print(vw_row_mapper(r))"
   ]
  },
  {
   "cell_type": "code",
   "execution_count": 8,
   "metadata": {},
   "outputs": [
    {
     "name": "stdout",
     "output_type": "stream",
     "text": [
      "rm: `/train_features.txt': No such file or directory\n",
      "CPU times: user 28.1 ms, sys: 22.4 ms, total: 50.5 ms\n",
      "Wall time: 2min 36s\n"
     ]
    }
   ],
   "source": [
    "%%time\n",
    "! hdfs dfs -rm -r /train_features.txt\n",
    "(\n",
    "    se.read.parquet(\"/train_features.parquet\")\n",
    "    .rdd\n",
    "    .map(vw_row_mapper)\n",
    "    .saveAsTextFile(\"/train_features.txt\")\n",
    ")"
   ]
  },
  {
   "cell_type": "code",
   "execution_count": 9,
   "metadata": {},
   "outputs": [
    {
     "name": "stdout",
     "output_type": "stream",
     "text": [
      "rm: cannot remove '/mnt/train.txt': No such file or directory\n",
      "-1 1_42337| display_id_1 ad_id_42337 document_id_938164 campaign_id_5969 advertiser_id_1499\n",
      "-1 1_139684| display_id_1 ad_id_139684 document_id_1085937 campaign_id_17527 advertiser_id_2563\n",
      "1 1_144739| display_id_1 ad_id_144739 document_id_1337362 campaign_id_18488 advertiser_id_2909\n",
      "-1 1_156824| display_id_1 ad_id_156824 document_id_992370 campaign_id_7283 advertiser_id_1919\n",
      "-1 1_279295| display_id_1 ad_id_279295 document_id_1670176 campaign_id_27524 advertiser_id_1820\n"
     ]
    }
   ],
   "source": [
    "# copy file to local master node\n",
    "! rm /mnt/train.txt\n",
    "! hdfs dfs -getmerge /train_features.txt /mnt/train.txt\n",
    "# preview local file\n",
    "! head -n 5 /mnt/train.txt"
   ]
  },
  {
   "cell_type": "markdown",
   "metadata": {},
   "source": [
    "# Train VW\n",
    "https://vowpalwabbit.org/tutorials/getting_started.html\n",
    "\n",
    "https://github.com/JohnLangford/vowpal_wabbit/wiki/Command-line-arguments"
   ]
  },
  {
   "cell_type": "code",
   "execution_count": 10,
   "metadata": {},
   "outputs": [
    {
     "name": "stdout",
     "output_type": "stream",
     "text": [
      "final_regressor = model\n",
      "Enabling FTRL based optimization\n",
      "Algorithm used: Proximal-FTRL\n",
      "ftrl_alpha = 0.005\n",
      "ftrl_beta = 0.1\n",
      "Num weight bits = 24\n",
      "learning rate = 0.5\n",
      "initial_t = 0\n",
      "power_t = 0.5\n",
      "creating cache_file = /mnt/train.txt.cache\n",
      "Reading datafile = /mnt/train.txt\n",
      "num sources = 1\n",
      "average  since         example        example  current  current  current\n",
      "loss     last          counter         weight    label  predict features\n",
      "0.460142 0.460142      8000000      8000000.0  -1.0000  -1.2983        6\n",
      "0.456159 0.452175     16000000     16000000.0  -1.0000  -1.4733        6\n",
      "0.453326 0.447661     24000000     24000000.0  -1.0000  -2.3174        6\n",
      "0.452628 0.450533     32000000     32000000.0   1.0000  -0.5719        6\n",
      "0.452887 0.453924     40000000     40000000.0  -1.0000  -1.2648        6\n",
      "0.452010 0.447625     48000000     48000000.0  -1.0000  -2.6227        6\n",
      "0.451328 0.447232     56000000     56000000.0  -1.0000  -3.4451        6\n",
      "0.450649 0.445902     64000000     64000000.0  -1.0000  -1.3654        6\n",
      "0.450373 0.448160     72000000     72000000.0  -1.0000  -1.4113        6\n",
      "0.449983 0.446471     80000000     80000000.0   1.0000  -1.4889        6\n",
      "\n",
      "finished run\n",
      "number of examples = 87141731\n",
      "weighted example sum = 87141731.000000\n",
      "weighted label sum = -53392545.000000\n",
      "average loss = 0.450146\n",
      "best constant = -1.426495\n",
      "best constant's loss = 0.491466\n",
      "total feature number = 522850386\n"
     ]
    }
   ],
   "source": [
    "! ./vw -d /mnt/train.txt -b 24 -c -k --ftrl --passes 1 -f model --holdout_off --loss_function logistic --random_seed 42 --progress 8000000"
   ]
  },
  {
   "cell_type": "code",
   "execution_count": 11,
   "metadata": {},
   "outputs": [
    {
     "name": "stdout",
     "output_type": "stream",
     "text": [
      "only testing\n",
      "predictions = /mnt/predictions.txt\n",
      "Enabling FTRL based optimization\n",
      "Algorithm used: Proximal-FTRL\n",
      "ftrl_alpha = 0.005\n",
      "ftrl_beta = 0.1\n",
      "Num weight bits = 24\n",
      "learning rate = 0.5\n",
      "initial_t = 0\n",
      "power_t = 0.5\n",
      "using no cache\n",
      "Reading datafile = /mnt/test.txt\n",
      "num sources = 1\n",
      "average  since         example        example  current  current  current\n",
      "loss     last          counter         weight    label  predict features\n",
      "warning: ? is not a good float, replacing with 0\n",
      "warning: ? is not a good float, replacing with 0\n",
      "\n",
      "finished run\n",
      "number of examples = 2\n",
      "weighted example sum = 2.000000\n",
      "weighted label sum = 0.000000\n",
      "average loss = 5.674418\n",
      "total feature number = 10\n",
      "0.319263 tag1\n",
      "0.036173 tag2\n"
     ]
    }
   ],
   "source": [
    "# make prediction with VW\n",
    "! echo \"? tag1| ad_id_144739 document_id_1337362 campaign_id_18488 advertiser_id_2909\" > /mnt/test.txt\n",
    "! echo \"? tag2| ad_id_156824 document_id_992370 campaign_id_7283 advertiser_id_1919\" >> /mnt/test.txt\n",
    "! ./vw -d /mnt/test.txt -i model -t -k -p /mnt/predictions.txt --progress 1000000 --link=logistic\n",
    "# predicted probabilities of \"1\" class\n",
    "! cat /mnt/predictions.txt"
   ]
  },
  {
   "cell_type": "markdown",
   "metadata": {},
   "source": [
    "# Homework 2: Baseline VW model\n",
    "\n",
    "Train a baseline model using the following features:\n",
    "- **clicked**\n",
    "- geo_location features (country, state, dma)\n",
    "- day_of_week (from timestamp, use *date.isoweekday()*)\n",
    "- ad_id\n",
    "- campaign_id\n",
    "- advertiser_id\n",
    "- ad_document_id\n",
    "- display_document_id\n",
    "- platform\n",
    "\n",
    "Make submission to Kaggle to know your leaderboard score\n",
    "\n",
    "If you want to create a dev set, make a 90%/10% split of training data by display_id"
   ]
  },
  {
   "cell_type": "markdown",
   "metadata": {},
   "source": [
    "## Our Code"
   ]
  },
  {
   "cell_type": "markdown",
   "metadata": {},
   "source": [
    "### Create clicks table"
   ]
  },
  {
   "cell_type": "code",
   "execution_count": 4,
   "metadata": {},
   "outputs": [
    {
     "name": "stdout",
     "output_type": "stream",
     "text": [
      "Deleted /clicks.parquet\n",
      "CPU times: user 23.5 ms, sys: 13.4 ms, total: 36.9 ms\n",
      "Wall time: 34.7 s\n"
     ]
    }
   ],
   "source": [
    "%%time\n",
    "! hdfs dfs -rm -r /clicks.parquet\n",
    "se.sql(\"\"\"\n",
    "select *\n",
    "from \n",
    "    (\n",
    "    select \n",
    "        *,\n",
    "        true as is_train\n",
    "    from clicks_train\n",
    "    )\n",
    "    union\n",
    "    (\n",
    "    select \n",
    "        *,\n",
    "        \"0\" as clicked,\n",
    "        false as is_train\n",
    "    from clicks_test\n",
    "    )\n",
    "\"\"\").write.parquet(\"/clicks.parquet\")\n",
    "se.read.parquet(\"/clicks.parquet\").registerTempTable(\"clicks\")"
   ]
  },
  {
   "cell_type": "code",
   "execution_count": 5,
   "metadata": {},
   "outputs": [
    {
     "name": "stdout",
     "output_type": "stream",
     "text": [
      "+----------+------+-------+--------+\n",
      "|display_id| ad_id|clicked|is_train|\n",
      "+----------+------+-------+--------+\n",
      "|   9101377|473382|      0|    true|\n",
      "|   9101378| 18922|      1|    true|\n",
      "|   9101409| 45493|      0|    true|\n",
      "|   9101410|280583|      0|    true|\n",
      "|   9101483|144337|      0|    true|\n",
      "+----------+------+-------+--------+\n",
      "only showing top 5 rows\n",
      "\n"
     ]
    }
   ],
   "source": [
    "se.table(\"clicks\").show(5)"
   ]
  },
  {
   "cell_type": "markdown",
   "metadata": {},
   "source": [
    "### Create Additional Features"
   ]
  },
  {
   "cell_type": "markdown",
   "metadata": {},
   "source": [
    "#### per document id - get topics"
   ]
  },
  {
   "cell_type": "code",
   "execution_count": 6,
   "metadata": {},
   "outputs": [
    {
     "name": "stdout",
     "output_type": "stream",
     "text": [
      "Deleted /display_document_topics.parquet\n",
      "CPU times: user 17.3 ms, sys: 9.03 ms, total: 26.3 ms\n",
      "Wall time: 7.79 s\n"
     ]
    }
   ],
   "source": [
    "%%time\n",
    "! hdfs dfs -rm -r /display_document_topics.parquet\n",
    "se.sql(\"\"\"select \n",
    "                t.document_id,\n",
    "                collect_list(topic_id) as topics\n",
    "                from documents_topics as t\n",
    "                where confidence_level > 0.5\n",
    "                group by t.document_id\n",
    "                \"\"\").write.parquet(\"/display_document_topics.parquet\")\n",
    "se.read.parquet(\"/display_document_topics.parquet\").registerTempTable(\"display_document_topics\")\n"
   ]
  },
  {
   "cell_type": "code",
   "execution_count": 7,
   "metadata": {},
   "outputs": [
    {
     "name": "stdout",
     "output_type": "stream",
     "text": [
      "+-----------+------+\n",
      "|document_id|topics|\n",
      "+-----------+------+\n",
      "|    1072868| [140]|\n",
      "|    1127235|  [66]|\n",
      "|    1244749| [156]|\n",
      "|    1324248|  [12]|\n",
      "|    1328967| [131]|\n",
      "+-----------+------+\n",
      "only showing top 5 rows\n",
      "\n"
     ]
    }
   ],
   "source": [
    "se.table(\"display_document_topics\").show(5)"
   ]
  },
  {
   "cell_type": "code",
   "execution_count": 8,
   "metadata": {},
   "outputs": [
    {
     "name": "stdout",
     "output_type": "stream",
     "text": [
      "+--------+\n",
      "|count(1)|\n",
      "+--------+\n",
      "|   29601|\n",
      "+--------+\n",
      "\n"
     ]
    }
   ],
   "source": [
    "se.sql(\"select count(*) from display_document_topics\").show(1)"
   ]
  },
  {
   "cell_type": "code",
   "execution_count": 38,
   "metadata": {},
   "outputs": [
    {
     "name": "stdout",
     "output_type": "stream",
     "text": [
      "+--------+\n",
      "|count(1)|\n",
      "+--------+\n",
      "|       0|\n",
      "+--------+\n",
      "\n"
     ]
    }
   ],
   "source": [
    "se.sql(\"select count(*) from display_document_topics where topics is null\").show(1)"
   ]
  },
  {
   "cell_type": "code",
   "execution_count": 39,
   "metadata": {},
   "outputs": [
    {
     "name": "stdout",
     "output_type": "stream",
     "text": [
      "+--------+\n",
      "|count(1)|\n",
      "+--------+\n",
      "|   29601|\n",
      "+--------+\n",
      "\n"
     ]
    }
   ],
   "source": [
    "se.sql(\"select count(*) from display_document_topics where topics is not null\").show(1)"
   ]
  },
  {
   "cell_type": "markdown",
   "metadata": {},
   "source": [
    "### Join All Features"
   ]
  },
  {
   "cell_type": "code",
   "execution_count": 23,
   "metadata": {},
   "outputs": [
    {
     "name": "stdout",
     "output_type": "stream",
     "text": [
      "Deleted /features_updated.parquet\n",
      "CPU times: user 16.4 ms, sys: 12.4 ms, total: 28.8 ms\n",
      "Wall time: 37.2 s\n"
     ]
    }
   ],
   "source": [
    "%%time\n",
    "! hdfs dfs -rm -r /features_updated.parquet\n",
    "se.sql(\"\"\"select \n",
    "                c.clicked,\n",
    "                c.is_train,\n",
    "                c.display_id,\n",
    "                c.ad_id,\n",
    "                split(e.geo_location, '>')[0] as country, \n",
    "                split(e.geo_location, '>')[1] as state,\n",
    "                split(e.geo_location, '>')[2] as DMA,\n",
    "                dayofweek(to_date(from_unixtime(e.timestamp + 1465876799998,'YYYY-MM-dd'))) as day_of_week,\n",
    "                p.campaign_id,\n",
    "                p.advertiser_id ,\n",
    "                p.document_id as ad_document_id,\n",
    "                e.document_id as display_document_id,\n",
    "                e.platform,\n",
    "                hour(from_unixtime(e.timestamp + 1465876799998)) as hour_in_day,\n",
    "                m.source_id,\n",
    "                m.publisher_id,\n",
    "                dayofweek(to_date(m.publish_time)) as publish_day_of_week,\n",
    "                hour(to_timestamp(m.publish_time)) as publish_hour,\n",
    "                t.topics as display_topics\n",
    "                from clicks as c \n",
    "                left join promoted_content as p\n",
    "                on c.ad_id = p.ad_id\n",
    "                left join events as e\n",
    "                on e.display_id = c.display_id\n",
    "                left join documents_meta as m\n",
    "                on m.document_id = e.document_id\n",
    "                left join display_document_topics as t\n",
    "                on t.document_id = e.document_id\n",
    "                \"\"\").write.parquet(\"/features_updated.parquet\")\n",
    "se.read.parquet(\"/features_updated.parquet\").registerTempTable(\"features_updated\")"
   ]
  },
  {
   "cell_type": "code",
   "execution_count": 37,
   "metadata": {},
   "outputs": [
    {
     "name": "stdout",
     "output_type": "stream",
     "text": [
      "+-------+--------+----------+------+-------+-----+---+-----------+-----------+-------------+--------------+-------------------+--------+-----------+---------+------------+-------------------+------------+--------------+\n",
      "|clicked|is_train|display_id| ad_id|country|state|DMA|day_of_week|campaign_id|advertiser_id|ad_document_id|display_document_id|platform|hour_in_day|source_id|publisher_id|publish_day_of_week|publish_hour|display_topics|\n",
      "+-------+--------+----------+------+-------+-----+---+-----------+-----------+-------------+--------------+-------------------+--------+-----------+---------+------------+-------------------+------------+--------------+\n",
      "|      0|    true|   3709100|289990|     US|   CA|807|       null|      28059|         3642|       1583527|            1511939|       2|       null|     8799|         114|                  4|           0|         [232]|\n",
      "|      0|    true|   3709100|155841|     US|   CA|807|       null|      16042|         3000|       1387364|            1511939|       2|       null|     8799|         114|                  4|           0|         [232]|\n",
      "|      1|    true|   3709100|291545|     US|   CA|807|       null|      23260|         2500|       1507384|            1511939|       2|       null|     8799|         114|                  4|           0|         [232]|\n",
      "|      0|    true|   3709100| 28346|     US|   CA|807|       null|       1423|          308|        845496|            1511939|       2|       null|     8799|         114|                  4|           0|         [232]|\n",
      "|      0|    true|   9889467| 45114|     US|   CA|803|       null|       5336|           53|        902338|            1511939|       2|       null|     8799|         114|                  4|           0|         [232]|\n",
      "+-------+--------+----------+------+-------+-----+---+-----------+-----------+-------------+--------------+-------------------+--------+-----------+---------+------------+-------------------+------------+--------------+\n",
      "only showing top 5 rows\n",
      "\n"
     ]
    }
   ],
   "source": [
    "se.table(\"features_updated\").where(\"display_topics is not null\").show(5)"
   ]
  },
  {
   "cell_type": "code",
   "execution_count": 32,
   "metadata": {},
   "outputs": [],
   "source": [
    "# Format: [Label] [Importance] [Base] [Tag]|Namespace Features |Namespace Features ... |Namespace Features\n",
    "# https://github.com/VowpalWabbit/vowpal_wabbit/wiki/Input-format\n",
    "def vw_row_mapper(row):\n",
    "    clicked = '1' if row.clicked == '1' else '-1'\n",
    "    # item features\n",
    "    item_features = \"|a \"    \n",
    "    item_features += \"ad_id_{}\".format(row.ad_id) + \" \"\n",
    "    item_features += \"campaign_id_{}\".format(row.campaign_id) + \" \"\n",
    "    item_features += \"advertiser_id_{}\".format(row.advertiser_id) + \" \"\n",
    "    item_features += \"ad_document_id_{}\".format(row.ad_document_id) + \" \"\n",
    "    \n",
    "    \n",
    "    # display features\n",
    "    display_features = \"|d \"\n",
    "    display_features += \"display_document_id_{}\".format(row.display_document_id) + \" \"\n",
    "    display_features += \"country_{}\".format(row.country) + \" \"\n",
    "    display_features += \"state_{}\".format(row.state) + \" \"\n",
    "    display_features += \"DMA_{}\".format(row.DMA) + \" \"\n",
    "    display_features += \"day_of_week_{}\".format(row.day_of_week) + \" \"\n",
    "    display_features += \"platform_{}\".format(row.platform) + \" \"\n",
    "    display_features += \"hour_in_day_{}\".format(row.hour_in_day) + \" \"\n",
    "    display_features += \"source_id_{}\".format(row.source_id) + \" \"\n",
    "    display_features += \"publisher_id_{}\".format(row.publisher_id) + \" \"\n",
    "    display_features += \"publish_day_of_week_{}\".format(row.publish_day_of_week) + \" \"\n",
    "    display_features += \"publish_hour_{}\".format(row.publish_hour) + \" \"\n",
    "    if row.display_topics:\n",
    "        display_features += \" \".join(\"topic_{}\".format(t) for t in row.display_topics) + \" \"\n",
    "    tag = row.display_id + \"_\" + row.ad_id\n",
    "    # result\n",
    "    return clicked + \" \" + tag + item_features + display_features\n",
    "\n",
    "r = se.table(\"features_updated\").take(1)[0]"
   ]
  },
  {
   "cell_type": "markdown",
   "metadata": {},
   "source": [
    "### split features to train test"
   ]
  },
  {
   "cell_type": "code",
   "execution_count": 51,
   "metadata": {},
   "outputs": [
    {
     "name": "stdout",
     "output_type": "stream",
     "text": [
      "+-------+--------+----------+------+-------+-----+---+-----------+-----------+-------------+--------------+-------------------+--------+-----------+---------+------------+-------------------+------------+--------------+\n",
      "|clicked|is_train|display_id| ad_id|country|state|DMA|day_of_week|campaign_id|advertiser_id|ad_document_id|display_document_id|platform|hour_in_day|source_id|publisher_id|publish_day_of_week|publish_hour|display_topics|\n",
      "+-------+--------+----------+------+-------+-----+---+-----------+-----------+-------------+--------------+-------------------+--------+-----------+---------+------------+-------------------+------------+--------------+\n",
      "|      0|    true|   3436070|142604|     US|   CA|803|       null|      18216|         1977|       1328059|            1000240|       1|       null|      890|         522|                  3|           8|          null|\n",
      "|      0|    true|   3436070|270199|     US|   CA|803|       null|      15731|         1309|       1227639|            1000240|       1|       null|      890|         522|                  3|           8|          null|\n",
      "|      0|    true|   3436070|118871|     US|   CA|803|       null|        674|          769|       1151028|            1000240|       1|       null|      890|         522|                  3|           8|          null|\n",
      "|      1|    true|   3436070| 47161|     US|   CA|803|       null|       5759|         1309|        922193|            1000240|       1|       null|      890|         522|                  3|           8|          null|\n",
      "|      0|    true|   3436070|123813|     US|   CA|803|       null|      15887|          571|       1233734|            1000240|       1|       null|      890|         522|                  3|           8|          null|\n",
      "+-------+--------+----------+------+-------+-----+---+-----------+-----------+-------------+--------------+-------------------+--------+-----------+---------+------------+-------------------+------------+--------------+\n",
      "only showing top 5 rows\n",
      "\n"
     ]
    }
   ],
   "source": [
    "se.sql(\"select * from features_updated where is_train = true\").show(5)"
   ]
  },
  {
   "cell_type": "code",
   "execution_count": 33,
   "metadata": {},
   "outputs": [
    {
     "name": "stdout",
     "output_type": "stream",
     "text": [
      "Deleted /train.txt\n",
      "CPU times: user 21.7 ms, sys: 28.6 ms, total: 50.3 ms\n",
      "Wall time: 2min 5s\n"
     ]
    }
   ],
   "source": [
    "%%time\n",
    "! hdfs dfs -rm -r /train.txt\n",
    "(\n",
    "    se.sql(\"select * from features_updated where is_train = true\")\n",
    "    .rdd\n",
    "    .map(vw_row_mapper)\n",
    "    .repartition(16)\n",
    "    .saveAsTextFile(\"/train.txt\")\n",
    ")"
   ]
  },
  {
   "cell_type": "code",
   "execution_count": 50,
   "metadata": {},
   "outputs": [
    {
     "name": "stdout",
     "output_type": "stream",
     "text": [
      "+-------+--------+----------+------+-------+-----+----+-----------+-----------+-------------+--------------+-------------------+--------+-----------+---------+------------+-------------------+------------+--------------+\n",
      "|clicked|is_train|display_id| ad_id|country|state| DMA|day_of_week|campaign_id|advertiser_id|ad_document_id|display_document_id|platform|hour_in_day|source_id|publisher_id|publish_day_of_week|publish_hour|display_topics|\n",
      "+-------+--------+----------+------+-------+-----+----+-----------+-----------+-------------+--------------+-------------------+--------+-----------+---------+------------+-------------------+------------+--------------+\n",
      "|      0|   false|  18242074|403684|     NG| null|null|       null|      30804|          287|       2003409|            1000240|       2|       null|      890|         522|                  3|           8|          null|\n",
      "|      0|   false|  18242074|175538|     NG| null|null|       null|      18427|         3203|       1332140|            1000240|       2|       null|      890|         522|                  3|           8|          null|\n",
      "|      0|   false|  18242074|326466|     NG| null|null|       null|      29142|         2693|       1603512|            1000240|       2|       null|      890|         522|                  3|           8|          null|\n",
      "|      0|   false|  18242074|414007|     NG| null|null|       null|      31042|         2643|       1044364|            1000240|       2|       null|      890|         522|                  3|           8|          null|\n",
      "|      0|   false|  18242074|446689|     NG| null|null|       null|      31438|         4211|       2130061|            1000240|       2|       null|      890|         522|                  3|           8|          null|\n",
      "+-------+--------+----------+------+-------+-----+----+-----------+-----------+-------------+--------------+-------------------+--------+-----------+---------+------------+-------------------+------------+--------------+\n",
      "only showing top 5 rows\n",
      "\n"
     ]
    }
   ],
   "source": [
    "se.sql(\"select * from features_updated where is_train = false\").show(5)"
   ]
  },
  {
   "cell_type": "code",
   "execution_count": 34,
   "metadata": {},
   "outputs": [
    {
     "name": "stdout",
     "output_type": "stream",
     "text": [
      "Deleted /test.txt\n",
      "CPU times: user 34.3 ms, sys: 15.5 ms, total: 49.8 ms\n",
      "Wall time: 51.1 s\n"
     ]
    }
   ],
   "source": [
    "%%time\n",
    "! hdfs dfs -rm -r /test.txt\n",
    "(\n",
    "    se.sql(\"select * from features_updated where is_train = false\")\n",
    "    .rdd\n",
    "    .map(vw_row_mapper)\n",
    "    .repartition(16)\n",
    "    .saveAsTextFile(\"/test.txt\")\n",
    ")"
   ]
  },
  {
   "cell_type": "markdown",
   "metadata": {},
   "source": [
    "### Train VW"
   ]
  },
  {
   "cell_type": "code",
   "execution_count": 40,
   "metadata": {},
   "outputs": [
    {
     "name": "stdout",
     "output_type": "stream",
     "text": [
      "-1 9026100_230590|a ad_id_230590 campaign_id_25264 advertiser_id_2692 ad_document_id_1578224 |d display_document_id_1004509 country_IN state_None DMA_None day_of_week_None platform_2 hour_in_day_None source_id_5581 publisher_id_633 publish_day_of_week_5 publish_hour_0 \n",
      "22G\t/mnt/train.txt\n",
      "CPU times: user 317 ms, sys: 151 ms, total: 469 ms\n",
      "Wall time: 45.9 s\n"
     ]
    }
   ],
   "source": [
    "%%time\n",
    "! rm /mnt/train.txt\n",
    "! hdfs dfs -getmerge /train.txt /mnt/train.txt\n",
    "! head -n 1 /mnt/train.txt\n",
    "! du -sh /mnt/train.txt"
   ]
  },
  {
   "cell_type": "code",
   "execution_count": 41,
   "metadata": {},
   "outputs": [
    {
     "name": "stdout",
     "output_type": "stream",
     "text": [
      "final_regressor = model\n",
      "Enabling FTRL based optimization\n",
      "Algorithm used: Proximal-FTRL\n",
      "ftrl_alpha = 0.005\n",
      "ftrl_beta = 0.1\n",
      "Num weight bits = 24\n",
      "learning rate = 0.5\n",
      "initial_t = 0\n",
      "power_t = 0.5\n",
      "creating cache_file = /mnt/train.txt.cache\n",
      "Reading datafile = /mnt/train.txt\n",
      "num sources = 1\n",
      "average  since         example        example  current  current  current\n",
      "loss     last          counter         weight    label  predict features\n",
      "0.454751 0.454751      8000000      8000000.0   1.0000  -0.8024       16\n",
      "0.449383 0.444014     16000000     16000000.0  -1.0000  -2.7043       16\n",
      "0.446938 0.442050     24000000     24000000.0   1.0000  -1.3237       16\n",
      "0.445014 0.439240     32000000     32000000.0  -1.0000  -1.0869       16\n",
      "0.443768 0.438786     40000000     40000000.0  -1.0000  -1.9777       16\n",
      "0.443023 0.439294     48000000     48000000.0  -1.0000  -2.2125       16\n",
      "0.442138 0.436833     56000000     56000000.0  -1.0000  -2.7589       16\n",
      "0.441618 0.437978     64000000     64000000.0   1.0000  -0.4499       16\n",
      "0.441032 0.436340     72000000     72000000.0   1.0000  -0.8173       17\n",
      "0.440614 0.436850     80000000     80000000.0  -1.0000  -1.8921       16\n",
      "\n",
      "finished run\n",
      "number of examples = 87141731\n",
      "weighted example sum = 87141731.000000\n",
      "weighted label sum = -53392545.000000\n",
      "average loss = 0.440292\n",
      "best constant = -1.426495\n",
      "best constant's loss = 0.491466\n",
      "total feature number = 1395743325\n"
     ]
    }
   ],
   "source": [
    "! ./vw -d /mnt/train.txt -b 24 -c -k --ftrl --passes 1 -f model --holdout_off --loss_function logistic --random_seed 42 --progress 8000000"
   ]
  },
  {
   "cell_type": "markdown",
   "metadata": {},
   "source": [
    "### Predict"
   ]
  },
  {
   "cell_type": "code",
   "execution_count": 42,
   "metadata": {},
   "outputs": [
    {
     "name": "stdout",
     "output_type": "stream",
     "text": [
      "-1 19160350_488616|a ad_id_488616 campaign_id_31980 advertiser_id_2609 ad_document_id_1557353 |d display_document_id_1006842 country_AU state_02 DMA_None day_of_week_None platform_2 hour_in_day_None source_id_393 publisher_id_633 publish_day_of_week_6 publish_hour_9 \r\n",
      "-1 19160350_192682|a ad_id_192682 campaign_id_18105 advertiser_id_3186 ad_document_id_1439388 |d display_document_id_1006842 country_AU state_02 DMA_None day_of_week_None platform_2 hour_in_day_None source_id_393 publisher_id_633 publish_day_of_week_6 publish_hour_9 \r\n",
      "-1 20032804_228647|a ad_id_228647 campaign_id_25158 advertiser_id_1804 ad_document_id_1507493 |d display_document_id_1007619 country_US state_TN DMA_659 day_of_week_None platform_2 hour_in_day_None source_id_3314 publisher_id_151 publish_day_of_week_None publish_hour_None \r\n",
      "-1 20032804_195153|a ad_id_195153 campaign_id_22070 advertiser_id_3311 ad_document_id_1451622 |d display_document_id_1007619 country_US state_TN DMA_659 day_of_week_None platform_2 hour_in_day_None source_id_3314 publisher_id_151 publish_day_of_week_None publish_hour_None \r\n",
      "-1 20032804_89726|a ad_id_89726 campaign_id_11621 advertiser_id_1286 ad_document_id_875012 |d display_document_id_1007619 country_US state_TN DMA_659 day_of_week_None platform_2 hour_in_day_None source_id_3314 publisher_id_151 publish_day_of_week_None publish_hour_None \r\n"
     ]
    }
   ],
   "source": [
    "# copy file to local master node\n",
    "! rm /mnt/test.txt\n",
    "! hdfs dfs -getmerge /test.txt /mnt/test.txt\n",
    "# preview local file\n",
    "! head -n 5 /mnt/test.txt"
   ]
  },
  {
   "cell_type": "code",
   "execution_count": 43,
   "metadata": {},
   "outputs": [
    {
     "name": "stdout",
     "output_type": "stream",
     "text": [
      "only testing\n",
      "predictions = /mnt/predictions.txt\n",
      "Enabling FTRL based optimization\n",
      "Algorithm used: Proximal-FTRL\n",
      "ftrl_alpha = 0.005\n",
      "ftrl_beta = 0.1\n",
      "Num weight bits = 24\n",
      "learning rate = 0.5\n",
      "initial_t = 0\n",
      "power_t = 0.5\n",
      "using no cache\n",
      "Reading datafile = /mnt/test.txt\n",
      "num sources = 1\n",
      "average  since         example        example  current  current  current\n",
      "loss     last          counter         weight    label  predict features\n",
      "1.050229 1.050229      1000000      1000000.0  -1.0000   0.1718       16\n",
      "1.069606 1.088984      2000000      2000000.0  -1.0000   0.0781       16\n",
      "1.076011 1.088819      3000000      3000000.0  -1.0000   0.3354       16\n",
      "1.070597 1.054356      4000000      4000000.0  -1.0000   0.1685       16\n",
      "1.071140 1.073311      5000000      5000000.0  -1.0000   0.4012       16\n",
      "1.070144 1.065163      6000000      6000000.0  -1.0000   0.3061       16\n",
      "1.071788 1.081652      7000000      7000000.0  -1.0000   0.2899       16\n",
      "1.069400 1.052686      8000000      8000000.0  -1.0000   0.0999       16\n",
      "1.067282 1.050341      9000000      9000000.0  -1.0000   0.2492       16\n",
      "1.069594 1.090400     10000000     10000000.0  -1.0000   0.0556       16\n",
      "1.070220 1.076480     11000000     11000000.0  -1.0000   0.1443       16\n",
      "1.069447 1.060939     12000000     12000000.0  -1.0000   0.1733       16\n",
      "1.068589 1.058295     13000000     13000000.0  -1.0000   0.4170       16\n",
      "1.070019 1.088612     14000000     14000000.0  -1.0000   0.1593       16\n",
      "1.070560 1.078136     15000000     15000000.0  -1.0000   0.3856       16\n",
      "1.070046 1.062337     16000000     16000000.0  -1.0000   0.1330       16\n",
      "1.068970 1.051755     17000000     17000000.0  -1.0000   0.1229       16\n",
      "1.069575 1.079846     18000000     18000000.0  -1.0000   0.4643       16\n",
      "1.068352 1.046339     19000000     19000000.0  -1.0000   0.1306       16\n",
      "1.069774 1.096800     20000000     20000000.0  -1.0000   0.1541       16\n",
      "1.070804 1.091403     21000000     21000000.0  -1.0000   0.3664       16\n",
      "1.070280 1.059272     22000000     22000000.0  -1.0000   0.1159       16\n",
      "1.069140 1.044072     23000000     23000000.0  -1.0000   0.1914       16\n",
      "1.069649 1.081359     24000000     24000000.0  -1.0000   0.1989       16\n",
      "1.068573 1.042728     25000000     25000000.0  -1.0000   0.2080       16\n",
      "1.070169 1.110076     26000000     26000000.0  -1.0000   0.2260       16\n",
      "1.069704 1.057611     27000000     27000000.0  -1.0000   0.1772       16\n",
      "1.069908 1.075429     28000000     28000000.0  -1.0000   0.2698       16\n",
      "1.069689 1.063555     29000000     29000000.0  -1.0000   0.1400       16\n",
      "1.069798 1.072963     30000000     30000000.0  -1.0000   0.1866       16\n",
      "1.070278 1.084657     31000000     31000000.0  -1.0000   0.2800       16\n",
      "1.070033 1.062441     32000000     32000000.0  -1.0000   0.1606       16\n",
      "\n",
      "finished run\n",
      "number of examples = 32225162\n",
      "weighted example sum = 32225162.000000\n",
      "weighted label sum = -32225162.000000\n",
      "average loss = 1.070110\n",
      "best constant = -1.000000\n",
      "best constant's loss = 0.000000\n",
      "total feature number = 516284578\n",
      "0.297859 19160350_488616\n",
      "0.100347 19160350_192682\n",
      "0.309839 20032804_228647\n",
      "0.282487 20032804_195153\n",
      "0.348357 20032804_89726\n"
     ]
    }
   ],
   "source": [
    "! ./vw -d /mnt/test.txt -i model -t -k -p /mnt/predictions.txt --progress 1000000 --link=logistic\n",
    "# predicted probabilities of \"1\" class\n",
    "! head -n 5 /mnt/predictions.txt"
   ]
  },
  {
   "cell_type": "code",
   "execution_count": 44,
   "metadata": {},
   "outputs": [
    {
     "name": "stdout",
     "output_type": "stream",
     "text": [
      "32225162 /mnt/predictions.txt\r\n"
     ]
    }
   ],
   "source": [
    "! wc -l /mnt/predictions.txt"
   ]
  },
  {
   "cell_type": "markdown",
   "metadata": {},
   "source": [
    "### format file for Kaggle submission"
   ]
  },
  {
   "cell_type": "code",
   "execution_count": 45,
   "metadata": {},
   "outputs": [
    {
     "data": {
      "application/vnd.jupyter.widget-view+json": {
       "model_id": "8ead1541454d474fa0497f9fababeca6",
       "version_major": 2,
       "version_minor": 0
      },
      "text/plain": [
       "HBox(children=(FloatProgress(value=1.0, bar_style='info', max=1.0), HTML(value='')))"
      ]
     },
     "metadata": {},
     "output_type": "display_data"
    },
    {
     "name": "stdout",
     "output_type": "stream",
     "text": [
      "\n"
     ]
    }
   ],
   "source": [
    "from collections import defaultdict\n",
    "scores_by_display_id = defaultdict(dict)\n",
    "for line in tqdm.tqdm(open('/mnt/predictions.txt')):\n",
    "    score, tag = line.strip().split(\" \")\n",
    "    score = float(score)\n",
    "    display_id, ad_id = tag.split(\"_\")\n",
    "    scores_by_display_id[display_id][ad_id] = score"
   ]
  },
  {
   "cell_type": "markdown",
   "metadata": {},
   "source": [
    "### Create submission file"
   ]
  },
  {
   "cell_type": "code",
   "execution_count": 46,
   "metadata": {},
   "outputs": [
    {
     "data": {
      "application/vnd.jupyter.widget-view+json": {
       "model_id": "feca41bbe99b43efb9fec2391ba7fa36",
       "version_major": 2,
       "version_minor": 0
      },
      "text/plain": [
       "HBox(children=(FloatProgress(value=0.0, max=6245533.0), HTML(value='')))"
      ]
     },
     "metadata": {},
     "output_type": "display_data"
    },
    {
     "name": "stdout",
     "output_type": "stream",
     "text": [
      "\n"
     ]
    }
   ],
   "source": [
    "with open(\"submission.txt\", \"w\") as f:\n",
    "    f.write(\"display_id,ad_id\\n\")\n",
    "    for k, vs in tqdm.tqdm_notebook(scores_by_display_id.items()):\n",
    "        f.write(\"{},{}\\n\".format(\n",
    "            k, \n",
    "            \" \".join([v[0] for v in sorted(vs.items(), key=lambda x: -x[1])])\n",
    "        ))"
   ]
  },
  {
   "cell_type": "markdown",
   "metadata": {},
   "source": [
    "### Add kaggle's credentials - Make sure to perform following commands on master node"
   ]
  },
  {
   "cell_type": "code",
   "execution_count": 48,
   "metadata": {},
   "outputs": [],
   "source": [
    "# mkdir ~/.kaggle\n",
    "# touch ~/.kaggle/kaggle.json\n",
    "# echo '{\"username\":\"<your user name>\",\"key\":\"<your key>\"}' > ~/.kaggle/kaggle.json\n",
    "# cat ~/.kaggle/kaggle.json\n",
    "# chmod 600 /home/hadoop/.kaggle/kaggle.json"
   ]
  },
  {
   "cell_type": "markdown",
   "metadata": {},
   "source": [
    "### submit our HW to Kaggle\n",
    "\n",
    "Obtain Kaggle API token: https://github.com/Kaggle/kaggle-api#api-credentials\n",
    "\n",
    "Making a submission: https://github.com/Kaggle/kaggle-api#submit-to-a-competition"
   ]
  },
  {
   "cell_type": "code",
   "execution_count": 49,
   "metadata": {},
   "outputs": [
    {
     "name": "stdout",
     "output_type": "stream",
     "text": [
      "100%|########################################| 260M/260M [00:07<00:00, 36.8MB/s]\n",
      "Successfully submitted to Outbrain Click Prediction"
     ]
    }
   ],
   "source": [
    "! kaggle competitions submit -f submission.txt outbrain-click-prediction -m \"baseline\""
   ]
  }
 ],
 "metadata": {
  "hide_input": false,
  "kernelspec": {
   "display_name": "Python 3",
   "language": "python",
   "name": "python3"
  },
  "language_info": {
   "codemirror_mode": {
    "name": "ipython",
    "version": 3
   },
   "file_extension": ".py",
   "mimetype": "text/x-python",
   "name": "python",
   "nbconvert_exporter": "python",
   "pygments_lexer": "ipython3",
   "version": "3.6.8"
  },
  "toc": {
   "base_numbering": 1,
   "nav_menu": {},
   "number_sections": true,
   "sideBar": true,
   "skip_h1_title": false,
   "title_cell": "Table of Contents",
   "title_sidebar": "Contents",
   "toc_cell": true,
   "toc_position": {},
   "toc_section_display": true,
   "toc_window_display": true
  }
 },
 "nbformat": 4,
 "nbformat_minor": 4
}
