{
 "cells": [
  {
   "cell_type": "code",
   "execution_count": 1,
   "metadata": {},
   "outputs": [],
   "source": [
    "# Checklist:\n",
    "# AWS emr-5.29.0\n",
    "# MASTER r5d.8xlarge 1x, no EBS\n",
    "# CORE r5d.8xlarge 4x, no EBS\n",
    "# Custom bootstrap action: s3://ydatazian/bootstrap.sh\n",
    "# Allow ssh in master node security group"
   ]
  },
  {
   "cell_type": "code",
   "execution_count": 2,
   "metadata": {},
   "outputs": [],
   "source": [
    "import tqdm.notebook as tqdm\n",
    "import numpy as np\n",
    "import scipy\n",
    "import sklearn\n",
    "import matplotlib.pyplot as plt\n",
    "import pandas as pd\n",
    "pd.set_option('max_colwidth', 120 * 10)\n",
    "pd.set_option('display.width', 120)"
   ]
  },
  {
   "cell_type": "markdown",
   "metadata": {},
   "source": [
    "# SparkSession\n",
    "\n",
    "https://spark.apache.org/docs/2.4.4/api/python/pyspark.html\n",
    "\n",
    "https://spark.apache.org/docs/2.4.4/api/python/pyspark.sql.html"
   ]
  },
  {
   "cell_type": "code",
   "execution_count": 3,
   "metadata": {
    "scrolled": true
   },
   "outputs": [
    {
     "name": "stdout",
     "output_type": "stream",
     "text": [
      "NameNode: http://ec2-54-144-209-69.compute-1.amazonaws.com:50070\n",
      "YARN: http://ec2-54-144-209-69.compute-1.amazonaws.com:8088\n",
      "Spark UI: http://ec2-54-144-209-69.compute-1.amazonaws.com:20888/proxy/application_1591527324814_0002\n"
     ]
    }
   ],
   "source": [
    "import findspark\n",
    "findspark.init()\n",
    "\n",
    "import spark_utils\n",
    "from pyspark import SparkContext, SparkConf\n",
    "from pyspark.sql import SparkSession\n",
    "sc = SparkContext(\"yarn\", \"My App\", conf=spark_utils.get_spark_conf())\n",
    "se = SparkSession(sc)\n",
    "spark_utils.print_ui_links()"
   ]
  },
  {
   "cell_type": "markdown",
   "metadata": {},
   "source": [
    "# Register all tables for sql queries"
   ]
  },
  {
   "cell_type": "code",
   "execution_count": 4,
   "metadata": {
    "scrolled": true
   },
   "outputs": [
    {
     "data": {
      "application/vnd.jupyter.widget-view+json": {
       "model_id": "502d3f5a4dbd4e0fa7fd7bf70c4804db",
       "version_major": 2,
       "version_minor": 0
      },
      "text/plain": [
       "HBox(children=(FloatProgress(value=0.0, max=10.0), HTML(value='')))"
      ]
     },
     "metadata": {},
     "output_type": "display_data"
    },
    {
     "name": "stdout",
     "output_type": "stream",
     "text": [
      "clicks_test\n"
     ]
    },
    {
     "data": {
      "text/html": [
       "<div>\n",
       "<style scoped>\n",
       "    .dataframe tbody tr th:only-of-type {\n",
       "        vertical-align: middle;\n",
       "    }\n",
       "\n",
       "    .dataframe tbody tr th {\n",
       "        vertical-align: top;\n",
       "    }\n",
       "\n",
       "    .dataframe thead th {\n",
       "        text-align: right;\n",
       "    }\n",
       "</style>\n",
       "<table border=\"1\" class=\"dataframe\">\n",
       "  <thead>\n",
       "    <tr style=\"text-align: right;\">\n",
       "      <th></th>\n",
       "      <th>display_id</th>\n",
       "      <th>ad_id</th>\n",
       "    </tr>\n",
       "  </thead>\n",
       "  <tbody>\n",
       "    <tr>\n",
       "      <th>0</th>\n",
       "      <td>16874594</td>\n",
       "      <td>66758</td>\n",
       "    </tr>\n",
       "    <tr>\n",
       "      <th>1</th>\n",
       "      <td>16874594</td>\n",
       "      <td>150083</td>\n",
       "    </tr>\n",
       "    <tr>\n",
       "      <th>2</th>\n",
       "      <td>16874594</td>\n",
       "      <td>162754</td>\n",
       "    </tr>\n",
       "  </tbody>\n",
       "</table>\n",
       "</div>"
      ],
      "text/plain": [
       "  display_id   ad_id\n",
       "0   16874594   66758\n",
       "1   16874594  150083\n",
       "2   16874594  162754"
      ]
     },
     "metadata": {},
     "output_type": "display_data"
    },
    {
     "name": "stdout",
     "output_type": "stream",
     "text": [
      "clicks_train\n"
     ]
    },
    {
     "data": {
      "text/html": [
       "<div>\n",
       "<style scoped>\n",
       "    .dataframe tbody tr th:only-of-type {\n",
       "        vertical-align: middle;\n",
       "    }\n",
       "\n",
       "    .dataframe tbody tr th {\n",
       "        vertical-align: top;\n",
       "    }\n",
       "\n",
       "    .dataframe thead th {\n",
       "        text-align: right;\n",
       "    }\n",
       "</style>\n",
       "<table border=\"1\" class=\"dataframe\">\n",
       "  <thead>\n",
       "    <tr style=\"text-align: right;\">\n",
       "      <th></th>\n",
       "      <th>display_id</th>\n",
       "      <th>ad_id</th>\n",
       "      <th>clicked</th>\n",
       "    </tr>\n",
       "  </thead>\n",
       "  <tbody>\n",
       "    <tr>\n",
       "      <th>0</th>\n",
       "      <td>1</td>\n",
       "      <td>42337</td>\n",
       "      <td>0</td>\n",
       "    </tr>\n",
       "    <tr>\n",
       "      <th>1</th>\n",
       "      <td>1</td>\n",
       "      <td>139684</td>\n",
       "      <td>0</td>\n",
       "    </tr>\n",
       "    <tr>\n",
       "      <th>2</th>\n",
       "      <td>1</td>\n",
       "      <td>144739</td>\n",
       "      <td>1</td>\n",
       "    </tr>\n",
       "  </tbody>\n",
       "</table>\n",
       "</div>"
      ],
      "text/plain": [
       "  display_id   ad_id clicked\n",
       "0          1   42337       0\n",
       "1          1  139684       0\n",
       "2          1  144739       1"
      ]
     },
     "metadata": {},
     "output_type": "display_data"
    },
    {
     "name": "stdout",
     "output_type": "stream",
     "text": [
      "documents_categories\n"
     ]
    },
    {
     "data": {
      "text/html": [
       "<div>\n",
       "<style scoped>\n",
       "    .dataframe tbody tr th:only-of-type {\n",
       "        vertical-align: middle;\n",
       "    }\n",
       "\n",
       "    .dataframe tbody tr th {\n",
       "        vertical-align: top;\n",
       "    }\n",
       "\n",
       "    .dataframe thead th {\n",
       "        text-align: right;\n",
       "    }\n",
       "</style>\n",
       "<table border=\"1\" class=\"dataframe\">\n",
       "  <thead>\n",
       "    <tr style=\"text-align: right;\">\n",
       "      <th></th>\n",
       "      <th>document_id</th>\n",
       "      <th>category_id</th>\n",
       "      <th>confidence_level</th>\n",
       "    </tr>\n",
       "  </thead>\n",
       "  <tbody>\n",
       "    <tr>\n",
       "      <th>0</th>\n",
       "      <td>1595802</td>\n",
       "      <td>1611</td>\n",
       "      <td>0.92</td>\n",
       "    </tr>\n",
       "    <tr>\n",
       "      <th>1</th>\n",
       "      <td>1595802</td>\n",
       "      <td>1610</td>\n",
       "      <td>0.07</td>\n",
       "    </tr>\n",
       "    <tr>\n",
       "      <th>2</th>\n",
       "      <td>1524246</td>\n",
       "      <td>1807</td>\n",
       "      <td>0.92</td>\n",
       "    </tr>\n",
       "  </tbody>\n",
       "</table>\n",
       "</div>"
      ],
      "text/plain": [
       "  document_id category_id confidence_level\n",
       "0     1595802        1611             0.92\n",
       "1     1595802        1610             0.07\n",
       "2     1524246        1807             0.92"
      ]
     },
     "metadata": {},
     "output_type": "display_data"
    },
    {
     "name": "stdout",
     "output_type": "stream",
     "text": [
      "documents_entities\n"
     ]
    },
    {
     "data": {
      "text/html": [
       "<div>\n",
       "<style scoped>\n",
       "    .dataframe tbody tr th:only-of-type {\n",
       "        vertical-align: middle;\n",
       "    }\n",
       "\n",
       "    .dataframe tbody tr th {\n",
       "        vertical-align: top;\n",
       "    }\n",
       "\n",
       "    .dataframe thead th {\n",
       "        text-align: right;\n",
       "    }\n",
       "</style>\n",
       "<table border=\"1\" class=\"dataframe\">\n",
       "  <thead>\n",
       "    <tr style=\"text-align: right;\">\n",
       "      <th></th>\n",
       "      <th>document_id</th>\n",
       "      <th>entity_id</th>\n",
       "      <th>confidence_level</th>\n",
       "    </tr>\n",
       "  </thead>\n",
       "  <tbody>\n",
       "    <tr>\n",
       "      <th>0</th>\n",
       "      <td>1524246</td>\n",
       "      <td>f9eec25663db4cd83183f5c805186f16</td>\n",
       "      <td>0.672865314504701</td>\n",
       "    </tr>\n",
       "    <tr>\n",
       "      <th>1</th>\n",
       "      <td>1524246</td>\n",
       "      <td>55ebcfbdaff1d6f60b3907151f38527a</td>\n",
       "      <td>0.399113728441297</td>\n",
       "    </tr>\n",
       "    <tr>\n",
       "      <th>2</th>\n",
       "      <td>1524246</td>\n",
       "      <td>839907a972930b17b125eb0247898412</td>\n",
       "      <td>0.392095749652966</td>\n",
       "    </tr>\n",
       "  </tbody>\n",
       "</table>\n",
       "</div>"
      ],
      "text/plain": [
       "  document_id                         entity_id   confidence_level\n",
       "0     1524246  f9eec25663db4cd83183f5c805186f16  0.672865314504701\n",
       "1     1524246  55ebcfbdaff1d6f60b3907151f38527a  0.399113728441297\n",
       "2     1524246  839907a972930b17b125eb0247898412  0.392095749652966"
      ]
     },
     "metadata": {},
     "output_type": "display_data"
    },
    {
     "name": "stdout",
     "output_type": "stream",
     "text": [
      "documents_meta\n"
     ]
    },
    {
     "data": {
      "text/html": [
       "<div>\n",
       "<style scoped>\n",
       "    .dataframe tbody tr th:only-of-type {\n",
       "        vertical-align: middle;\n",
       "    }\n",
       "\n",
       "    .dataframe tbody tr th {\n",
       "        vertical-align: top;\n",
       "    }\n",
       "\n",
       "    .dataframe thead th {\n",
       "        text-align: right;\n",
       "    }\n",
       "</style>\n",
       "<table border=\"1\" class=\"dataframe\">\n",
       "  <thead>\n",
       "    <tr style=\"text-align: right;\">\n",
       "      <th></th>\n",
       "      <th>document_id</th>\n",
       "      <th>source_id</th>\n",
       "      <th>publisher_id</th>\n",
       "      <th>publish_time</th>\n",
       "    </tr>\n",
       "  </thead>\n",
       "  <tbody>\n",
       "    <tr>\n",
       "      <th>0</th>\n",
       "      <td>1595802</td>\n",
       "      <td>1</td>\n",
       "      <td>603</td>\n",
       "      <td>2016-06-05 00:00:00</td>\n",
       "    </tr>\n",
       "    <tr>\n",
       "      <th>1</th>\n",
       "      <td>1524246</td>\n",
       "      <td>1</td>\n",
       "      <td>603</td>\n",
       "      <td>2016-05-26 11:00:00</td>\n",
       "    </tr>\n",
       "    <tr>\n",
       "      <th>2</th>\n",
       "      <td>1617787</td>\n",
       "      <td>1</td>\n",
       "      <td>603</td>\n",
       "      <td>2016-05-27 00:00:00</td>\n",
       "    </tr>\n",
       "  </tbody>\n",
       "</table>\n",
       "</div>"
      ],
      "text/plain": [
       "  document_id source_id publisher_id         publish_time\n",
       "0     1595802         1          603  2016-06-05 00:00:00\n",
       "1     1524246         1          603  2016-05-26 11:00:00\n",
       "2     1617787         1          603  2016-05-27 00:00:00"
      ]
     },
     "metadata": {},
     "output_type": "display_data"
    },
    {
     "name": "stdout",
     "output_type": "stream",
     "text": [
      "documents_topics\n"
     ]
    },
    {
     "data": {
      "text/html": [
       "<div>\n",
       "<style scoped>\n",
       "    .dataframe tbody tr th:only-of-type {\n",
       "        vertical-align: middle;\n",
       "    }\n",
       "\n",
       "    .dataframe tbody tr th {\n",
       "        vertical-align: top;\n",
       "    }\n",
       "\n",
       "    .dataframe thead th {\n",
       "        text-align: right;\n",
       "    }\n",
       "</style>\n",
       "<table border=\"1\" class=\"dataframe\">\n",
       "  <thead>\n",
       "    <tr style=\"text-align: right;\">\n",
       "      <th></th>\n",
       "      <th>document_id</th>\n",
       "      <th>topic_id</th>\n",
       "      <th>confidence_level</th>\n",
       "    </tr>\n",
       "  </thead>\n",
       "  <tbody>\n",
       "    <tr>\n",
       "      <th>0</th>\n",
       "      <td>1595802</td>\n",
       "      <td>140</td>\n",
       "      <td>0.0731131601068925</td>\n",
       "    </tr>\n",
       "    <tr>\n",
       "      <th>1</th>\n",
       "      <td>1595802</td>\n",
       "      <td>16</td>\n",
       "      <td>0.0594164867373976</td>\n",
       "    </tr>\n",
       "    <tr>\n",
       "      <th>2</th>\n",
       "      <td>1595802</td>\n",
       "      <td>143</td>\n",
       "      <td>0.0454207537554526</td>\n",
       "    </tr>\n",
       "  </tbody>\n",
       "</table>\n",
       "</div>"
      ],
      "text/plain": [
       "  document_id topic_id    confidence_level\n",
       "0     1595802      140  0.0731131601068925\n",
       "1     1595802       16  0.0594164867373976\n",
       "2     1595802      143  0.0454207537554526"
      ]
     },
     "metadata": {},
     "output_type": "display_data"
    },
    {
     "name": "stdout",
     "output_type": "stream",
     "text": [
      "events\n"
     ]
    },
    {
     "data": {
      "text/html": [
       "<div>\n",
       "<style scoped>\n",
       "    .dataframe tbody tr th:only-of-type {\n",
       "        vertical-align: middle;\n",
       "    }\n",
       "\n",
       "    .dataframe tbody tr th {\n",
       "        vertical-align: top;\n",
       "    }\n",
       "\n",
       "    .dataframe thead th {\n",
       "        text-align: right;\n",
       "    }\n",
       "</style>\n",
       "<table border=\"1\" class=\"dataframe\">\n",
       "  <thead>\n",
       "    <tr style=\"text-align: right;\">\n",
       "      <th></th>\n",
       "      <th>display_id</th>\n",
       "      <th>uuid</th>\n",
       "      <th>document_id</th>\n",
       "      <th>timestamp</th>\n",
       "      <th>platform</th>\n",
       "      <th>geo_location</th>\n",
       "    </tr>\n",
       "  </thead>\n",
       "  <tbody>\n",
       "    <tr>\n",
       "      <th>0</th>\n",
       "      <td>1</td>\n",
       "      <td>cb8c55702adb93</td>\n",
       "      <td>379743</td>\n",
       "      <td>61</td>\n",
       "      <td>3</td>\n",
       "      <td>US&gt;SC&gt;519</td>\n",
       "    </tr>\n",
       "    <tr>\n",
       "      <th>1</th>\n",
       "      <td>2</td>\n",
       "      <td>79a85fa78311b9</td>\n",
       "      <td>1794259</td>\n",
       "      <td>81</td>\n",
       "      <td>2</td>\n",
       "      <td>US&gt;CA&gt;807</td>\n",
       "    </tr>\n",
       "    <tr>\n",
       "      <th>2</th>\n",
       "      <td>3</td>\n",
       "      <td>822932ce3d8757</td>\n",
       "      <td>1179111</td>\n",
       "      <td>182</td>\n",
       "      <td>2</td>\n",
       "      <td>US&gt;MI&gt;505</td>\n",
       "    </tr>\n",
       "  </tbody>\n",
       "</table>\n",
       "</div>"
      ],
      "text/plain": [
       "  display_id            uuid document_id timestamp platform geo_location\n",
       "0          1  cb8c55702adb93      379743        61        3    US>SC>519\n",
       "1          2  79a85fa78311b9     1794259        81        2    US>CA>807\n",
       "2          3  822932ce3d8757     1179111       182        2    US>MI>505"
      ]
     },
     "metadata": {},
     "output_type": "display_data"
    },
    {
     "name": "stdout",
     "output_type": "stream",
     "text": [
      "page_views\n"
     ]
    },
    {
     "data": {
      "text/html": [
       "<div>\n",
       "<style scoped>\n",
       "    .dataframe tbody tr th:only-of-type {\n",
       "        vertical-align: middle;\n",
       "    }\n",
       "\n",
       "    .dataframe tbody tr th {\n",
       "        vertical-align: top;\n",
       "    }\n",
       "\n",
       "    .dataframe thead th {\n",
       "        text-align: right;\n",
       "    }\n",
       "</style>\n",
       "<table border=\"1\" class=\"dataframe\">\n",
       "  <thead>\n",
       "    <tr style=\"text-align: right;\">\n",
       "      <th></th>\n",
       "      <th>uuid</th>\n",
       "      <th>document_id</th>\n",
       "      <th>timestamp</th>\n",
       "      <th>platform</th>\n",
       "      <th>geo_location</th>\n",
       "      <th>traffic_source</th>\n",
       "    </tr>\n",
       "  </thead>\n",
       "  <tbody>\n",
       "    <tr>\n",
       "      <th>0</th>\n",
       "      <td>1fd5f051fba643</td>\n",
       "      <td>120</td>\n",
       "      <td>31905835</td>\n",
       "      <td>1</td>\n",
       "      <td>RS</td>\n",
       "      <td>2</td>\n",
       "    </tr>\n",
       "    <tr>\n",
       "      <th>1</th>\n",
       "      <td>8557aa9004be3b</td>\n",
       "      <td>120</td>\n",
       "      <td>32053104</td>\n",
       "      <td>1</td>\n",
       "      <td>VN&gt;44</td>\n",
       "      <td>2</td>\n",
       "    </tr>\n",
       "    <tr>\n",
       "      <th>2</th>\n",
       "      <td>c351b277a358f0</td>\n",
       "      <td>120</td>\n",
       "      <td>54013023</td>\n",
       "      <td>1</td>\n",
       "      <td>KR&gt;12</td>\n",
       "      <td>1</td>\n",
       "    </tr>\n",
       "  </tbody>\n",
       "</table>\n",
       "</div>"
      ],
      "text/plain": [
       "             uuid document_id timestamp platform geo_location traffic_source\n",
       "0  1fd5f051fba643         120  31905835        1           RS              2\n",
       "1  8557aa9004be3b         120  32053104        1        VN>44              2\n",
       "2  c351b277a358f0         120  54013023        1        KR>12              1"
      ]
     },
     "metadata": {},
     "output_type": "display_data"
    },
    {
     "name": "stdout",
     "output_type": "stream",
     "text": [
      "page_views_sample\n"
     ]
    },
    {
     "data": {
      "text/html": [
       "<div>\n",
       "<style scoped>\n",
       "    .dataframe tbody tr th:only-of-type {\n",
       "        vertical-align: middle;\n",
       "    }\n",
       "\n",
       "    .dataframe tbody tr th {\n",
       "        vertical-align: top;\n",
       "    }\n",
       "\n",
       "    .dataframe thead th {\n",
       "        text-align: right;\n",
       "    }\n",
       "</style>\n",
       "<table border=\"1\" class=\"dataframe\">\n",
       "  <thead>\n",
       "    <tr style=\"text-align: right;\">\n",
       "      <th></th>\n",
       "      <th>uuid</th>\n",
       "      <th>document_id</th>\n",
       "      <th>timestamp</th>\n",
       "      <th>platform</th>\n",
       "      <th>geo_location</th>\n",
       "      <th>traffic_source</th>\n",
       "    </tr>\n",
       "  </thead>\n",
       "  <tbody>\n",
       "    <tr>\n",
       "      <th>0</th>\n",
       "      <td>1fd5f051fba643</td>\n",
       "      <td>120</td>\n",
       "      <td>31905835</td>\n",
       "      <td>1</td>\n",
       "      <td>RS</td>\n",
       "      <td>2</td>\n",
       "    </tr>\n",
       "    <tr>\n",
       "      <th>1</th>\n",
       "      <td>8557aa9004be3b</td>\n",
       "      <td>120</td>\n",
       "      <td>32053104</td>\n",
       "      <td>1</td>\n",
       "      <td>VN&gt;44</td>\n",
       "      <td>2</td>\n",
       "    </tr>\n",
       "    <tr>\n",
       "      <th>2</th>\n",
       "      <td>c351b277a358f0</td>\n",
       "      <td>120</td>\n",
       "      <td>54013023</td>\n",
       "      <td>1</td>\n",
       "      <td>KR&gt;12</td>\n",
       "      <td>1</td>\n",
       "    </tr>\n",
       "  </tbody>\n",
       "</table>\n",
       "</div>"
      ],
      "text/plain": [
       "             uuid document_id timestamp platform geo_location traffic_source\n",
       "0  1fd5f051fba643         120  31905835        1           RS              2\n",
       "1  8557aa9004be3b         120  32053104        1        VN>44              2\n",
       "2  c351b277a358f0         120  54013023        1        KR>12              1"
      ]
     },
     "metadata": {},
     "output_type": "display_data"
    },
    {
     "name": "stdout",
     "output_type": "stream",
     "text": [
      "promoted_content\n"
     ]
    },
    {
     "data": {
      "text/html": [
       "<div>\n",
       "<style scoped>\n",
       "    .dataframe tbody tr th:only-of-type {\n",
       "        vertical-align: middle;\n",
       "    }\n",
       "\n",
       "    .dataframe tbody tr th {\n",
       "        vertical-align: top;\n",
       "    }\n",
       "\n",
       "    .dataframe thead th {\n",
       "        text-align: right;\n",
       "    }\n",
       "</style>\n",
       "<table border=\"1\" class=\"dataframe\">\n",
       "  <thead>\n",
       "    <tr style=\"text-align: right;\">\n",
       "      <th></th>\n",
       "      <th>ad_id</th>\n",
       "      <th>document_id</th>\n",
       "      <th>campaign_id</th>\n",
       "      <th>advertiser_id</th>\n",
       "    </tr>\n",
       "  </thead>\n",
       "  <tbody>\n",
       "    <tr>\n",
       "      <th>0</th>\n",
       "      <td>1</td>\n",
       "      <td>6614</td>\n",
       "      <td>1</td>\n",
       "      <td>7</td>\n",
       "    </tr>\n",
       "    <tr>\n",
       "      <th>1</th>\n",
       "      <td>2</td>\n",
       "      <td>471467</td>\n",
       "      <td>2</td>\n",
       "      <td>7</td>\n",
       "    </tr>\n",
       "    <tr>\n",
       "      <th>2</th>\n",
       "      <td>3</td>\n",
       "      <td>7692</td>\n",
       "      <td>3</td>\n",
       "      <td>7</td>\n",
       "    </tr>\n",
       "  </tbody>\n",
       "</table>\n",
       "</div>"
      ],
      "text/plain": [
       "  ad_id document_id campaign_id advertiser_id\n",
       "0     1        6614           1             7\n",
       "1     2      471467           2             7\n",
       "2     3        7692           3             7"
      ]
     },
     "metadata": {},
     "output_type": "display_data"
    },
    {
     "name": "stdout",
     "output_type": "stream",
     "text": [
      "\n"
     ]
    }
   ],
   "source": [
    "from IPython.display import display\n",
    "tables = [\"clicks_test\", \"clicks_train\", \n",
    "          \"documents_categories\", \"documents_entities\", \"documents_meta\", \"documents_topics\", \n",
    "          \"events\", \"page_views\", \"page_views_sample\", \"promoted_content\"]\n",
    "for name in tqdm.tqdm(tables):\n",
    "    df = se.read.parquet(\"s3://ydatazian/{}.parquet\".format(name))\n",
    "    df.registerTempTable(name)\n",
    "    print(name)\n",
    "    display(df.limit(3).toPandas())"
   ]
  },
  {
   "cell_type": "markdown",
   "metadata": {},
   "source": [
    "# All clicks"
   ]
  },
  {
   "cell_type": "code",
   "execution_count": 5,
   "metadata": {},
   "outputs": [
    {
     "name": "stdout",
     "output_type": "stream",
     "text": [
      "rm: `/clicks.parquet': No such file or directory\n",
      "CPU times: user 27.9 ms, sys: 5.18 ms, total: 33.1 ms\n",
      "Wall time: 35.6 s\n"
     ]
    }
   ],
   "source": [
    "%%time\n",
    "! hdfs dfs -rm -r /clicks.parquet\n",
    "se.sql(\"\"\"\n",
    "select *\n",
    "from \n",
    "    (\n",
    "    select \n",
    "        *,\n",
    "        true as is_train\n",
    "    from clicks_train\n",
    "    )\n",
    "    union\n",
    "    (\n",
    "    select \n",
    "        *,\n",
    "        \"0\" as clicked,\n",
    "        false as is_train\n",
    "    from clicks_test\n",
    "    )\n",
    "\"\"\").write.parquet(\"/clicks.parquet\")\n",
    "se.read.parquet(\"/clicks.parquet\").registerTempTable(\"clicks\")"
   ]
  },
  {
   "cell_type": "code",
   "execution_count": 6,
   "metadata": {},
   "outputs": [
    {
     "name": "stdout",
     "output_type": "stream",
     "text": [
      "+----------+------+-------+--------+\n",
      "|display_id| ad_id|clicked|is_train|\n",
      "+----------+------+-------+--------+\n",
      "|   4612607|145930|      0|    true|\n",
      "|   4612610| 78408|      0|    true|\n",
      "|   4612729|147700|      1|    true|\n",
      "|   4612742| 26711|      0|    true|\n",
      "|   4612787|347925|      0|    true|\n",
      "+----------+------+-------+--------+\n",
      "only showing top 5 rows\n",
      "\n"
     ]
    }
   ],
   "source": [
    "se.table(\"clicks\").show(5)"
   ]
  },
  {
   "cell_type": "markdown",
   "metadata": {},
   "source": [
    "# Ad_id features"
   ]
  },
  {
   "cell_type": "code",
   "execution_count": 7,
   "metadata": {},
   "outputs": [
    {
     "name": "stdout",
     "output_type": "stream",
     "text": [
      "rm: `/ad_entities.parquet': No such file or directory\n",
      "CPU times: user 15.3 ms, sys: 11.9 ms, total: 27.2 ms\n",
      "Wall time: 9.23 s\n"
     ]
    }
   ],
   "source": [
    "%%time\n",
    "! hdfs dfs -rm -r /ad_entities.parquet\n",
    "se.sql(\"\"\"\n",
    "select \n",
    "    pc.ad_id,\n",
    "    collect_list(struct(de.entity_id, cast(de.confidence_level as float) as confidence_level)) as ad_entities\n",
    "from promoted_content as pc join documents_entities as de on pc.document_id = de.document_id\n",
    "group by pc.ad_id\n",
    "\"\"\").write.parquet(\"/ad_entities.parquet\")\n",
    "se.read.parquet(\"/ad_entities.parquet\").registerTempTable(\"ad_entities\")"
   ]
  },
  {
   "cell_type": "code",
   "execution_count": 8,
   "metadata": {},
   "outputs": [
    {
     "data": {
      "text/html": [
       "<div>\n",
       "<style scoped>\n",
       "    .dataframe tbody tr th:only-of-type {\n",
       "        vertical-align: middle;\n",
       "    }\n",
       "\n",
       "    .dataframe tbody tr th {\n",
       "        vertical-align: top;\n",
       "    }\n",
       "\n",
       "    .dataframe thead th {\n",
       "        text-align: right;\n",
       "    }\n",
       "</style>\n",
       "<table border=\"1\" class=\"dataframe\">\n",
       "  <thead>\n",
       "    <tr style=\"text-align: right;\">\n",
       "      <th></th>\n",
       "      <th>ad_id</th>\n",
       "      <th>ad_entities</th>\n",
       "    </tr>\n",
       "  </thead>\n",
       "  <tbody>\n",
       "    <tr>\n",
       "      <th>0</th>\n",
       "      <td>100142</td>\n",
       "      <td>[(98bf11f29dd0160f58d870c0c7c6f07f, 0.226028174161911)]</td>\n",
       "    </tr>\n",
       "    <tr>\n",
       "      <th>1</th>\n",
       "      <td>100786</td>\n",
       "      <td>[(810e7275c37b02ca9a5f9d9d231026a5, 0.4200795590877533), (8324e76d44852e22856240b6d1aef8ed, 0.35910481214523315), (d551b0d2feb1f8a89239bccddd1165d8, 0.3047851026058197), (b3a036f452490cf3f66b3e9dd26e45c8, 0.2971663773059845), (1834eb4deaf946bebcd2f6a3e21e7261, 0.28737881779670715), (10fc9950c0115ec50bda13e11c97371b, 0.23719897866249084)]</td>\n",
       "    </tr>\n",
       "    <tr>\n",
       "      <th>2</th>\n",
       "      <td>100927</td>\n",
       "      <td>[(131f700eabaa8f979501bfab7e1292e9, 0.5807134509086609), (b7da2a65e94bb207d22d2f0a4160be8f, 0.487897664308548), (ef598e7005c5ce1415fe6d8c7b40b6fc, 0.2968069016933441), (16eab421b5c6234b361fbb4e165a5748, 0.2683892548084259), (88c79cc2ad4990c2157c9e87193ad9fd, 0.2671460807323456)]</td>\n",
       "    </tr>\n",
       "    <tr>\n",
       "      <th>3</th>\n",
       "      <td>100956</td>\n",
       "      <td>[(328584ed6b068951678fa66d0d555aa1, 0.4431387782096863)]</td>\n",
       "    </tr>\n",
       "    <tr>\n",
       "      <th>4</th>\n",
       "      <td>101136</td>\n",
       "      <td>[(a76d913c10865c3b5c2b2fbc194af0bc, 0.8150035738945007)]</td>\n",
       "    </tr>\n",
       "  </tbody>\n",
       "</table>\n",
       "</div>"
      ],
      "text/plain": [
       "    ad_id  \\\n",
       "0  100142   \n",
       "1  100786   \n",
       "2  100927   \n",
       "3  100956   \n",
       "4  101136   \n",
       "\n",
       "                                                                                                                                                                                                                                                                                                                                           ad_entities  \n",
       "0                                                                                                                                                                                                                                                                                              [(98bf11f29dd0160f58d870c0c7c6f07f, 0.226028174161911)]  \n",
       "1  [(810e7275c37b02ca9a5f9d9d231026a5, 0.4200795590877533), (8324e76d44852e22856240b6d1aef8ed, 0.35910481214523315), (d551b0d2feb1f8a89239bccddd1165d8, 0.3047851026058197), (b3a036f452490cf3f66b3e9dd26e45c8, 0.2971663773059845), (1834eb4deaf946bebcd2f6a3e21e7261, 0.28737881779670715), (10fc9950c0115ec50bda13e11c97371b, 0.23719897866249084)]  \n",
       "2                                                              [(131f700eabaa8f979501bfab7e1292e9, 0.5807134509086609), (b7da2a65e94bb207d22d2f0a4160be8f, 0.487897664308548), (ef598e7005c5ce1415fe6d8c7b40b6fc, 0.2968069016933441), (16eab421b5c6234b361fbb4e165a5748, 0.2683892548084259), (88c79cc2ad4990c2157c9e87193ad9fd, 0.2671460807323456)]  \n",
       "3                                                                                                                                                                                                                                                                                             [(328584ed6b068951678fa66d0d555aa1, 0.4431387782096863)]  \n",
       "4                                                                                                                                                                                                                                                                                             [(a76d913c10865c3b5c2b2fbc194af0bc, 0.8150035738945007)]  "
      ]
     },
     "execution_count": 8,
     "metadata": {},
     "output_type": "execute_result"
    }
   ],
   "source": [
    "se.table(\"ad_entities\").limit(5).toPandas()"
   ]
  },
  {
   "cell_type": "code",
   "execution_count": 9,
   "metadata": {},
   "outputs": [
    {
     "name": "stdout",
     "output_type": "stream",
     "text": [
      "root\n",
      " |-- ad_id: string (nullable = true)\n",
      " |-- ad_entities: array (nullable = true)\n",
      " |    |-- element: struct (containsNull = true)\n",
      " |    |    |-- entity_id: string (nullable = true)\n",
      " |    |    |-- confidence_level: float (nullable = true)\n",
      "\n"
     ]
    }
   ],
   "source": [
    "se.table(\"ad_entities\").printSchema()"
   ]
  },
  {
   "cell_type": "code",
   "execution_count": 10,
   "metadata": {},
   "outputs": [
    {
     "name": "stdout",
     "output_type": "stream",
     "text": [
      "rm: `/ad_topics.parquet': No such file or directory\n",
      "CPU times: user 15.5 ms, sys: 10.3 ms, total: 25.9 ms\n",
      "Wall time: 8.34 s\n"
     ]
    }
   ],
   "source": [
    "%%time\n",
    "! hdfs dfs -rm -r /ad_topics.parquet\n",
    "se.sql(\"\"\"\n",
    "select \n",
    "    pc.ad_id,\n",
    "    collect_list(struct(dt.topic_id, cast(dt.confidence_level as float) as confidence_level)) as ad_topics\n",
    "from promoted_content as pc join documents_topics as dt on pc.document_id = dt.document_id\n",
    "group by pc.ad_id\n",
    "\"\"\").write.parquet(\"/ad_topics.parquet\")\n",
    "se.read.parquet(\"/ad_topics.parquet\").registerTempTable(\"ad_topics\")"
   ]
  },
  {
   "cell_type": "code",
   "execution_count": 11,
   "metadata": {},
   "outputs": [
    {
     "data": {
      "text/html": [
       "<div>\n",
       "<style scoped>\n",
       "    .dataframe tbody tr th:only-of-type {\n",
       "        vertical-align: middle;\n",
       "    }\n",
       "\n",
       "    .dataframe tbody tr th {\n",
       "        vertical-align: top;\n",
       "    }\n",
       "\n",
       "    .dataframe thead th {\n",
       "        text-align: right;\n",
       "    }\n",
       "</style>\n",
       "<table border=\"1\" class=\"dataframe\">\n",
       "  <thead>\n",
       "    <tr style=\"text-align: right;\">\n",
       "      <th></th>\n",
       "      <th>ad_id</th>\n",
       "      <th>ad_topics</th>\n",
       "    </tr>\n",
       "  </thead>\n",
       "  <tbody>\n",
       "    <tr>\n",
       "      <th>0</th>\n",
       "      <td>100142</td>\n",
       "      <td>[(181, 0.3299613893032074)]</td>\n",
       "    </tr>\n",
       "    <tr>\n",
       "      <th>1</th>\n",
       "      <td>100786</td>\n",
       "      <td>[(249, 0.1530769318342209), (32, 0.08436058461666107), (297, 0.0451713502407074), (192, 0.03516631945967674), (85, 0.01974184438586235), (10, 0.01973884180188179), (181, 0.018032323569059372), (65, 0.012276466004550457), (146, 0.011644311249256134), (219, 0.0092721376568079)]</td>\n",
       "    </tr>\n",
       "    <tr>\n",
       "      <th>2</th>\n",
       "      <td>100841</td>\n",
       "      <td>[(92, 0.038239285349845886), (8, 0.029061492532491684), (100, 0.0285784974694252), (174, 0.019483203068375587), (258, 0.015252185054123402)]</td>\n",
       "    </tr>\n",
       "    <tr>\n",
       "      <th>3</th>\n",
       "      <td>100927</td>\n",
       "      <td>[(269, 0.34830808639526367)]</td>\n",
       "    </tr>\n",
       "    <tr>\n",
       "      <th>4</th>\n",
       "      <td>100956</td>\n",
       "      <td>[(16, 0.07634807378053665), (85, 0.0463380366563797), (249, 0.030323520302772522), (92, 0.018669400364160538), (17, 0.014306258410215378), (154, 0.010022616013884544), (258, 0.008142800070345402)]</td>\n",
       "    </tr>\n",
       "  </tbody>\n",
       "</table>\n",
       "</div>"
      ],
      "text/plain": [
       "    ad_id  \\\n",
       "0  100142   \n",
       "1  100786   \n",
       "2  100841   \n",
       "3  100927   \n",
       "4  100956   \n",
       "\n",
       "                                                                                                                                                                                                                                                                              ad_topics  \n",
       "0                                                                                                                                                                                                                                                           [(181, 0.3299613893032074)]  \n",
       "1  [(249, 0.1530769318342209), (32, 0.08436058461666107), (297, 0.0451713502407074), (192, 0.03516631945967674), (85, 0.01974184438586235), (10, 0.01973884180188179), (181, 0.018032323569059372), (65, 0.012276466004550457), (146, 0.011644311249256134), (219, 0.0092721376568079)]  \n",
       "2                                                                                                                                          [(92, 0.038239285349845886), (8, 0.029061492532491684), (100, 0.0285784974694252), (174, 0.019483203068375587), (258, 0.015252185054123402)]  \n",
       "3                                                                                                                                                                                                                                                          [(269, 0.34830808639526367)]  \n",
       "4                                                                                  [(16, 0.07634807378053665), (85, 0.0463380366563797), (249, 0.030323520302772522), (92, 0.018669400364160538), (17, 0.014306258410215378), (154, 0.010022616013884544), (258, 0.008142800070345402)]  "
      ]
     },
     "execution_count": 11,
     "metadata": {},
     "output_type": "execute_result"
    }
   ],
   "source": [
    "se.table(\"ad_topics\").limit(5).toPandas()"
   ]
  },
  {
   "cell_type": "code",
   "execution_count": 12,
   "metadata": {},
   "outputs": [
    {
     "name": "stdout",
     "output_type": "stream",
     "text": [
      "root\n",
      " |-- ad_id: string (nullable = true)\n",
      " |-- ad_topics: array (nullable = true)\n",
      " |    |-- element: struct (containsNull = true)\n",
      " |    |    |-- topic_id: string (nullable = true)\n",
      " |    |    |-- confidence_level: float (nullable = true)\n",
      "\n"
     ]
    }
   ],
   "source": [
    "se.table(\"ad_topics\").printSchema()"
   ]
  },
  {
   "cell_type": "markdown",
   "metadata": {},
   "source": [
    "# Display_id features (based on page_views)"
   ]
  },
  {
   "cell_type": "code",
   "execution_count": 13,
   "metadata": {},
   "outputs": [
    {
     "name": "stdout",
     "output_type": "stream",
     "text": [
      "717506889\n",
      "19794967\n"
     ]
    }
   ],
   "source": [
    "# 3% of users have display events with clicks (organic click rate)\n",
    "print(se.sql(\"select distinct(uuid) from page_views\").count())\n",
    "print(se.sql(\"select distinct(uuid) from events\").count())"
   ]
  },
  {
   "cell_type": "code",
   "execution_count": 14,
   "metadata": {},
   "outputs": [
    {
     "name": "stdout",
     "output_type": "stream",
     "text": [
      "23120126\n",
      "23120126\n"
     ]
    }
   ],
   "source": [
    "# display_ids are unique\n",
    "print(se.table('events').count())\n",
    "print(se.sql('select distinct(display_id) from events').count())"
   ]
  },
  {
   "cell_type": "code",
   "execution_count": 15,
   "metadata": {},
   "outputs": [
    {
     "name": "stdout",
     "output_type": "stream",
     "text": [
      "16874593\n",
      "6245533\n"
     ]
    }
   ],
   "source": [
    "# all display_ids are split 73% train / 27% test\n",
    "print(se.sql('select distinct(display_id) from clicks_train').count())\n",
    "print(se.sql('select distinct(display_id) from clicks_test').count())"
   ]
  },
  {
   "cell_type": "code",
   "execution_count": 16,
   "metadata": {},
   "outputs": [
    {
     "name": "stdout",
     "output_type": "stream",
     "text": [
      "1.0\n",
      "92.0\n",
      "CPU times: user 80.1 ms, sys: 0 ns, total: 80.1 ms\n",
      "Wall time: 26.8 s\n"
     ]
    },
    {
     "data": {
      "image/png": "[encoded data removed]",
      "text/plain": [
       "<Figure size 432x288 with 1 Axes>"
      ]
     },
     "metadata": {
      "needs_background": "light"
     },
     "output_type": "display_data"
    }
   ],
   "source": [
    "%%time\n",
    "# page views per user\n",
    "sizes = se.sql(\"\"\"\n",
    "select \n",
    "    uuid,\n",
    "    count(1) as s\n",
    "from page_views\n",
    "group by uuid\n",
    "limit 100000\n",
    "\"\"\").rdd.map(lambda x: x.s).collect()\n",
    "sizes = np.array(sizes)\n",
    "print(np.percentile(sizes, 1))\n",
    "print(np.percentile(sizes, 99))\n",
    "sizes = sizes[sizes < np.percentile(sizes, 99)]\n",
    "_ = plt.hist(sizes, bins=100)"
   ]
  },
  {
   "cell_type": "code",
   "execution_count": 17,
   "metadata": {},
   "outputs": [
    {
     "name": "stdout",
     "output_type": "stream",
     "text": [
      "rm: `/display_topics.parquet': No such file or directory\n",
      "CPU times: user 19 ms, sys: 12.1 ms, total: 31 ms\n",
      "Wall time: 1min 7s\n"
     ]
    }
   ],
   "source": [
    "%%time\n",
    "! hdfs dfs -rm -r /display_topics.parquet\n",
    "se.sql(\"\"\"\n",
    "select \n",
    "    tmp.display_id,\n",
    "    collect_list(struct(tmp.topic_id, tmp.confidence_level)) as display_topics\n",
    "from\n",
    "    (\n",
    "    select \n",
    "        e.display_id,\n",
    "        dt.topic_id,\n",
    "        sum(cast(dt.confidence_level as float)) as confidence_level\n",
    "    from events as e \n",
    "        join page_views as pv on e.uuid = pv.uuid\n",
    "        join documents_topics as dt on pv.document_id = dt.document_id\n",
    "    group by e.display_id, dt.topic_id\n",
    "    ) as tmp\n",
    "group by tmp.display_id\n",
    "\"\"\").write.parquet(\"/display_topics.parquet\")\n",
    "se.read.parquet(\"/display_topics.parquet\").registerTempTable(\"display_topics\")"
   ]
  },
  {
   "cell_type": "code",
   "execution_count": 18,
   "metadata": {},
   "outputs": [
    {
     "data": {
      "text/html": [
       "<div>\n",
       "<style scoped>\n",
       "    .dataframe tbody tr th:only-of-type {\n",
       "        vertical-align: middle;\n",
       "    }\n",
       "\n",
       "    .dataframe tbody tr th {\n",
       "        vertical-align: top;\n",
       "    }\n",
       "\n",
       "    .dataframe thead th {\n",
       "        text-align: right;\n",
       "    }\n",
       "</style>\n",
       "<table border=\"1\" class=\"dataframe\">\n",
       "  <thead>\n",
       "    <tr style=\"text-align: right;\">\n",
       "      <th></th>\n",
       "      <th>display_id</th>\n",
       "      <th>display_topics</th>\n",
       "    </tr>\n",
       "  </thead>\n",
       "  <tbody>\n",
       "    <tr>\n",
       "      <th>0</th>\n",
       "      <td>10000108</td>\n",
       "      <td>[(226, 0.01831120066344738), (24, 0.03409966453909874), (23, 0.011111683212220669), (36, 0.011638008058071136), (285, 0.05787719041109085)]</td>\n",
       "    </tr>\n",
       "    <tr>\n",
       "      <th>1</th>\n",
       "      <td>10000172</td>\n",
       "      <td>[(216, 0.030948465690016747), (165, 0.011910940520465374), (117, 0.009993643499910831), (296, 0.0131217110902071), (43, 0.07451725751161575), (252, 0.04121653363108635), (265, 0.017551081255078316), (65, 0.01133553497493267), (250, 0.026951756328344345), (271, 0.00905686430633068), (291, 0.011835604906082153), (140, 0.09547334164381027), (8, 0.06744621694087982)]</td>\n",
       "    </tr>\n",
       "    <tr>\n",
       "      <th>2</th>\n",
       "      <td>10000304</td>\n",
       "      <td>[(8, 0.3981176484376192), (286, 0.011767380870878696), (219, 0.008387570269405842), (53, 0.010009721852838993), (215, 0.00808124803006649), (86, 0.028774918988347054), (47, 0.035426488146185875), (92, 0.030851103365421295), (217, 0.04047518130391836), (9, 0.00835688691586256), (213, 0.008168152533471584), (233, 0.010877534747123718), (192, 0.04684021882712841), (148, 0.03774159401655197), (250, 0.01871490851044655), (165, 0.01388646475970745), (258, 0.048923324793577194), (156, 0.008396882563829422), (134, 0.008266095072031021), (181, 0.035898368805646896), (179, 0.04806268401443958), (87, 0.03606506623327732), (216, 0.008100329898297787), (160, 0.6086612334474921), (254, 0.08038891851902008), (173, 0.28092633187770844), (10, 0.16390062309801579), (43, 0.035802148282527924), (281, 0.0649278499186039), (234, 0.010964683257043362), (265, 0.0391863826662302), (16, 0.06784232892096043), (239, 0.009890459477901459), (110, 0.008071144111454487), (242, 0.010148745961487293), (284, 0.013923902995884418), (89, 0.029356347396969795), (17, 0.00829986296594143), (25, 0.09550920873880386), (19, 0.010221339762210846), (82, 0.035799325443804264), (136, 0.05665453150868416), (168, 0.0085073281...</td>\n",
       "    </tr>\n",
       "    <tr>\n",
       "      <th>3</th>\n",
       "      <td>10000454</td>\n",
       "      <td>[(66, 0.10618241131305695), (214, 0.11549584567546844)]</td>\n",
       "    </tr>\n",
       "    <tr>\n",
       "      <th>4</th>\n",
       "      <td>10000472</td>\n",
       "      <td>[(66, 0.3372142016887665), (153, 0.10199250280857086), (8, 0.07532715797424316), (288, 0.22514894604682922), (294, 0.10637307912111282), (43, 0.046946462243795395), (131, 0.0251818485558033), (170, 0.06858696043491364), (16, 0.04280128329992294), (162, 0.009045521728694439), (240, 0.5298454761505127), (172, 0.00802045688033104), (12, 0.008581609465181828), (174, 0.09856970608234406), (107, 0.028440061956644058), (252, 0.5444167256355286), (216, 0.03410104662179947), (214, 0.24369288980960846), (211, 0.03875367343425751), (93, 0.023324333131313324), (19, 0.020135674625635147), (176, 0.020381975919008255)]</td>\n",
       "    </tr>\n",
       "  </tbody>\n",
       "</table>\n",
       "</div>"
      ],
      "text/plain": [
       "  display_id  \\\n",
       "0   10000108   \n",
       "1   10000172   \n",
       "2   10000304   \n",
       "3   10000454   \n",
       "4   10000472   \n",
       "\n",
       "                                                                                                                                                                                                                                                                                                                                                                                                                                                                                                                                                                                                                                                                                                                                                                                                                                                                                                                                                                                                                                                                                                                                                                                                                                    display_topics  \n",
       "0                                                                                                                                                                                                                                                                                                                                                                                                                                                                                                                                                                                                                                                                                                                                                                                                                                                                                                                                                                                                                                                                                                      [(226, 0.01831120066344738), (24, 0.03409966453909874), (23, 0.011111683212220669), (36, 0.011638008058071136), (285, 0.05787719041109085)]  \n",
       "1                                                                                                                                                                                                                                                                                                                                                                                                                                                                                                                                                                                                                                                                                                                                                                                                                                                                    [(216, 0.030948465690016747), (165, 0.011910940520465374), (117, 0.009993643499910831), (296, 0.0131217110902071), (43, 0.07451725751161575), (252, 0.04121653363108635), (265, 0.017551081255078316), (65, 0.01133553497493267), (250, 0.026951756328344345), (271, 0.00905686430633068), (291, 0.011835604906082153), (140, 0.09547334164381027), (8, 0.06744621694087982)]  \n",
       "2  [(8, 0.3981176484376192), (286, 0.011767380870878696), (219, 0.008387570269405842), (53, 0.010009721852838993), (215, 0.00808124803006649), (86, 0.028774918988347054), (47, 0.035426488146185875), (92, 0.030851103365421295), (217, 0.04047518130391836), (9, 0.00835688691586256), (213, 0.008168152533471584), (233, 0.010877534747123718), (192, 0.04684021882712841), (148, 0.03774159401655197), (250, 0.01871490851044655), (165, 0.01388646475970745), (258, 0.048923324793577194), (156, 0.008396882563829422), (134, 0.008266095072031021), (181, 0.035898368805646896), (179, 0.04806268401443958), (87, 0.03606506623327732), (216, 0.008100329898297787), (160, 0.6086612334474921), (254, 0.08038891851902008), (173, 0.28092633187770844), (10, 0.16390062309801579), (43, 0.035802148282527924), (281, 0.0649278499186039), (234, 0.010964683257043362), (265, 0.0391863826662302), (16, 0.06784232892096043), (239, 0.009890459477901459), (110, 0.008071144111454487), (242, 0.010148745961487293), (284, 0.013923902995884418), (89, 0.029356347396969795), (17, 0.00829986296594143), (25, 0.09550920873880386), (19, 0.010221339762210846), (82, 0.035799325443804264), (136, 0.05665453150868416), (168, 0.0085073281...  \n",
       "3                                                                                                                                                                                                                                                                                                                                                                                                                                                                                                                                                                                                                                                                                                                                                                                                                                                                                                                                                                                                                                                                                                                                                                                          [(66, 0.10618241131305695), (214, 0.11549584567546844)]  \n",
       "4                                                                                                                                                                                                                                                                                                                                                                                                                                                                                                                                                                                                              [(66, 0.3372142016887665), (153, 0.10199250280857086), (8, 0.07532715797424316), (288, 0.22514894604682922), (294, 0.10637307912111282), (43, 0.046946462243795395), (131, 0.0251818485558033), (170, 0.06858696043491364), (16, 0.04280128329992294), (162, 0.009045521728694439), (240, 0.5298454761505127), (172, 0.00802045688033104), (12, 0.008581609465181828), (174, 0.09856970608234406), (107, 0.028440061956644058), (252, 0.5444167256355286), (216, 0.03410104662179947), (214, 0.24369288980960846), (211, 0.03875367343425751), (93, 0.023324333131313324), (19, 0.020135674625635147), (176, 0.020381975919008255)]  "
      ]
     },
     "execution_count": 18,
     "metadata": {},
     "output_type": "execute_result"
    }
   ],
   "source": [
    "se.table('display_topics').limit(5).toPandas()"
   ]
  },
  {
   "cell_type": "code",
   "execution_count": 19,
   "metadata": {},
   "outputs": [
    {
     "name": "stdout",
     "output_type": "stream",
     "text": [
      "rm: `/display_views.parquet': No such file or directory\n",
      "CPU times: user 21.2 ms, sys: 7.24 ms, total: 28.5 ms\n",
      "Wall time: 30.7 s\n"
     ]
    }
   ],
   "source": [
    "%%time\n",
    "! hdfs dfs -rm -r /display_views.parquet\n",
    "se.sql(\"\"\"\n",
    "select \n",
    "    e.display_id,\n",
    "    collect_list(pv.document_id) as views\n",
    "from events as e \n",
    "    join page_views as pv on e.uuid = pv.uuid\n",
    "group by e.display_id\n",
    "\"\"\").write.parquet(\"/display_views.parquet\")\n",
    "se.read.parquet(\"/display_views.parquet\").registerTempTable(\"display_views\")"
   ]
  },
  {
   "cell_type": "code",
   "execution_count": 20,
   "metadata": {},
   "outputs": [
    {
     "data": {
      "text/html": [
       "<div>\n",
       "<style scoped>\n",
       "    .dataframe tbody tr th:only-of-type {\n",
       "        vertical-align: middle;\n",
       "    }\n",
       "\n",
       "    .dataframe tbody tr th {\n",
       "        vertical-align: top;\n",
       "    }\n",
       "\n",
       "    .dataframe thead th {\n",
       "        text-align: right;\n",
       "    }\n",
       "</style>\n",
       "<table border=\"1\" class=\"dataframe\">\n",
       "  <thead>\n",
       "    <tr style=\"text-align: right;\">\n",
       "      <th></th>\n",
       "      <th>display_id</th>\n",
       "      <th>views</th>\n",
       "    </tr>\n",
       "  </thead>\n",
       "  <tbody>\n",
       "    <tr>\n",
       "      <th>0</th>\n",
       "      <td>10000108</td>\n",
       "      <td>[1126487]</td>\n",
       "    </tr>\n",
       "    <tr>\n",
       "      <th>1</th>\n",
       "      <td>10000172</td>\n",
       "      <td>[1233989]</td>\n",
       "    </tr>\n",
       "    <tr>\n",
       "      <th>2</th>\n",
       "      <td>10000304</td>\n",
       "      <td>[230213, 1077294, 1077398, 229897, 1075288, 1088232, 654481, 1077376, 1077622, 1086036, 1075290, 1077542, 1077407, 1077663]</td>\n",
       "    </tr>\n",
       "    <tr>\n",
       "      <th>3</th>\n",
       "      <td>10000454</td>\n",
       "      <td>[2410517, 2353341]</td>\n",
       "    </tr>\n",
       "    <tr>\n",
       "      <th>4</th>\n",
       "      <td>10000472</td>\n",
       "      <td>[1096452, 2350764, 1429540, 1479883, 2398538, 1179111, 2851366, 1179111, 2791394, 2206674]</td>\n",
       "    </tr>\n",
       "  </tbody>\n",
       "</table>\n",
       "</div>"
      ],
      "text/plain": [
       "  display_id  \\\n",
       "0   10000108   \n",
       "1   10000172   \n",
       "2   10000304   \n",
       "3   10000454   \n",
       "4   10000472   \n",
       "\n",
       "                                                                                                                         views  \n",
       "0                                                                                                                    [1126487]  \n",
       "1                                                                                                                    [1233989]  \n",
       "2  [230213, 1077294, 1077398, 229897, 1075288, 1088232, 654481, 1077376, 1077622, 1086036, 1075290, 1077542, 1077407, 1077663]  \n",
       "3                                                                                                           [2410517, 2353341]  \n",
       "4                                   [1096452, 2350764, 1429540, 1479883, 2398538, 1179111, 2851366, 1179111, 2791394, 2206674]  "
      ]
     },
     "execution_count": 20,
     "metadata": {},
     "output_type": "execute_result"
    }
   ],
   "source": [
    "se.table('display_views').limit(5).toPandas()"
   ]
  },
  {
   "cell_type": "code",
   "execution_count": 21,
   "metadata": {},
   "outputs": [
    {
     "name": "stdout",
     "output_type": "stream",
     "text": [
      "39.8 M  /ad_entities.parquet\r\n",
      "13.9 M  /ad_topics.parquet\r\n",
      "888.2 M  /clicks.parquet\r\n",
      "3.7 G  /display_topics.parquet\r\n",
      "1.8 G  /display_views.parquet\r\n",
      "0  /tmp\r\n",
      "220.5 M  /user\r\n",
      "474.9 K  /var\r\n"
     ]
    }
   ],
   "source": [
    "! hdfs dfs -du -s -h \"/*\""
   ]
  },
  {
   "cell_type": "markdown",
   "metadata": {},
   "source": [
    "# Prepare dataset for VW\n",
    "\n",
    "We will predict a *click* based on:\n",
    "- ad_id\n",
    "- document_id\n",
    "- campaign_id\n",
    "- advertiser_id\n",
    "- ad_topics\n",
    "- ad_entities\n",
    "- display_topics\n",
    "- display_views"
   ]
  },
  {
   "cell_type": "code",
   "execution_count": 22,
   "metadata": {},
   "outputs": [
    {
     "name": "stdout",
     "output_type": "stream",
     "text": [
      "+----------+------+-------+--------+\n",
      "|display_id| ad_id|clicked|is_train|\n",
      "+----------+------+-------+--------+\n",
      "|   4612607|145930|      0|    true|\n",
      "|   4612610| 78408|      0|    true|\n",
      "|   4612729|147700|      1|    true|\n",
      "+----------+------+-------+--------+\n",
      "only showing top 3 rows\n",
      "\n"
     ]
    }
   ],
   "source": [
    "se.table(\"clicks\").show(3)"
   ]
  },
  {
   "cell_type": "code",
   "execution_count": 33,
   "metadata": {},
   "outputs": [
    {
     "name": "stdout",
     "output_type": "stream",
     "text": [
      "Deleted /features.parquet\n",
      "CPU times: user 24.7 ms, sys: 8.37 ms, total: 33 ms\n",
      "Wall time: 1min 49s\n"
     ]
    }
   ],
   "source": [
    "%%time\n",
    "# join everything\n",
    "! hdfs dfs -rm -r /features.parquet\n",
    "se.sql(\"\"\"\n",
    "select \n",
    "    c.*,\n",
    "    pc.document_id,\n",
    "    pc.campaign_id,\n",
    "    pc.advertiser_id,\n",
    "    at.ad_topics,\n",
    "    ae.ad_entities,\n",
    "    dt.display_topics,\n",
    "    dv.views,\n",
    "    e.document_id as display_document_id,\n",
    "    split(e.geo_location, '>')[0] as country, \n",
    "    split(e.geo_location, '>')[1] as state,\n",
    "    split(e.geo_location, '>')[2] as DMA,\n",
    "    dayofweek(to_date(from_unixtime(e.timestamp + 1465876799998,'YYYY-MM-dd'))) as day_of_week,\n",
    "    e.platform,\n",
    "    hour(from_unixtime(e.timestamp + 1465876799998)) as hour_in_day,\n",
    "    m.source_id,\n",
    "    m.publisher_id,\n",
    "    dayofweek(to_date(m.publish_time)) as publish_day_of_week,\n",
    "    hour(to_timestamp(m.publish_time)) as publish_hour\n",
    "from clicks as c \n",
    "    left join promoted_content as pc on c.ad_id = pc.ad_id\n",
    "    left join ad_topics as at        on c.ad_id = at.ad_id\n",
    "    left join ad_entities as ae      on c.ad_id = ae.ad_id\n",
    "    left join display_topics as dt   on c.display_id = dt.display_id\n",
    "    left join display_views as dv    on c.display_id = dv.display_id\n",
    "    left join events as e on e.display_id = c.display_id\n",
    "    left join documents_meta as m on m.document_id = e.document_id\n",
    "\"\"\").write.parquet(\"/features.parquet\")\n",
    "se.read.parquet(\"/features.parquet\").registerTempTable('features')"
   ]
  },
  {
   "cell_type": "code",
   "execution_count": 34,
   "metadata": {},
   "outputs": [
    {
     "data": {
      "text/html": [
       "<div>\n",
       "<style scoped>\n",
       "    .dataframe tbody tr th:only-of-type {\n",
       "        vertical-align: middle;\n",
       "    }\n",
       "\n",
       "    .dataframe tbody tr th {\n",
       "        vertical-align: top;\n",
       "    }\n",
       "\n",
       "    .dataframe thead th {\n",
       "        text-align: right;\n",
       "    }\n",
       "</style>\n",
       "<table border=\"1\" class=\"dataframe\">\n",
       "  <thead>\n",
       "    <tr style=\"text-align: right;\">\n",
       "      <th></th>\n",
       "      <th>display_id</th>\n",
       "      <th>ad_id</th>\n",
       "      <th>clicked</th>\n",
       "      <th>is_train</th>\n",
       "      <th>document_id</th>\n",
       "      <th>campaign_id</th>\n",
       "      <th>advertiser_id</th>\n",
       "      <th>ad_topics</th>\n",
       "      <th>ad_entities</th>\n",
       "      <th>display_topics</th>\n",
       "      <th>...</th>\n",
       "      <th>country</th>\n",
       "      <th>state</th>\n",
       "      <th>DMA</th>\n",
       "      <th>day_of_week</th>\n",
       "      <th>platform</th>\n",
       "      <th>hour_in_day</th>\n",
       "      <th>source_id</th>\n",
       "      <th>publisher_id</th>\n",
       "      <th>publish_day_of_week</th>\n",
       "      <th>publish_hour</th>\n",
       "    </tr>\n",
       "  </thead>\n",
       "  <tbody>\n",
       "    <tr>\n",
       "      <th>0</th>\n",
       "      <td>12873428</td>\n",
       "      <td>131051</td>\n",
       "      <td>0</td>\n",
       "      <td>True</td>\n",
       "      <td>1260918</td>\n",
       "      <td>16261</td>\n",
       "      <td>2594</td>\n",
       "      <td>[(285, 0.27981138229370117)]</td>\n",
       "      <td>[(e9fb4cd4ccfb2b368b80c81c6e361404, 0.9245238900184631)]</td>\n",
       "      <td>[(235, 0.039750855416059494), (89, 0.06759750843048096), (198, 0.026800742372870445), (16, 0.021410731598734856), (248, 0.010304695926606655), (20, 0.060568951070308685), (140, 0.14258135855197906), (138, 0.08946835249662399), (238, 0.024729739874601364), (285, 0.03563092276453972), (194, 0.20825890079140663), (184, 0.031643666326999664), (160, 0.15520574152469635), (66, 0.023279905319213867), (281, 0.008753185160458088), (143, 0.0881824716925621), (57, 0.012920819222927094), (43, 0.01465380098670721)]</td>\n",
       "      <td>...</td>\n",
       "      <td>GB</td>\n",
       "      <td>None</td>\n",
       "      <td>None</td>\n",
       "      <td>None</td>\n",
       "      <td>3</td>\n",
       "      <td>None</td>\n",
       "      <td>890</td>\n",
       "      <td>522</td>\n",
       "      <td>3</td>\n",
       "      <td>8</td>\n",
       "    </tr>\n",
       "    <tr>\n",
       "      <th>1</th>\n",
       "      <td>12873428</td>\n",
       "      <td>406558</td>\n",
       "      <td>0</td>\n",
       "      <td>True</td>\n",
       "      <td>777739</td>\n",
       "      <td>30823</td>\n",
       "      <td>3728</td>\n",
       "      <td>[(2, 0.02897670306265354)]</td>\n",
       "      <td>[(7b38fb685b3add89cebb5bba2feba79b, 0.9770570397377014)]</td>\n",
       "      <td>[(235, 0.039750855416059494), (89, 0.06759750843048096), (198, 0.026800742372870445), (16, 0.021410731598734856), (248, 0.010304695926606655), (20, 0.060568951070308685), (140, 0.14258135855197906), (138, 0.08946835249662399), (238, 0.024729739874601364), (285, 0.03563092276453972), (194, 0.20825890079140663), (184, 0.031643666326999664), (160, 0.15520574152469635), (66, 0.023279905319213867), (281, 0.008753185160458088), (143, 0.0881824716925621), (57, 0.012920819222927094), (43, 0.01465380098670721)]</td>\n",
       "      <td>...</td>\n",
       "      <td>GB</td>\n",
       "      <td>None</td>\n",
       "      <td>None</td>\n",
       "      <td>None</td>\n",
       "      <td>3</td>\n",
       "      <td>None</td>\n",
       "      <td>890</td>\n",
       "      <td>522</td>\n",
       "      <td>3</td>\n",
       "      <td>8</td>\n",
       "    </tr>\n",
       "    <tr>\n",
       "      <th>2</th>\n",
       "      <td>12873428</td>\n",
       "      <td>489368</td>\n",
       "      <td>0</td>\n",
       "      <td>True</td>\n",
       "      <td>2309382</td>\n",
       "      <td>16261</td>\n",
       "      <td>2594</td>\n",
       "      <td>[(26, 0.07046321779489517), (143, 0.053482454270124435), (44, 0.039598967880010605), (247, 0.03914680331945419), (142, 0.01339764054864645)]</td>\n",
       "      <td>[(e9fb4cd4ccfb2b368b80c81c6e361404, 0.921190083026886)]</td>\n",
       "      <td>[(235, 0.039750855416059494), (89, 0.06759750843048096), (198, 0.026800742372870445), (16, 0.021410731598734856), (248, 0.010304695926606655), (20, 0.060568951070308685), (140, 0.14258135855197906), (138, 0.08946835249662399), (238, 0.024729739874601364), (285, 0.03563092276453972), (194, 0.20825890079140663), (184, 0.031643666326999664), (160, 0.15520574152469635), (66, 0.023279905319213867), (281, 0.008753185160458088), (143, 0.0881824716925621), (57, 0.012920819222927094), (43, 0.01465380098670721)]</td>\n",
       "      <td>...</td>\n",
       "      <td>GB</td>\n",
       "      <td>None</td>\n",
       "      <td>None</td>\n",
       "      <td>None</td>\n",
       "      <td>3</td>\n",
       "      <td>None</td>\n",
       "      <td>890</td>\n",
       "      <td>522</td>\n",
       "      <td>3</td>\n",
       "      <td>8</td>\n",
       "    </tr>\n",
       "    <tr>\n",
       "      <th>3</th>\n",
       "      <td>12873428</td>\n",
       "      <td>160698</td>\n",
       "      <td>0</td>\n",
       "      <td>True</td>\n",
       "      <td>1400277</td>\n",
       "      <td>16162</td>\n",
       "      <td>185</td>\n",
       "      <td>[(33, 0.06512783467769623), (236, 0.06510519236326218)]</td>\n",
       "      <td>[(4bfa9c9df93858e569181a3a948c6a65, 0.20303639769554138), (e4bcabf3729ff7c1db2c5fa626ae3304, 0.20155403017997742)]</td>\n",
       "      <td>[(235, 0.039750855416059494), (89, 0.06759750843048096), (198, 0.026800742372870445), (16, 0.021410731598734856), (248, 0.010304695926606655), (20, 0.060568951070308685), (140, 0.14258135855197906), (138, 0.08946835249662399), (238, 0.024729739874601364), (285, 0.03563092276453972), (194, 0.20825890079140663), (184, 0.031643666326999664), (160, 0.15520574152469635), (66, 0.023279905319213867), (281, 0.008753185160458088), (143, 0.0881824716925621), (57, 0.012920819222927094), (43, 0.01465380098670721)]</td>\n",
       "      <td>...</td>\n",
       "      <td>GB</td>\n",
       "      <td>None</td>\n",
       "      <td>None</td>\n",
       "      <td>None</td>\n",
       "      <td>3</td>\n",
       "      <td>None</td>\n",
       "      <td>890</td>\n",
       "      <td>522</td>\n",
       "      <td>3</td>\n",
       "      <td>8</td>\n",
       "    </tr>\n",
       "    <tr>\n",
       "      <th>4</th>\n",
       "      <td>12873428</td>\n",
       "      <td>134263</td>\n",
       "      <td>1</td>\n",
       "      <td>True</td>\n",
       "      <td>1300757</td>\n",
       "      <td>16162</td>\n",
       "      <td>185</td>\n",
       "      <td>[(172, 0.022397704422473907), (24, 0.015290997922420502), (285, 0.01293039321899414), (148, 0.009189638309180737), (197, 0.009175166487693787), (213, 0.009062024764716625), (230, 0.009052719920873642), (40, 0.00891966838389635)]</td>\n",
       "      <td>[(fdd12b5412150aa2708d221a227d3fac, 0.8454307913780212), (c78ba28c8570a4bf2e2e961125f09bb4, 0.2937357425689697), (c2fc7fcd857516420db7f162090ffa53, 0.29333817958831787)]</td>\n",
       "      <td>[(235, 0.039750855416059494), (89, 0.06759750843048096), (198, 0.026800742372870445), (16, 0.021410731598734856), (248, 0.010304695926606655), (20, 0.060568951070308685), (140, 0.14258135855197906), (138, 0.08946835249662399), (238, 0.024729739874601364), (285, 0.03563092276453972), (194, 0.20825890079140663), (184, 0.031643666326999664), (160, 0.15520574152469635), (66, 0.023279905319213867), (281, 0.008753185160458088), (143, 0.0881824716925621), (57, 0.012920819222927094), (43, 0.01465380098670721)]</td>\n",
       "      <td>...</td>\n",
       "      <td>GB</td>\n",
       "      <td>None</td>\n",
       "      <td>None</td>\n",
       "      <td>None</td>\n",
       "      <td>3</td>\n",
       "      <td>None</td>\n",
       "      <td>890</td>\n",
       "      <td>522</td>\n",
       "      <td>3</td>\n",
       "      <td>8</td>\n",
       "    </tr>\n",
       "    <tr>\n",
       "      <th>5</th>\n",
       "      <td>12873428</td>\n",
       "      <td>466073</td>\n",
       "      <td>0</td>\n",
       "      <td>True</td>\n",
       "      <td>2288665</td>\n",
       "      <td>31899</td>\n",
       "      <td>1108</td>\n",
       "      <td>[(16, 0.10214273631572723), (20, 0.04823550209403038), (107, 0.023016734048724174), (66, 0.021589327603578568), (197, 0.017276756465435028), (207, 0.015954280272126198), (279, 0.015454116277396679), (95, 0.015127060003578663), (78, 0.014011078514158726)]</td>\n",
       "      <td>[(236d70dbc74929e836b866c17aa4a027, 0.23509405553340912), (40de0c9a96d779fb5c8391a86acb1c31, 0.23425565659999847), (1f126ba37e5374dd7f5da63cfb2a3e16, 0.22541560232639313), (12e704c76d25ed5a79c782fdccc345f9, 0.22539019584655762)]</td>\n",
       "      <td>[(235, 0.039750855416059494), (89, 0.06759750843048096), (198, 0.026800742372870445), (16, 0.021410731598734856), (248, 0.010304695926606655), (20, 0.060568951070308685), (140, 0.14258135855197906), (138, 0.08946835249662399), (238, 0.024729739874601364), (285, 0.03563092276453972), (194, 0.20825890079140663), (184, 0.031643666326999664), (160, 0.15520574152469635), (66, 0.023279905319213867), (281, 0.008753185160458088), (143, 0.0881824716925621), (57, 0.012920819222927094), (43, 0.01465380098670721)]</td>\n",
       "      <td>...</td>\n",
       "      <td>GB</td>\n",
       "      <td>None</td>\n",
       "      <td>None</td>\n",
       "      <td>None</td>\n",
       "      <td>3</td>\n",
       "      <td>None</td>\n",
       "      <td>890</td>\n",
       "      <td>522</td>\n",
       "      <td>3</td>\n",
       "      <td>8</td>\n",
       "    </tr>\n",
       "    <tr>\n",
       "      <th>6</th>\n",
       "      <td>18242074</td>\n",
       "      <td>414007</td>\n",
       "      <td>0</td>\n",
       "      <td>False</td>\n",
       "      <td>1044364</td>\n",
       "      <td>31042</td>\n",
       "      <td>2643</td>\n",
       "      <td>[(102, 0.3041936457157135), (64, 0.18081216514110565)]</td>\n",
       "      <td>[(f53585877fc6afb863def1a200f98dfe, 0.5707478523254395)]</td>\n",
       "      <td>[(292, 0.01729605160653591), (13, 0.03142509609460831), (134, 0.008141109719872475), (170, 0.015575871802866459), (174, 0.06991317123174667), (226, 0.012127771973609924), (37, 0.010376828722655773), (89, 0.06759750843048096), (102, 0.025029256939888), (264, 0.021222025156021118), (138, 0.08946835249662399), (20, 0.11762174963951111), (175, 0.04697297513484955), (143, 0.13164421916007996), (181, 0.013578999787569046), (238, 0.024729739874601364), (16, 0.062412768602371216), (194, 0.04546162858605385), (285, 0.07342995703220367), (296, 0.04806884378194809)]</td>\n",
       "      <td>...</td>\n",
       "      <td>NG</td>\n",
       "      <td>None</td>\n",
       "      <td>None</td>\n",
       "      <td>None</td>\n",
       "      <td>2</td>\n",
       "      <td>None</td>\n",
       "      <td>890</td>\n",
       "      <td>522</td>\n",
       "      <td>3</td>\n",
       "      <td>8</td>\n",
       "    </tr>\n",
       "    <tr>\n",
       "      <th>7</th>\n",
       "      <td>18242074</td>\n",
       "      <td>403684</td>\n",
       "      <td>0</td>\n",
       "      <td>False</td>\n",
       "      <td>2003409</td>\n",
       "      <td>30804</td>\n",
       "      <td>287</td>\n",
       "      <td>[(102, 0.05804443359375), (62, 0.03789706155657768), (286, 0.036698926240205765), (196, 0.023732203990221024), (147, 0.01058248896151781), (38, 0.010526245459914207), (29, 0.00892612524330616)]</td>\n",
       "      <td>[(c6a257b653536e4bdb38f414fc916322, 0.7443103194236755), (3780773d0d172b1a031aa48156d1a869, 0.5108492374420166), (3eeab2debe152d022362862e85e78634, 0.3739299774169922)]</td>\n",
       "      <td>[(292, 0.01729605160653591), (13, 0.03142509609460831), (134, 0.008141109719872475), (170, 0.015575871802866459), (174, 0.06991317123174667), (226, 0.012127771973609924), (37, 0.010376828722655773), (89, 0.06759750843048096), (102, 0.025029256939888), (264, 0.021222025156021118), (138, 0.08946835249662399), (20, 0.11762174963951111), (175, 0.04697297513484955), (143, 0.13164421916007996), (181, 0.013578999787569046), (238, 0.024729739874601364), (16, 0.062412768602371216), (194, 0.04546162858605385), (285, 0.07342995703220367), (296, 0.04806884378194809)]</td>\n",
       "      <td>...</td>\n",
       "      <td>NG</td>\n",
       "      <td>None</td>\n",
       "      <td>None</td>\n",
       "      <td>None</td>\n",
       "      <td>2</td>\n",
       "      <td>None</td>\n",
       "      <td>890</td>\n",
       "      <td>522</td>\n",
       "      <td>3</td>\n",
       "      <td>8</td>\n",
       "    </tr>\n",
       "    <tr>\n",
       "      <th>8</th>\n",
       "      <td>18242074</td>\n",
       "      <td>326466</td>\n",
       "      <td>0</td>\n",
       "      <td>False</td>\n",
       "      <td>1603512</td>\n",
       "      <td>29142</td>\n",
       "      <td>2693</td>\n",
       "      <td>[(226, 0.008129012770950794)]</td>\n",
       "      <td>None</td>\n",
       "      <td>[(292, 0.01729605160653591), (13, 0.03142509609460831), (134, 0.008141109719872475), (170, 0.015575871802866459), (174, 0.06991317123174667), (226, 0.012127771973609924), (37, 0.010376828722655773), (89, 0.06759750843048096), (102, 0.025029256939888), (264, 0.021222025156021118), (138, 0.08946835249662399), (20, 0.11762174963951111), (175, 0.04697297513484955), (143, 0.13164421916007996), (181, 0.013578999787569046), (238, 0.024729739874601364), (16, 0.062412768602371216), (194, 0.04546162858605385), (285, 0.07342995703220367), (296, 0.04806884378194809)]</td>\n",
       "      <td>...</td>\n",
       "      <td>NG</td>\n",
       "      <td>None</td>\n",
       "      <td>None</td>\n",
       "      <td>None</td>\n",
       "      <td>2</td>\n",
       "      <td>None</td>\n",
       "      <td>890</td>\n",
       "      <td>522</td>\n",
       "      <td>3</td>\n",
       "      <td>8</td>\n",
       "    </tr>\n",
       "    <tr>\n",
       "      <th>9</th>\n",
       "      <td>18242074</td>\n",
       "      <td>175538</td>\n",
       "      <td>0</td>\n",
       "      <td>False</td>\n",
       "      <td>1332140</td>\n",
       "      <td>18427</td>\n",
       "      <td>3203</td>\n",
       "      <td>[(102, 0.14217115938663483), (196, 0.10281591862440109), (24, 0.016244763508439064), (204, 0.012681487016379833), (172, 0.012132858857512474)]</td>\n",
       "      <td>[(7645101187ed4972c166f14ef96c8dda, 0.4270545542240143), (0ca99dbe50a8a90098a98548dd8b0408, 0.268475204706192), (8d3c9d15580ec6e747c66c66eb46c3d4, 0.20759329199790955)]</td>\n",
       "      <td>[(292, 0.01729605160653591), (13, 0.03142509609460831), (134, 0.008141109719872475), (170, 0.015575871802866459), (174, 0.06991317123174667), (226, 0.012127771973609924), (37, 0.010376828722655773), (89, 0.06759750843048096), (102, 0.025029256939888), (264, 0.021222025156021118), (138, 0.08946835249662399), (20, 0.11762174963951111), (175, 0.04697297513484955), (143, 0.13164421916007996), (181, 0.013578999787569046), (238, 0.024729739874601364), (16, 0.062412768602371216), (194, 0.04546162858605385), (285, 0.07342995703220367), (296, 0.04806884378194809)]</td>\n",
       "      <td>...</td>\n",
       "      <td>NG</td>\n",
       "      <td>None</td>\n",
       "      <td>None</td>\n",
       "      <td>None</td>\n",
       "      <td>2</td>\n",
       "      <td>None</td>\n",
       "      <td>890</td>\n",
       "      <td>522</td>\n",
       "      <td>3</td>\n",
       "      <td>8</td>\n",
       "    </tr>\n",
       "  </tbody>\n",
       "</table>\n",
       "<p>10 rows × 22 columns</p>\n",
       "</div>"
      ],
      "text/plain": [
       "  display_id   ad_id clicked  is_train document_id campaign_id advertiser_id  \\\n",
       "0   12873428  131051       0      True     1260918       16261          2594   \n",
       "1   12873428  406558       0      True      777739       30823          3728   \n",
       "2   12873428  489368       0      True     2309382       16261          2594   \n",
       "3   12873428  160698       0      True     1400277       16162           185   \n",
       "4   12873428  134263       1      True     1300757       16162           185   \n",
       "5   12873428  466073       0      True     2288665       31899          1108   \n",
       "6   18242074  414007       0     False     1044364       31042          2643   \n",
       "7   18242074  403684       0     False     2003409       30804           287   \n",
       "8   18242074  326466       0     False     1603512       29142          2693   \n",
       "9   18242074  175538       0     False     1332140       18427          3203   \n",
       "\n",
       "                                                                                                                                                                                                                                                        ad_topics  \\\n",
       "0                                                                                                                                                                                                                                    [(285, 0.27981138229370117)]   \n",
       "1                                                                                                                                                                                                                                      [(2, 0.02897670306265354)]   \n",
       "2                                                                                                                    [(26, 0.07046321779489517), (143, 0.053482454270124435), (44, 0.039598967880010605), (247, 0.03914680331945419), (142, 0.01339764054864645)]   \n",
       "3                                                                                                                                                                                                         [(33, 0.06512783467769623), (236, 0.06510519236326218)]   \n",
       "4                            [(172, 0.022397704422473907), (24, 0.015290997922420502), (285, 0.01293039321899414), (148, 0.009189638309180737), (197, 0.009175166487693787), (213, 0.009062024764716625), (230, 0.009052719920873642), (40, 0.00891966838389635)]   \n",
       "5  [(16, 0.10214273631572723), (20, 0.04823550209403038), (107, 0.023016734048724174), (66, 0.021589327603578568), (197, 0.017276756465435028), (207, 0.015954280272126198), (279, 0.015454116277396679), (95, 0.015127060003578663), (78, 0.014011078514158726)]   \n",
       "6                                                                                                                                                                                                          [(102, 0.3041936457157135), (64, 0.18081216514110565)]   \n",
       "7                                                               [(102, 0.05804443359375), (62, 0.03789706155657768), (286, 0.036698926240205765), (196, 0.023732203990221024), (147, 0.01058248896151781), (38, 0.010526245459914207), (29, 0.00892612524330616)]   \n",
       "8                                                                                                                                                                                                                                   [(226, 0.008129012770950794)]   \n",
       "9                                                                                                                  [(102, 0.14217115938663483), (196, 0.10281591862440109), (24, 0.016244763508439064), (204, 0.012681487016379833), (172, 0.012132858857512474)]   \n",
       "\n",
       "                                                                                                                                                                                                                            ad_entities  \\\n",
       "0                                                                                                                                                                              [(e9fb4cd4ccfb2b368b80c81c6e361404, 0.9245238900184631)]   \n",
       "1                                                                                                                                                                              [(7b38fb685b3add89cebb5bba2feba79b, 0.9770570397377014)]   \n",
       "2                                                                                                                                                                               [(e9fb4cd4ccfb2b368b80c81c6e361404, 0.921190083026886)]   \n",
       "3                                                                                                                    [(4bfa9c9df93858e569181a3a948c6a65, 0.20303639769554138), (e4bcabf3729ff7c1db2c5fa626ae3304, 0.20155403017997742)]   \n",
       "4                                                             [(fdd12b5412150aa2708d221a227d3fac, 0.8454307913780212), (c78ba28c8570a4bf2e2e961125f09bb4, 0.2937357425689697), (c2fc7fcd857516420db7f162090ffa53, 0.29333817958831787)]   \n",
       "5  [(236d70dbc74929e836b866c17aa4a027, 0.23509405553340912), (40de0c9a96d779fb5c8391a86acb1c31, 0.23425565659999847), (1f126ba37e5374dd7f5da63cfb2a3e16, 0.22541560232639313), (12e704c76d25ed5a79c782fdccc345f9, 0.22539019584655762)]   \n",
       "6                                                                                                                                                                              [(f53585877fc6afb863def1a200f98dfe, 0.5707478523254395)]   \n",
       "7                                                              [(c6a257b653536e4bdb38f414fc916322, 0.7443103194236755), (3780773d0d172b1a031aa48156d1a869, 0.5108492374420166), (3eeab2debe152d022362862e85e78634, 0.3739299774169922)]   \n",
       "8                                                                                                                                                                                                                                  None   \n",
       "9                                                              [(7645101187ed4972c166f14ef96c8dda, 0.4270545542240143), (0ca99dbe50a8a90098a98548dd8b0408, 0.268475204706192), (8d3c9d15580ec6e747c66c66eb46c3d4, 0.20759329199790955)]   \n",
       "\n",
       "                                                                                                                                                                                                                                                                                                                                                                                                                                                                                                                                                                      display_topics  \\\n",
       "0                                                        [(235, 0.039750855416059494), (89, 0.06759750843048096), (198, 0.026800742372870445), (16, 0.021410731598734856), (248, 0.010304695926606655), (20, 0.060568951070308685), (140, 0.14258135855197906), (138, 0.08946835249662399), (238, 0.024729739874601364), (285, 0.03563092276453972), (194, 0.20825890079140663), (184, 0.031643666326999664), (160, 0.15520574152469635), (66, 0.023279905319213867), (281, 0.008753185160458088), (143, 0.0881824716925621), (57, 0.012920819222927094), (43, 0.01465380098670721)]   \n",
       "1                                                        [(235, 0.039750855416059494), (89, 0.06759750843048096), (198, 0.026800742372870445), (16, 0.021410731598734856), (248, 0.010304695926606655), (20, 0.060568951070308685), (140, 0.14258135855197906), (138, 0.08946835249662399), (238, 0.024729739874601364), (285, 0.03563092276453972), (194, 0.20825890079140663), (184, 0.031643666326999664), (160, 0.15520574152469635), (66, 0.023279905319213867), (281, 0.008753185160458088), (143, 0.0881824716925621), (57, 0.012920819222927094), (43, 0.01465380098670721)]   \n",
       "2                                                        [(235, 0.039750855416059494), (89, 0.06759750843048096), (198, 0.026800742372870445), (16, 0.021410731598734856), (248, 0.010304695926606655), (20, 0.060568951070308685), (140, 0.14258135855197906), (138, 0.08946835249662399), (238, 0.024729739874601364), (285, 0.03563092276453972), (194, 0.20825890079140663), (184, 0.031643666326999664), (160, 0.15520574152469635), (66, 0.023279905319213867), (281, 0.008753185160458088), (143, 0.0881824716925621), (57, 0.012920819222927094), (43, 0.01465380098670721)]   \n",
       "3                                                        [(235, 0.039750855416059494), (89, 0.06759750843048096), (198, 0.026800742372870445), (16, 0.021410731598734856), (248, 0.010304695926606655), (20, 0.060568951070308685), (140, 0.14258135855197906), (138, 0.08946835249662399), (238, 0.024729739874601364), (285, 0.03563092276453972), (194, 0.20825890079140663), (184, 0.031643666326999664), (160, 0.15520574152469635), (66, 0.023279905319213867), (281, 0.008753185160458088), (143, 0.0881824716925621), (57, 0.012920819222927094), (43, 0.01465380098670721)]   \n",
       "4                                                        [(235, 0.039750855416059494), (89, 0.06759750843048096), (198, 0.026800742372870445), (16, 0.021410731598734856), (248, 0.010304695926606655), (20, 0.060568951070308685), (140, 0.14258135855197906), (138, 0.08946835249662399), (238, 0.024729739874601364), (285, 0.03563092276453972), (194, 0.20825890079140663), (184, 0.031643666326999664), (160, 0.15520574152469635), (66, 0.023279905319213867), (281, 0.008753185160458088), (143, 0.0881824716925621), (57, 0.012920819222927094), (43, 0.01465380098670721)]   \n",
       "5                                                        [(235, 0.039750855416059494), (89, 0.06759750843048096), (198, 0.026800742372870445), (16, 0.021410731598734856), (248, 0.010304695926606655), (20, 0.060568951070308685), (140, 0.14258135855197906), (138, 0.08946835249662399), (238, 0.024729739874601364), (285, 0.03563092276453972), (194, 0.20825890079140663), (184, 0.031643666326999664), (160, 0.15520574152469635), (66, 0.023279905319213867), (281, 0.008753185160458088), (143, 0.0881824716925621), (57, 0.012920819222927094), (43, 0.01465380098670721)]   \n",
       "6  [(292, 0.01729605160653591), (13, 0.03142509609460831), (134, 0.008141109719872475), (170, 0.015575871802866459), (174, 0.06991317123174667), (226, 0.012127771973609924), (37, 0.010376828722655773), (89, 0.06759750843048096), (102, 0.025029256939888), (264, 0.021222025156021118), (138, 0.08946835249662399), (20, 0.11762174963951111), (175, 0.04697297513484955), (143, 0.13164421916007996), (181, 0.013578999787569046), (238, 0.024729739874601364), (16, 0.062412768602371216), (194, 0.04546162858605385), (285, 0.07342995703220367), (296, 0.04806884378194809)]   \n",
       "7  [(292, 0.01729605160653591), (13, 0.03142509609460831), (134, 0.008141109719872475), (170, 0.015575871802866459), (174, 0.06991317123174667), (226, 0.012127771973609924), (37, 0.010376828722655773), (89, 0.06759750843048096), (102, 0.025029256939888), (264, 0.021222025156021118), (138, 0.08946835249662399), (20, 0.11762174963951111), (175, 0.04697297513484955), (143, 0.13164421916007996), (181, 0.013578999787569046), (238, 0.024729739874601364), (16, 0.062412768602371216), (194, 0.04546162858605385), (285, 0.07342995703220367), (296, 0.04806884378194809)]   \n",
       "8  [(292, 0.01729605160653591), (13, 0.03142509609460831), (134, 0.008141109719872475), (170, 0.015575871802866459), (174, 0.06991317123174667), (226, 0.012127771973609924), (37, 0.010376828722655773), (89, 0.06759750843048096), (102, 0.025029256939888), (264, 0.021222025156021118), (138, 0.08946835249662399), (20, 0.11762174963951111), (175, 0.04697297513484955), (143, 0.13164421916007996), (181, 0.013578999787569046), (238, 0.024729739874601364), (16, 0.062412768602371216), (194, 0.04546162858605385), (285, 0.07342995703220367), (296, 0.04806884378194809)]   \n",
       "9  [(292, 0.01729605160653591), (13, 0.03142509609460831), (134, 0.008141109719872475), (170, 0.015575871802866459), (174, 0.06991317123174667), (226, 0.012127771973609924), (37, 0.010376828722655773), (89, 0.06759750843048096), (102, 0.025029256939888), (264, 0.021222025156021118), (138, 0.08946835249662399), (20, 0.11762174963951111), (175, 0.04697297513484955), (143, 0.13164421916007996), (181, 0.013578999787569046), (238, 0.024729739874601364), (16, 0.062412768602371216), (194, 0.04546162858605385), (285, 0.07342995703220367), (296, 0.04806884378194809)]   \n",
       "\n",
       "   ... country state   DMA day_of_week platform hour_in_day source_id publisher_id publish_day_of_week publish_hour  \n",
       "0  ...      GB  None  None        None        3        None       890          522                   3            8  \n",
       "1  ...      GB  None  None        None        3        None       890          522                   3            8  \n",
       "2  ...      GB  None  None        None        3        None       890          522                   3            8  \n",
       "3  ...      GB  None  None        None        3        None       890          522                   3            8  \n",
       "4  ...      GB  None  None        None        3        None       890          522                   3            8  \n",
       "5  ...      GB  None  None        None        3        None       890          522                   3            8  \n",
       "6  ...      NG  None  None        None        2        None       890          522                   3            8  \n",
       "7  ...      NG  None  None        None        2        None       890          522                   3            8  \n",
       "8  ...      NG  None  None        None        2        None       890          522                   3            8  \n",
       "9  ...      NG  None  None        None        2        None       890          522                   3            8  \n",
       "\n",
       "[10 rows x 22 columns]"
      ]
     },
     "execution_count": 34,
     "metadata": {},
     "output_type": "execute_result"
    }
   ],
   "source": [
    "se.table('features').limit(10).toPandas()"
   ]
  },
  {
   "cell_type": "code",
   "execution_count": 35,
   "metadata": {},
   "outputs": [
    {
     "name": "stdout",
     "output_type": "stream",
     "text": [
      "Row(display_id='12873428', ad_id='131051', clicked='0', is_train=True, document_id='1260918', campaign_id='16261', advertiser_id='2594', ad_topics=[Row(topic_id='285', confidence_level=0.27981138229370117)], ad_entities=[Row(entity_id='e9fb4cd4ccfb2b368b80c81c6e361404', confidence_level=0.9245238900184631)], display_topics=[Row(topic_id='235', confidence_level=0.039750855416059494), Row(topic_id='89', confidence_level=0.06759750843048096), Row(topic_id='198', confidence_level=0.026800742372870445), Row(topic_id='16', confidence_level=0.021410731598734856), Row(topic_id='248', confidence_level=0.010304695926606655), Row(topic_id='20', confidence_level=0.060568951070308685), Row(topic_id='140', confidence_level=0.14258135855197906), Row(topic_id='138', confidence_level=0.08946835249662399), Row(topic_id='238', confidence_level=0.024729739874601364), Row(topic_id='285', confidence_level=0.03563092276453972), Row(topic_id='194', confidence_level=0.20825890079140663), Row(topic_id='184', confidence_level=0.031643666326999664), Row(topic_id='160', confidence_level=0.15520574152469635), Row(topic_id='66', confidence_level=0.023279905319213867), Row(topic_id='281', confidence_level=0.008753185160458088), Row(topic_id='143', confidence_level=0.0881824716925621), Row(topic_id='57', confidence_level=0.012920819222927094), Row(topic_id='43', confidence_level=0.01465380098670721)], views=['797980', '1000240'], display_document_id='1000240', country='GB', state=None, DMA=None, day_of_week=None, platform='3', hour_in_day=None, source_id='890', publisher_id='522', publish_day_of_week=3, publish_hour=8)\n",
      "-1 12873428_131051|a ad_id_131051 document_id_1260918 campaign_id_16261 advertiser_id_2594 ad_topic_285:1.0 ad_entity_e9fb4cd4ccfb2b368b80c81c6e361404:1.0 |d display_document_id_1000240 country_GB state_None DMA_None day_of_week_None platform_3 hour_in_day_None source_id_890 publisher_id_522 publish_day_of_week_3 publish_hour_8 display_topic_235:0.0374393 display_topic_89:0.0636666 display_topic_198:0.0252422 display_topic_16:0.0201657 display_topic_248:0.00970546 display_topic_20:0.0570468 display_topic_140:0.13429 display_topic_138:0.0842656 display_topic_238:0.0232917 display_topic_285:0.0335589 display_topic_194:0.196148 display_topic_184:0.0298035 display_topic_160:0.14618 display_topic_66:0.0219261 display_topic_281:0.00824417 display_topic_143:0.0830545 display_topic_57:0.0121694 display_topic_43:0.0138017 v_797980:0.5 v_1000240:0.5 \n"
     ]
    }
   ],
   "source": [
    "# Format: [Label] [Importance] [Base] [Tag]|Namespace Features |Namespace Features ... |Namespace Features\n",
    "# https://github.com/VowpalWabbit/vowpal_wabbit/wiki/Input-format\n",
    "def vw_row_mapper(row):\n",
    "    clicked = '1' if row.clicked == '1' else '-1'\n",
    "    # item features\n",
    "    item_features = \"|a \"\n",
    "    item_features += \"ad_id_{}\".format(row.ad_id) + \" \"\n",
    "    item_features += \"document_id_{}\".format(row.document_id) + \" \"\n",
    "    item_features += \"campaign_id_{}\".format(row.campaign_id) + \" \"\n",
    "    item_features += \"advertiser_id_{}\".format(row.advertiser_id) + \" \"\n",
    "    if row.ad_topics:\n",
    "        s = sum(v for k, v in row.ad_topics)\n",
    "        item_features += \" \".join(\"ad_topic_{}:{:.6}\".format(k, v / s) for k, v in row.ad_topics) + \" \"\n",
    "    if row.ad_entities:\n",
    "        s = sum(v for k, v in row.ad_entities)\n",
    "        item_features += \" \".join(\"ad_entity_{}:{:.6}\".format(k, v / s) for k, v in row.ad_entities) + \" \"\n",
    "    # display features\n",
    "    display_features = \"|d \"\n",
    "    display_features += \"display_document_id_{}\".format(row.display_document_id) + \" \"\n",
    "    display_features += \"country_{}\".format(row.country) + \" \"\n",
    "    display_features += \"state_{}\".format(row.state) + \" \"\n",
    "    display_features += \"DMA_{}\".format(row.DMA) + \" \"\n",
    "    display_features += \"day_of_week_{}\".format(row.day_of_week) + \" \"\n",
    "    display_features += \"platform_{}\".format(row.platform) + \" \"\n",
    "    display_features += \"hour_in_day_{}\".format(row.hour_in_day) + \" \"\n",
    "    display_features += \"source_id_{}\".format(row.source_id) + \" \"\n",
    "    display_features += \"publisher_id_{}\".format(row.publisher_id) + \" \"\n",
    "    display_features += \"publish_day_of_week_{}\".format(row.publish_day_of_week) + \" \"\n",
    "    display_features += \"publish_hour_{}\".format(row.publish_hour) + \" \"\n",
    "    if row.display_topics:\n",
    "        s = sum(v for k, v in row.display_topics)\n",
    "        display_features += \" \".join(\"display_topic_{}:{:.6}\".format(k, v / s) for k, v in row.display_topics) + \" \"\n",
    "    if row.views:\n",
    "        s = float(len(row.views)) + 1e-6\n",
    "        display_features += \" \".join(\"v_{}:{:.6}\".format(k, 1 / s) for k in row.views) + \" \"\n",
    "    # tag\n",
    "    tag = row.display_id + \"_\" + row.ad_id\n",
    "    # result\n",
    "    return clicked + \" \" + tag + item_features + display_features\n",
    "\n",
    "r = se.table(\"features\").take(1)[0]\n",
    "print(r)\n",
    "print(vw_row_mapper(r))"
   ]
  },
  {
   "cell_type": "code",
   "execution_count": 36,
   "metadata": {},
   "outputs": [
    {
     "name": "stdout",
     "output_type": "stream",
     "text": [
      "Deleted /train.txt\n",
      "CPU times: user 44 ms, sys: 21.7 ms, total: 65.7 ms\n",
      "Wall time: 4min 54s\n"
     ]
    }
   ],
   "source": [
    "%%time\n",
    "! hdfs dfs -rm -r /train.txt\n",
    "(\n",
    "    se.sql(\"select * from features where is_train = true\")\n",
    "    .rdd\n",
    "    .map(vw_row_mapper)\n",
    "    .repartition(16)\n",
    "    .saveAsTextFile(\"/train.txt\")\n",
    ")"
   ]
  },
  {
   "cell_type": "code",
   "execution_count": 37,
   "metadata": {},
   "outputs": [
    {
     "name": "stdout",
     "output_type": "stream",
     "text": [
      "Deleted /test.txt\n",
      "CPU times: user 35.2 ms, sys: 21.6 ms, total: 56.7 ms\n",
      "Wall time: 2min 7s\n"
     ]
    }
   ],
   "source": [
    "%%time\n",
    "! hdfs dfs -rm -r /test.txt\n",
    "(\n",
    "    se.sql(\"select * from features where is_train = false\")\n",
    "    .rdd\n",
    "    .map(vw_row_mapper)\n",
    "    .repartition(16)\n",
    "    .saveAsTextFile(\"/test.txt\")\n",
    ")"
   ]
  },
  {
   "cell_type": "code",
   "execution_count": 38,
   "metadata": {},
   "outputs": [],
   "source": [
    "# # backup to s3\n",
    "sc.textFile(\"/train.txt\").saveAsTextFile(\"s3://large-scale-ml-hw3/train.txt\")\n",
    "sc.textFile(\"/test.txt\").saveAsTextFile(\"s3://large-scale-ml-hw3/test.txt\")"
   ]
  },
  {
   "cell_type": "code",
   "execution_count": 39,
   "metadata": {},
   "outputs": [
    {
     "ename": "Py4JJavaError",
     "evalue": "An error occurred while calling o495.saveAsTextFile.\n: org.apache.hadoop.mapred.FileAlreadyExistsException: Output directory hdfs://ip-10-0-0-82.ec2.internal:8020/train.txt already exists\n\tat org.apache.hadoop.mapred.FileOutputFormat.checkOutputSpecs(FileOutputFormat.java:131)\n\tat org.apache.spark.internal.io.HadoopMapRedWriteConfigUtil.assertConf(SparkHadoopWriter.scala:289)\n\tat org.apache.spark.internal.io.SparkHadoopWriter$.write(SparkHadoopWriter.scala:71)\n\tat org.apache.spark.rdd.PairRDDFunctions$$anonfun$saveAsHadoopDataset$1.apply$mcV$sp(PairRDDFunctions.scala:1096)\n\tat org.apache.spark.rdd.PairRDDFunctions$$anonfun$saveAsHadoopDataset$1.apply(PairRDDFunctions.scala:1094)\n\tat org.apache.spark.rdd.PairRDDFunctions$$anonfun$saveAsHadoopDataset$1.apply(PairRDDFunctions.scala:1094)\n\tat org.apache.spark.rdd.RDDOperationScope$.withScope(RDDOperationScope.scala:151)\n\tat org.apache.spark.rdd.RDDOperationScope$.withScope(RDDOperationScope.scala:112)\n\tat org.apache.spark.rdd.RDD.withScope(RDD.scala:363)\n\tat org.apache.spark.rdd.PairRDDFunctions.saveAsHadoopDataset(PairRDDFunctions.scala:1094)\n\tat org.apache.spark.rdd.PairRDDFunctions$$anonfun$saveAsHadoopFile$4.apply$mcV$sp(PairRDDFunctions.scala:1067)\n\tat org.apache.spark.rdd.PairRDDFunctions$$anonfun$saveAsHadoopFile$4.apply(PairRDDFunctions.scala:1032)\n\tat org.apache.spark.rdd.PairRDDFunctions$$anonfun$saveAsHadoopFile$4.apply(PairRDDFunctions.scala:1032)\n\tat org.apache.spark.rdd.RDDOperationScope$.withScope(RDDOperationScope.scala:151)\n\tat org.apache.spark.rdd.RDDOperationScope$.withScope(RDDOperationScope.scala:112)\n\tat org.apache.spark.rdd.RDD.withScope(RDD.scala:363)\n\tat org.apache.spark.rdd.PairRDDFunctions.saveAsHadoopFile(PairRDDFunctions.scala:1032)\n\tat org.apache.spark.rdd.PairRDDFunctions$$anonfun$saveAsHadoopFile$1.apply$mcV$sp(PairRDDFunctions.scala:958)\n\tat org.apache.spark.rdd.PairRDDFunctions$$anonfun$saveAsHadoopFile$1.apply(PairRDDFunctions.scala:958)\n\tat org.apache.spark.rdd.PairRDDFunctions$$anonfun$saveAsHadoopFile$1.apply(PairRDDFunctions.scala:958)\n\tat org.apache.spark.rdd.RDDOperationScope$.withScope(RDDOperationScope.scala:151)\n\tat org.apache.spark.rdd.RDDOperationScope$.withScope(RDDOperationScope.scala:112)\n\tat org.apache.spark.rdd.RDD.withScope(RDD.scala:363)\n\tat org.apache.spark.rdd.PairRDDFunctions.saveAsHadoopFile(PairRDDFunctions.scala:957)\n\tat org.apache.spark.rdd.RDD$$anonfun$saveAsTextFile$1.apply$mcV$sp(RDD.scala:1499)\n\tat org.apache.spark.rdd.RDD$$anonfun$saveAsTextFile$1.apply(RDD.scala:1478)\n\tat org.apache.spark.rdd.RDD$$anonfun$saveAsTextFile$1.apply(RDD.scala:1478)\n\tat org.apache.spark.rdd.RDDOperationScope$.withScope(RDDOperationScope.scala:151)\n\tat org.apache.spark.rdd.RDDOperationScope$.withScope(RDDOperationScope.scala:112)\n\tat org.apache.spark.rdd.RDD.withScope(RDD.scala:363)\n\tat org.apache.spark.rdd.RDD.saveAsTextFile(RDD.scala:1478)\n\tat org.apache.spark.api.java.JavaRDDLike$class.saveAsTextFile(JavaRDDLike.scala:550)\n\tat org.apache.spark.api.java.AbstractJavaRDDLike.saveAsTextFile(JavaRDDLike.scala:45)\n\tat sun.reflect.NativeMethodAccessorImpl.invoke0(Native Method)\n\tat sun.reflect.NativeMethodAccessorImpl.invoke(NativeMethodAccessorImpl.java:62)\n\tat sun.reflect.DelegatingMethodAccessorImpl.invoke(DelegatingMethodAccessorImpl.java:43)\n\tat java.lang.reflect.Method.invoke(Method.java:498)\n\tat py4j.reflection.MethodInvoker.invoke(MethodInvoker.java:244)\n\tat py4j.reflection.ReflectionEngine.invoke(ReflectionEngine.java:357)\n\tat py4j.Gateway.invoke(Gateway.java:282)\n\tat py4j.commands.AbstractCommand.invokeMethod(AbstractCommand.java:132)\n\tat py4j.commands.CallCommand.execute(CallCommand.java:79)\n\tat py4j.GatewayConnection.run(GatewayConnection.java:238)\n\tat java.lang.Thread.run(Thread.java:748)\n",
     "output_type": "error",
     "traceback": [
      "\u001b[0;31m---------------------------------------------------------------------------\u001b[0m",
      "\u001b[0;31mPy4JJavaError\u001b[0m                             Traceback (most recent call last)",
      "\u001b[0;32m<ipython-input-39-11b09ce903b4>\u001b[0m in \u001b[0;36m<module>\u001b[0;34m\u001b[0m\n\u001b[1;32m      1\u001b[0m \u001b[0;31m# # restore from s3\u001b[0m\u001b[0;34m\u001b[0m\u001b[0;34m\u001b[0m\u001b[0;34m\u001b[0m\u001b[0m\n\u001b[0;32m----> 2\u001b[0;31m \u001b[0msc\u001b[0m\u001b[0;34m.\u001b[0m\u001b[0mtextFile\u001b[0m\u001b[0;34m(\u001b[0m\u001b[0;34m\"s3://large-scale-ml-hw3/train.txt\"\u001b[0m\u001b[0;34m)\u001b[0m\u001b[0;34m.\u001b[0m\u001b[0mrepartition\u001b[0m\u001b[0;34m(\u001b[0m\u001b[0;36m16\u001b[0m\u001b[0;34m)\u001b[0m\u001b[0;34m.\u001b[0m\u001b[0msaveAsTextFile\u001b[0m\u001b[0;34m(\u001b[0m\u001b[0;34m\"/train.txt\"\u001b[0m\u001b[0;34m)\u001b[0m\u001b[0;34m\u001b[0m\u001b[0;34m\u001b[0m\u001b[0m\n\u001b[0m\u001b[1;32m      3\u001b[0m \u001b[0msc\u001b[0m\u001b[0;34m.\u001b[0m\u001b[0mtextFile\u001b[0m\u001b[0;34m(\u001b[0m\u001b[0;34m\"s3://large-scale-ml-hw3/test.txt\"\u001b[0m\u001b[0;34m)\u001b[0m\u001b[0;34m.\u001b[0m\u001b[0mrepartition\u001b[0m\u001b[0;34m(\u001b[0m\u001b[0;36m16\u001b[0m\u001b[0;34m)\u001b[0m\u001b[0;34m.\u001b[0m\u001b[0msaveAsTextFile\u001b[0m\u001b[0;34m(\u001b[0m\u001b[0;34m\"/test.txt\"\u001b[0m\u001b[0;34m)\u001b[0m\u001b[0;34m\u001b[0m\u001b[0;34m\u001b[0m\u001b[0m\n",
      "\u001b[0;32m/usr/lib/spark/python/pyspark/rdd.py\u001b[0m in \u001b[0;36msaveAsTextFile\u001b[0;34m(self, path, compressionCodecClass)\u001b[0m\n\u001b[1;32m   1568\u001b[0m             \u001b[0mkeyed\u001b[0m\u001b[0;34m.\u001b[0m\u001b[0m_jrdd\u001b[0m\u001b[0;34m.\u001b[0m\u001b[0mmap\u001b[0m\u001b[0;34m(\u001b[0m\u001b[0mself\u001b[0m\u001b[0;34m.\u001b[0m\u001b[0mctx\u001b[0m\u001b[0;34m.\u001b[0m\u001b[0m_jvm\u001b[0m\u001b[0;34m.\u001b[0m\u001b[0mBytesToString\u001b[0m\u001b[0;34m(\u001b[0m\u001b[0;34m)\u001b[0m\u001b[0;34m)\u001b[0m\u001b[0;34m.\u001b[0m\u001b[0msaveAsTextFile\u001b[0m\u001b[0;34m(\u001b[0m\u001b[0mpath\u001b[0m\u001b[0;34m,\u001b[0m \u001b[0mcompressionCodec\u001b[0m\u001b[0;34m)\u001b[0m\u001b[0;34m\u001b[0m\u001b[0;34m\u001b[0m\u001b[0m\n\u001b[1;32m   1569\u001b[0m         \u001b[0;32melse\u001b[0m\u001b[0;34m:\u001b[0m\u001b[0;34m\u001b[0m\u001b[0;34m\u001b[0m\u001b[0m\n\u001b[0;32m-> 1570\u001b[0;31m             \u001b[0mkeyed\u001b[0m\u001b[0;34m.\u001b[0m\u001b[0m_jrdd\u001b[0m\u001b[0;34m.\u001b[0m\u001b[0mmap\u001b[0m\u001b[0;34m(\u001b[0m\u001b[0mself\u001b[0m\u001b[0;34m.\u001b[0m\u001b[0mctx\u001b[0m\u001b[0;34m.\u001b[0m\u001b[0m_jvm\u001b[0m\u001b[0;34m.\u001b[0m\u001b[0mBytesToString\u001b[0m\u001b[0;34m(\u001b[0m\u001b[0;34m)\u001b[0m\u001b[0;34m)\u001b[0m\u001b[0;34m.\u001b[0m\u001b[0msaveAsTextFile\u001b[0m\u001b[0;34m(\u001b[0m\u001b[0mpath\u001b[0m\u001b[0;34m)\u001b[0m\u001b[0;34m\u001b[0m\u001b[0;34m\u001b[0m\u001b[0m\n\u001b[0m\u001b[1;32m   1571\u001b[0m \u001b[0;34m\u001b[0m\u001b[0m\n\u001b[1;32m   1572\u001b[0m     \u001b[0;31m# Pair functions\u001b[0m\u001b[0;34m\u001b[0m\u001b[0;34m\u001b[0m\u001b[0;34m\u001b[0m\u001b[0m\n",
      "\u001b[0;32m/usr/lib/spark/python/lib/py4j-0.10.7-src.zip/py4j/java_gateway.py\u001b[0m in \u001b[0;36m__call__\u001b[0;34m(self, *args)\u001b[0m\n\u001b[1;32m   1255\u001b[0m         \u001b[0manswer\u001b[0m \u001b[0;34m=\u001b[0m \u001b[0mself\u001b[0m\u001b[0;34m.\u001b[0m\u001b[0mgateway_client\u001b[0m\u001b[0;34m.\u001b[0m\u001b[0msend_command\u001b[0m\u001b[0;34m(\u001b[0m\u001b[0mcommand\u001b[0m\u001b[0;34m)\u001b[0m\u001b[0;34m\u001b[0m\u001b[0;34m\u001b[0m\u001b[0m\n\u001b[1;32m   1256\u001b[0m         return_value = get_return_value(\n\u001b[0;32m-> 1257\u001b[0;31m             answer, self.gateway_client, self.target_id, self.name)\n\u001b[0m\u001b[1;32m   1258\u001b[0m \u001b[0;34m\u001b[0m\u001b[0m\n\u001b[1;32m   1259\u001b[0m         \u001b[0;32mfor\u001b[0m \u001b[0mtemp_arg\u001b[0m \u001b[0;32min\u001b[0m \u001b[0mtemp_args\u001b[0m\u001b[0;34m:\u001b[0m\u001b[0;34m\u001b[0m\u001b[0;34m\u001b[0m\u001b[0m\n",
      "\u001b[0;32m/usr/lib/spark/python/pyspark/sql/utils.py\u001b[0m in \u001b[0;36mdeco\u001b[0;34m(*a, **kw)\u001b[0m\n\u001b[1;32m     61\u001b[0m     \u001b[0;32mdef\u001b[0m \u001b[0mdeco\u001b[0m\u001b[0;34m(\u001b[0m\u001b[0;34m*\u001b[0m\u001b[0ma\u001b[0m\u001b[0;34m,\u001b[0m \u001b[0;34m**\u001b[0m\u001b[0mkw\u001b[0m\u001b[0;34m)\u001b[0m\u001b[0;34m:\u001b[0m\u001b[0;34m\u001b[0m\u001b[0;34m\u001b[0m\u001b[0m\n\u001b[1;32m     62\u001b[0m         \u001b[0;32mtry\u001b[0m\u001b[0;34m:\u001b[0m\u001b[0;34m\u001b[0m\u001b[0;34m\u001b[0m\u001b[0m\n\u001b[0;32m---> 63\u001b[0;31m             \u001b[0;32mreturn\u001b[0m \u001b[0mf\u001b[0m\u001b[0;34m(\u001b[0m\u001b[0;34m*\u001b[0m\u001b[0ma\u001b[0m\u001b[0;34m,\u001b[0m \u001b[0;34m**\u001b[0m\u001b[0mkw\u001b[0m\u001b[0;34m)\u001b[0m\u001b[0;34m\u001b[0m\u001b[0;34m\u001b[0m\u001b[0m\n\u001b[0m\u001b[1;32m     64\u001b[0m         \u001b[0;32mexcept\u001b[0m \u001b[0mpy4j\u001b[0m\u001b[0;34m.\u001b[0m\u001b[0mprotocol\u001b[0m\u001b[0;34m.\u001b[0m\u001b[0mPy4JJavaError\u001b[0m \u001b[0;32mas\u001b[0m \u001b[0me\u001b[0m\u001b[0;34m:\u001b[0m\u001b[0;34m\u001b[0m\u001b[0;34m\u001b[0m\u001b[0m\n\u001b[1;32m     65\u001b[0m             \u001b[0ms\u001b[0m \u001b[0;34m=\u001b[0m \u001b[0me\u001b[0m\u001b[0;34m.\u001b[0m\u001b[0mjava_exception\u001b[0m\u001b[0;34m.\u001b[0m\u001b[0mtoString\u001b[0m\u001b[0;34m(\u001b[0m\u001b[0;34m)\u001b[0m\u001b[0;34m\u001b[0m\u001b[0;34m\u001b[0m\u001b[0m\n",
      "\u001b[0;32m/usr/lib/spark/python/lib/py4j-0.10.7-src.zip/py4j/protocol.py\u001b[0m in \u001b[0;36mget_return_value\u001b[0;34m(answer, gateway_client, target_id, name)\u001b[0m\n\u001b[1;32m    326\u001b[0m                 raise Py4JJavaError(\n\u001b[1;32m    327\u001b[0m                     \u001b[0;34m\"An error occurred while calling {0}{1}{2}.\\n\"\u001b[0m\u001b[0;34m.\u001b[0m\u001b[0;34m\u001b[0m\u001b[0;34m\u001b[0m\u001b[0m\n\u001b[0;32m--> 328\u001b[0;31m                     format(target_id, \".\", name), value)\n\u001b[0m\u001b[1;32m    329\u001b[0m             \u001b[0;32melse\u001b[0m\u001b[0;34m:\u001b[0m\u001b[0;34m\u001b[0m\u001b[0;34m\u001b[0m\u001b[0m\n\u001b[1;32m    330\u001b[0m                 raise Py4JError(\n",
      "\u001b[0;31mPy4JJavaError\u001b[0m: An error occurred while calling o495.saveAsTextFile.\n: org.apache.hadoop.mapred.FileAlreadyExistsException: Output directory hdfs://ip-10-0-0-82.ec2.internal:8020/train.txt already exists\n\tat org.apache.hadoop.mapred.FileOutputFormat.checkOutputSpecs(FileOutputFormat.java:131)\n\tat org.apache.spark.internal.io.HadoopMapRedWriteConfigUtil.assertConf(SparkHadoopWriter.scala:289)\n\tat org.apache.spark.internal.io.SparkHadoopWriter$.write(SparkHadoopWriter.scala:71)\n\tat org.apache.spark.rdd.PairRDDFunctions$$anonfun$saveAsHadoopDataset$1.apply$mcV$sp(PairRDDFunctions.scala:1096)\n\tat org.apache.spark.rdd.PairRDDFunctions$$anonfun$saveAsHadoopDataset$1.apply(PairRDDFunctions.scala:1094)\n\tat org.apache.spark.rdd.PairRDDFunctions$$anonfun$saveAsHadoopDataset$1.apply(PairRDDFunctions.scala:1094)\n\tat org.apache.spark.rdd.RDDOperationScope$.withScope(RDDOperationScope.scala:151)\n\tat org.apache.spark.rdd.RDDOperationScope$.withScope(RDDOperationScope.scala:112)\n\tat org.apache.spark.rdd.RDD.withScope(RDD.scala:363)\n\tat org.apache.spark.rdd.PairRDDFunctions.saveAsHadoopDataset(PairRDDFunctions.scala:1094)\n\tat org.apache.spark.rdd.PairRDDFunctions$$anonfun$saveAsHadoopFile$4.apply$mcV$sp(PairRDDFunctions.scala:1067)\n\tat org.apache.spark.rdd.PairRDDFunctions$$anonfun$saveAsHadoopFile$4.apply(PairRDDFunctions.scala:1032)\n\tat org.apache.spark.rdd.PairRDDFunctions$$anonfun$saveAsHadoopFile$4.apply(PairRDDFunctions.scala:1032)\n\tat org.apache.spark.rdd.RDDOperationScope$.withScope(RDDOperationScope.scala:151)\n\tat org.apache.spark.rdd.RDDOperationScope$.withScope(RDDOperationScope.scala:112)\n\tat org.apache.spark.rdd.RDD.withScope(RDD.scala:363)\n\tat org.apache.spark.rdd.PairRDDFunctions.saveAsHadoopFile(PairRDDFunctions.scala:1032)\n\tat org.apache.spark.rdd.PairRDDFunctions$$anonfun$saveAsHadoopFile$1.apply$mcV$sp(PairRDDFunctions.scala:958)\n\tat org.apache.spark.rdd.PairRDDFunctions$$anonfun$saveAsHadoopFile$1.apply(PairRDDFunctions.scala:958)\n\tat org.apache.spark.rdd.PairRDDFunctions$$anonfun$saveAsHadoopFile$1.apply(PairRDDFunctions.scala:958)\n\tat org.apache.spark.rdd.RDDOperationScope$.withScope(RDDOperationScope.scala:151)\n\tat org.apache.spark.rdd.RDDOperationScope$.withScope(RDDOperationScope.scala:112)\n\tat org.apache.spark.rdd.RDD.withScope(RDD.scala:363)\n\tat org.apache.spark.rdd.PairRDDFunctions.saveAsHadoopFile(PairRDDFunctions.scala:957)\n\tat org.apache.spark.rdd.RDD$$anonfun$saveAsTextFile$1.apply$mcV$sp(RDD.scala:1499)\n\tat org.apache.spark.rdd.RDD$$anonfun$saveAsTextFile$1.apply(RDD.scala:1478)\n\tat org.apache.spark.rdd.RDD$$anonfun$saveAsTextFile$1.apply(RDD.scala:1478)\n\tat org.apache.spark.rdd.RDDOperationScope$.withScope(RDDOperationScope.scala:151)\n\tat org.apache.spark.rdd.RDDOperationScope$.withScope(RDDOperationScope.scala:112)\n\tat org.apache.spark.rdd.RDD.withScope(RDD.scala:363)\n\tat org.apache.spark.rdd.RDD.saveAsTextFile(RDD.scala:1478)\n\tat org.apache.spark.api.java.JavaRDDLike$class.saveAsTextFile(JavaRDDLike.scala:550)\n\tat org.apache.spark.api.java.AbstractJavaRDDLike.saveAsTextFile(JavaRDDLike.scala:45)\n\tat sun.reflect.NativeMethodAccessorImpl.invoke0(Native Method)\n\tat sun.reflect.NativeMethodAccessorImpl.invoke(NativeMethodAccessorImpl.java:62)\n\tat sun.reflect.DelegatingMethodAccessorImpl.invoke(DelegatingMethodAccessorImpl.java:43)\n\tat java.lang.reflect.Method.invoke(Method.java:498)\n\tat py4j.reflection.MethodInvoker.invoke(MethodInvoker.java:244)\n\tat py4j.reflection.ReflectionEngine.invoke(ReflectionEngine.java:357)\n\tat py4j.Gateway.invoke(Gateway.java:282)\n\tat py4j.commands.AbstractCommand.invokeMethod(AbstractCommand.java:132)\n\tat py4j.commands.CallCommand.execute(CallCommand.java:79)\n\tat py4j.GatewayConnection.run(GatewayConnection.java:238)\n\tat java.lang.Thread.run(Thread.java:748)\n"
     ]
    }
   ],
   "source": [
    "# # restore from s3\n",
    "sc.textFile(\"s3://large-scale-ml-hw3/train.txt\").repartition(16).saveAsTextFile(\"/train.txt\")\n",
    "sc.textFile(\"s3://large-scale-ml-hw3/test.txt\").repartition(16).saveAsTextFile(\"/test.txt\")"
   ]
  },
  {
   "cell_type": "markdown",
   "metadata": {},
   "source": [
    "# Train VW (locally)\n",
    "https://vowpalwabbit.org/tutorials/getting_started.html\n",
    "\n",
    "https://github.com/JohnLangford/vowpal_wabbit/wiki/Command-line-arguments\n",
    "\n",
    "https://github.com/VowpalWabbit/vowpal_wabbit/wiki/Feature-interactions\n",
    "\n",
    "https://github.com/VowpalWabbit/vowpal_wabbit/wiki/Matrix-factorization-example"
   ]
  },
  {
   "cell_type": "code",
   "execution_count": 40,
   "metadata": {},
   "outputs": [
    {
     "name": "stdout",
     "output_type": "stream",
     "text": [
      "rm: cannot remove '/mnt/train.txt': No such file or directory\n",
      "-1 16009228_305679|a ad_id_305679 document_id_691081 campaign_id_28574 advertiser_id_3251 ad_topic_179:1.0 ad_entity_43f9de561730a25ac8350736a393212c:0.508343 ad_entity_96ca1b205e86efd015ca51aaaef268f7:0.491657 |d display_document_id_1019077 country_CA state_ON DMA_None day_of_week_None platform_2 hour_in_day_None source_id_1259 publisher_id_442 publish_day_of_week_None publish_hour_None display_topic_5:0.00621589 display_topic_23:0.00830464 display_topic_207:0.0153041 display_topic_89:0.0284405 display_topic_266:0.0824301 display_topic_142:0.00975843 display_topic_260:0.131898 display_topic_173:0.0114929 display_topic_296:0.0267941 display_topic_71:0.0343331 display_topic_112:0.0878748 display_topic_49:0.00654194 display_topic_181:0.0201711 display_topic_1:0.0082392 display_topic_35:0.0346118 display_topic_168:0.0186124 display_topic_258:0.0118358 display_topic_143:0.238681 display_topic_153:0.00786232 display_topic_131:0.203708 display_topic_219:0.00688978 v_815827:0.111111 v_2684088:0.111111 v_1019077:0.111111 v_825529:0.111111 v_2170136:0.111111 v_815006:0.111111 v_1774860:0.111111 v_1091552:0.111111 v_2338820:0.111111 \n",
      "110G\t/mnt/train.txt\n",
      "CPU times: user 1.77 s, sys: 536 ms, total: 2.31 s\n",
      "Wall time: 3min 32s\n"
     ]
    }
   ],
   "source": [
    "%%time\n",
    "! rm /mnt/train.txt\n",
    "! hdfs dfs -getmerge /train.txt /mnt/train.txt\n",
    "! head -n 1 /mnt/train.txt\n",
    "! du -sh /mnt/train.txt"
   ]
  },
  {
   "cell_type": "code",
   "execution_count": 35,
   "metadata": {
    "scrolled": false
   },
   "outputs": [],
   "source": [
    "# having \"1 9439386_139078|a ad_topic_285:0.2917 |d v_1833848:0.0555556\"\n",
    "# \"-q ad\" adds feature \"ad_topic_285_v_1833848:0.2917*0.0555556\"\n",
    "\n",
    "# run in bash:\n",
    "# ./vw -d /mnt/train.txt -b 24 -c -k --passes 10 -q ad --ftrl -f model --loss_function logistic --random_seed 42 --progress 4000000\n",
    "\n",
    "# after 4 hours (0.66399 on kaggle):\n",
    "# 0.429484 0.424172    764000000    764000000.0  -1.0000  -3.7267      110 h\n",
    "# 0.429459 0.424666    768000000    768000000.0  -1.0000  -2.1116       22 h\n",
    "# 0.429443 0.426491    772000000    772000000.0  -1.0000  -3.1180      220 h\n",
    "# 0.429427 0.426250    776000000    776000000.0  -1.0000  -1.4412      396 h\n",
    "# 0.429413 0.426716    780000000    780000000.0  -1.0000  -1.1197      763 h\n",
    "# 0.429397 0.426318    784000000    784000000.0  -1.0000  -0.9019       54 h"
   ]
  },
  {
   "cell_type": "markdown",
   "metadata": {},
   "source": [
    "# Train VW (parallel)"
   ]
  },
  {
   "cell_type": "code",
   "execution_count": null,
   "metadata": {},
   "outputs": [],
   "source": [
    "# run in bash:\n",
    "# ./mapscript-yarn.sh /model_parallel /train.txt\n",
    "\n",
    "# after 12 minutes (0.66610 on kaggle):\n",
    "# SGD\n",
    "# 0.499552 0.423783      9700000      9700000.0  -1.0000  -1.3010     1326 h\n",
    "# 0.498792 0.425089      9800000      9800000.0  -1.0000  -2.4354      100 h\n",
    "# BFGS\n",
    "# 1 0.41196\n",
    "# 3 0.42231"
   ]
  },
  {
   "cell_type": "markdown",
   "metadata": {},
   "source": [
    "# Submitting to Kaggle\n",
    "\n",
    "Obtain Kaggle API token: https://github.com/Kaggle/kaggle-api#api-credentials\n",
    "\n",
    "Making a submission: https://github.com/Kaggle/kaggle-api#submit-to-a-competition"
   ]
  },
  {
   "cell_type": "markdown",
   "metadata": {},
   "source": [
    "### Add kaggle's credentials - Make sure to perform following commands on master node"
   ]
  },
  {
   "cell_type": "code",
   "execution_count": null,
   "metadata": {},
   "outputs": [],
   "source": [
    "# mkdir ~/.kaggle\n",
    "# touch ~/.kaggle/kaggle.json\n",
    "# echo '{\"username\":\"<your user name>\",\"key\":\"<your key>\"}' > ~/.kaggle/kaggle.json\n",
    "# cat ~/.kaggle/kaggle.json\n",
    "# chmod 600 /home/hadoop/.kaggle/kaggle.json"
   ]
  },
  {
   "cell_type": "code",
   "execution_count": 33,
   "metadata": {},
   "outputs": [
    {
     "name": "stdout",
     "output_type": "stream",
     "text": [
      "download: s3://ydatazian/sample_submission.csv to ./sample_submission.csv\n"
     ]
    }
   ],
   "source": [
    "! aws s3 cp s3://ydatazian/sample_submission.csv ."
   ]
  },
  {
   "cell_type": "code",
   "execution_count": 34,
   "metadata": {},
   "outputs": [
    {
     "name": "stdout",
     "output_type": "stream",
     "text": [
      "display_id,ad_id\r\n",
      "16874594,66758 150083 162754 170392 172888 180797\r\n",
      "16874595,8846 30609 143982\r\n",
      "16874596,11430 57197 132820 153260 173005 288385 289122 289915\r\n",
      "16874597,137858 143981 155945 180965 182039 285834 305790 308836\r\n"
     ]
    }
   ],
   "source": [
    "# https://www.kaggle.com/c/outbrain-click-prediction/overview/evaluation\n",
    "# For each display_id in the test set, you must predict a space-delimited list of ad_ids, \n",
    "# ordered by decreasing likelihood of being clicked.\n",
    "! head -n 5 ./sample_submission.csv"
   ]
  },
  {
   "cell_type": "code",
   "execution_count": 41,
   "metadata": {},
   "outputs": [
    {
     "name": "stdout",
     "output_type": "stream",
     "text": [
      "rm: cannot remove '/mnt/test.txt': No such file or directory\n",
      "-1 19227966_275092|a ad_id_275092 document_id_1099607 campaign_id_2072 advertiser_id_1009 ad_topic_32:0.290351 ad_topic_247:0.139547 ad_topic_196:0.1034 ad_topic_183:0.0766042 ad_topic_61:0.0710612 ad_topic_260:0.0669808 ad_topic_239:0.0520491 ad_topic_102:0.0485807 ad_topic_262:0.0455575 ad_topic_142:0.0410137 ad_topic_150:0.0372438 ad_topic_54:0.0276101 ad_entity_9937887be6bb13022d536726ee2ee60f:0.246329 ad_entity_98c3efd86c7f7599f97e4290f35df999:0.190268 ad_entity_a1180dcf6e9d0a6506a9809cee2f6592:0.121037 ad_entity_689483f19d2b3aa3d7557aa80bae78e0:0.0926049 ad_entity_613328d034ef88d1ef38832427234b22:0.0794331 ad_entity_9ffc26df57639ab7fdf491f445e0fbfa:0.0743235 ad_entity_c1ada95efd67537809f30419e2d78241:0.0676253 ad_entity_caee6e11a3c24be9a7da434666e14502:0.0657926 ad_entity_76646efb6ad7df8d597dce1a6afd0d8e:0.0625856 |d display_document_id_1000864 country_US state_NY DMA_538 day_of_week_None platform_1 hour_in_day_None source_id_3308 publisher_id_151 publish_day_of_week_None publish_hour_None display_topic_199:0.0115938 display_topic_136:0.0145643 display_topic_66:0.0055772 display_topic_250:0.026474 display_topic_281:0.00492647 display_topic_18:0.00376793 display_topic_16:0.0255337 display_topic_239:0.00354571 display_topic_214:0.00201746 display_topic_65:0.0114594 display_topic_203:0.0055129 display_topic_249:0.0288982 display_topic_140:0.00408522 display_topic_227:0.00429631 display_topic_125:0.0149414 display_topic_145:0.00849797 display_topic_67:0.0131908 display_topic_231:0.0113567 display_topic_5:0.00215396 display_topic_19:0.00284044 display_topic_132:0.00211325 display_topic_215:0.00239409 display_topic_137:0.0126544 display_topic_290:0.0195722 display_topic_59:0.0385558 display_topic_236:0.0795246 display_topic_223:0.00301655 display_topic_235:0.010753 display_topic_133:0.00236187 display_topic_41:0.00990317 display_topic_183:0.00741187 display_topic_81:0.00372663 display_topic_42:0.00476922 display_topic_184:0.0426776 display_topic_291:0.00473623 display_topic_211:0.0826159 display_topic_165:0.00274543 display_topic_49:0.00644654 display_topic_20:0.00773537 display_topic_108:0.0073385 display_topic_48:0.00226872 display_topic_258:0.00757147 display_topic_72:0.0157711 display_topic_279:0.00993862 display_topic_121:0.00219677 display_topic_193:0.00317404 display_topic_155:0.0784937 display_topic_218:0.0369864 display_topic_142:0.00248229 display_topic_261:0.0385427 display_topic_153:0.0100127 display_topic_269:0.236276 v_1347756:0.0666667 v_2880458:0.0666667 v_2495371:0.0666667 v_2607570:0.0666667 v_397698:0.0666667 v_1701968:0.0666667 v_2087134:0.0666667 v_1805501:0.0666667 v_2560118:0.0666667 v_2043640:0.0666667 v_2117295:0.0666667 v_1169297:0.0666667 v_1000864:0.0666667 v_693399:0.0666667 v_949698:0.0666667 \n",
      "39G\t/mnt/test.txt\n",
      "CPU times: user 635 ms, sys: 217 ms, total: 851 ms\n",
      "Wall time: 1min 16s\n"
     ]
    }
   ],
   "source": [
    "%%time\n",
    "! rm /mnt/test.txt\n",
    "! hdfs dfs -getmerge /test.txt /mnt/test.txt\n",
    "! head -n 1 /mnt/test.txt\n",
    "! du -sh /mnt/test.txt"
   ]
  },
  {
   "cell_type": "code",
   "execution_count": 42,
   "metadata": {},
   "outputs": [
    {
     "name": "stdout",
     "output_type": "stream",
     "text": [
      "-rw-r--r-- 1 hadoop hadoop 129M Jun  7 12:08 model_parallel\r\n"
     ]
    }
   ],
   "source": [
    "# model trained with parallel vw\n",
    "! hdfs dfs -copyToLocal /model_parallel/bfgs.vwmodel.3 model_parallel\n",
    "! ls -lh model_parallel"
   ]
  },
  {
   "cell_type": "code",
   "execution_count": 43,
   "metadata": {
    "scrolled": false
   },
   "outputs": [
    {
     "name": "stdout",
     "output_type": "stream",
     "text": [
      "creating quadratic features for pairs: ad \n",
      "only testing\n",
      "predictions = /mnt/predictions.txt\n",
      "enabling BFGS based optimization **without** curvature calculation\n",
      "Num weight bits = 24\n",
      "learning rate = 0.5\n",
      "initial_t = 0\n",
      "power_t = 0.5\n",
      "m = 15\n",
      "Allocated 2176M for weights and mem\n",
      "## avg. loss \tder. mag. \td. m. cond.\t wolfe1    \twolfe2    \tmix fraction\tcurvature \tdir. magnitude\tstep size\n",
      "using no cache\n",
      "Reading datafile = /mnt/test.txt\n",
      "num sources = 1\n",
      " 1 -nan      \t-nan      \t-nan      \t          \t          \t          \tMaximum number of passes reached. If you want to optimize further, increase the number of passes\n",
      "\n",
      "finished run\n",
      "number of examples = 32225162\n",
      "weighted example sum = 32225162.000000\n",
      "weighted label sum = -32225162.000000\n",
      "average loss = 1.599684\n",
      "best constant = -1.000000\n",
      "best constant's loss = 0.000000\n",
      "total feature number = 15248008940\n",
      "0.285721 19227966_275092\n",
      "0.686221 19227966_492724\n",
      "0.155632 19227966_252938\n",
      "0.372571 19227966_367363\n",
      "0.497716 21589359_411228\n"
     ]
    }
   ],
   "source": [
    "! ./vw -d /mnt/test.txt -i model_parallel -t -k -p /mnt/predictions.txt --progress 1000000 --link=logistic\n",
    "# predicted probabilities of \"1\" class\n",
    "! head -n 5 /mnt/predictions.txt"
   ]
  },
  {
   "cell_type": "code",
   "execution_count": 44,
   "metadata": {},
   "outputs": [
    {
     "name": "stdout",
     "output_type": "stream",
     "text": [
      "32225162 /mnt/predictions.txt\r\n"
     ]
    }
   ],
   "source": [
    "! wc -l /mnt/predictions.txt"
   ]
  },
  {
   "cell_type": "code",
   "execution_count": 45,
   "metadata": {},
   "outputs": [
    {
     "data": {
      "application/vnd.jupyter.widget-view+json": {
       "model_id": "9ff89205a19947978907d0d9775803e2",
       "version_major": 2,
       "version_minor": 0
      },
      "text/plain": [
       "HBox(children=(FloatProgress(value=1.0, bar_style='info', max=1.0), HTML(value='')))"
      ]
     },
     "metadata": {},
     "output_type": "display_data"
    },
    {
     "name": "stdout",
     "output_type": "stream",
     "text": [
      "\n"
     ]
    }
   ],
   "source": [
    "from collections import defaultdict\n",
    "scores_by_display_id = defaultdict(dict)\n",
    "for line in tqdm.tqdm(open('/mnt/predictions.txt')):\n",
    "    score, tag = line.strip().split(\" \")\n",
    "    score = float(score)\n",
    "    display_id, ad_id = tag.split(\"_\")\n",
    "    scores_by_display_id[display_id][ad_id] = score"
   ]
  },
  {
   "cell_type": "code",
   "execution_count": 46,
   "metadata": {},
   "outputs": [
    {
     "data": {
      "application/vnd.jupyter.widget-view+json": {
       "model_id": "4df8629637ce428ab806a4bd6f467cb0",
       "version_major": 2,
       "version_minor": 0
      },
      "text/plain": [
       "HBox(children=(FloatProgress(value=0.0, max=6245533.0), HTML(value='')))"
      ]
     },
     "metadata": {},
     "output_type": "display_data"
    },
    {
     "name": "stdout",
     "output_type": "stream",
     "text": [
      "\n"
     ]
    }
   ],
   "source": [
    "with open(\"submission.txt\", \"w\") as f:\n",
    "    f.write(\"display_id,ad_id\\n\")\n",
    "    for k, vs in tqdm.tqdm_notebook(scores_by_display_id.items()):\n",
    "        f.write(\"{},{}\\n\".format(\n",
    "            k, \n",
    "            \" \".join([v[0] for v in sorted(vs.items(), key=lambda x: -x[1])])\n",
    "        ))"
   ]
  },
  {
   "cell_type": "code",
   "execution_count": 47,
   "metadata": {},
   "outputs": [
    {
     "name": "stdout",
     "output_type": "stream",
     "text": [
      "Warning: Your Kaggle API key is readable by other users on this system! To fix this, you can run 'chmod 600 /home/hadoop/.kaggle/kaggle.json'\n",
      "100%|########################################| 260M/260M [00:03<00:00, 86.4MB/s]\n",
      "Successfully submitted to Outbrain Click Prediction"
     ]
    }
   ],
   "source": [
    "! kaggle competitions submit -f submission.txt outbrain-click-prediction -m \"ad interactions parallel\""
   ]
  }
 ],
 "metadata": {
  "kernelspec": {
   "display_name": "Python 3",
   "language": "python",
   "name": "python3"
  },
  "language_info": {
   "codemirror_mode": {
    "name": "ipython",
    "version": 3
   },
   "file_extension": ".py",
   "mimetype": "text/x-python",
   "name": "python",
   "nbconvert_exporter": "python",
   "pygments_lexer": "ipython3",
   "version": "3.6.8"
  }
 },
 "nbformat": 4,
 "nbformat_minor": 4
}
